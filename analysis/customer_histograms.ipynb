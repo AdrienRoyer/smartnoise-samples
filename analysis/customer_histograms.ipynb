{
 "cells": [
  {
   "cell_type": "markdown",
   "metadata": {},
   "source": [
    "# Histograms\n",
    "This notebook demonstrates simple use of histograms in sn."
   ]
  },
  {
   "cell_type": "markdown",
   "metadata": {},
   "source": [
    "### Set up libraries and load exemplar dataset"
   ]
  },
  {
   "cell_type": "code",
   "execution_count": 1,
   "metadata": {},
   "outputs": [
    {
     "name": "stdout",
     "output_type": "stream",
     "text": [
      "Dimension of dataset: (2216,)\n",
      "Names of variables:   ('ID', 'Year_Birth', 'Education', 'Marital_Status', 'Income', 'Kidhome', 'Teenhome', 'Dt_Customer', 'Recency', 'MntWines', 'MntFruits', 'MntMeatProducts', 'MntFishProducts', 'MntSweetProducts', 'MntGoldProds', 'NumDealsPurchases', 'NumWebPurchases', 'NumCatalogPurchases', 'NumStorePurchases', 'NumWebVisitsMonth')\n"
     ]
    }
   ],
   "source": [
    "# load libraries\n",
    "import os\n",
    "import opendp.smartnoise.core as sn\n",
    "import numpy as np\n",
    "import math\n",
    "import statistics\n",
    "\n",
    "# establish data information\n",
    "data_path = os.path.join('.', 'data', 'grocery_customers', 'data.csv')\n",
    "var_names = [\"ID\", \"Year_Birth\", \"Education\", \"Marital_Status\", \"Income\", \"Kidhome\", \"Teenhome\",\n",
    "            \"Dt_Customer\", \"Recency\", \"MntWines\", \"MntFuits\", \"MntMeatProducts\", \"MntFishProducts\", \n",
    "            \"MntSweetProducts\", \"MntGoldProds\", \"NumDealsPurchases\", \"NumWebPurchases\", \n",
    "            \"NumCatalogPurchases\", \"NumStorePurchases\", \"NumWebVisitsMonth\" ]\n",
    "\n",
    "data = np.genfromtxt(data_path, delimiter='\\t', names=True)\n",
    "\n",
    "#remove empty rows\n",
    "data = data[~np.isnan(data[\"Income\"])]\n",
    "age = list(2021 - data[:]['Year_Birth'])\n",
    "\n",
    "print(\"Dimension of dataset: \" + str(data.shape))\n",
    "print(\"Names of variables:   \" + str(data.dtype.names))"
   ]
  },
  {
   "cell_type": "markdown",
   "metadata": {},
   "source": [
    "### Creating DP Releases of Histograms\n",
    "\n",
    "The default method for generating a histogram in SmartNoise is by releasing counts of each bin or category using the geometric mechanism.  The geometric mechanism only returns integer values for any query, so resists some vulnerabilities of DP releases from floating point approximations (see Mironov 2012).  It is also possible, however, to generate histograms from the more typical Laplace mechanism, if `protect_floating_point` is disabled.  We show both approaches below.\n",
    "\n",
    "Here we generate histograms on three types of variables:\n",
    "* A continuous variable, here `income`, where the set of numbers have to be divided into bins,\n",
    "* A boolean or dichotomous variable, here `sex`, that can only take on two values,\n",
    "* A categorical variable, here `education`, where there are distinct categories enumerated as strings.\n",
    "\n",
    "Note the education variable is coded in the data on a scale from 1 to 16, but we're leaving the coded values as strings throughout this notebook."
   ]
  },
  {
   "cell_type": "code",
   "execution_count": 48,
   "metadata": {},
   "outputs": [
    {
     "name": "stdout",
     "output_type": "stream",
     "text": [
      "Income histogram Geometric DP release:   [214 217 214 230 227 214 214 273 212 237]\n",
      "Income histogram Laplace DP release:     [229.84826428 216.09555874 233.10741152 242.24708743 195.03233147\n",
      " 218.98910581 228.09424748 215.81637859 235.19537226 230.02837409]\n",
      "Education histogram Geometric DP release:[   1    0    0    0    0 2239]\n",
      "Education histogram Laplace DP release:  [ 1.84887761e+00  3.16528568e+00 -4.28276320e+00 -3.58610863e+00\n",
      " -1.07755855e+01  2.24457731e+03]\n"
     ]
    }
   ],
   "source": [
    "income_edges = list(range(0, 100000, 10000))\n",
    "education_categories = [\"2n Cycle\", \"Graduation\", \"Master\", \"PhD\", \"Basic\" ]\n",
    "\n",
    "\n",
    "with sn.Analysis(protect_floating_point=False) as analysis:\n",
    "    data = sn.Dataset(path = data_path, column_names = var_names)\n",
    "    nsize = 2216    \n",
    "        \n",
    "    income_histogram = sn.dp_histogram(\n",
    "            sn.to_int(data['Income'], lower=0, upper=100000),\n",
    "            edges = income_edges,\n",
    "            upper = nsize,\n",
    "            null_value = -1,\n",
    "            privacy_usage = {'epsilon': 0.5}\n",
    "        )\n",
    "\n",
    "    income_prep = sn.histogram(sn.to_int(data['Income'], lower=0, upper=100000),\n",
    "                                     edges=income_edges, null_value =-1)\n",
    "    income_histogram2 = sn.laplace_mechanism(income_prep, privacy_usage={\"epsilon\": 0.5, \"delta\": .0001})\n",
    "    \n",
    "    \n",
    "    #sex_histogram = sn.dp_histogram(\n",
    "    #        sn.to_bool(data['sex'], true_label=\"0\"),\n",
    "    #        upper = nsize,\n",
    "    #        privacy_usage = {'epsilon': 0.5}\n",
    "    #    )\n",
    "    \n",
    "    #sex_prep = sn.histogram(sn.to_bool(data['sex'], true_label=\"0\"), null_value = True)\n",
    "    #sex_histogram2 = sn.laplace_mechanism(sex_prep, privacy_usage={\"epsilon\": 0.5, \"delta\": .000001})\n",
    "    \n",
    "    education_histogram = sn.dp_histogram(\n",
    "            data['Education'],\n",
    "            categories = education_categories,\n",
    "            null_value = \"-1\",\n",
    "            privacy_usage = {'epsilon': 0.5}\n",
    "        )\n",
    "\n",
    "    education_prep = sn.histogram(data['Education'],\n",
    "            categories = education_categories, null_value = \"-1\")\n",
    "    education_histogram2 = sn.laplace_mechanism(education_prep, privacy_usage={\"epsilon\": 0.5, \"delta\": .000001})\n",
    "    \n",
    "\n",
    "analysis.release()\n",
    "\n",
    "print(\"Income histogram Geometric DP release:   \" + str(income_histogram.value))\n",
    "print(\"Income histogram Laplace DP release:     \" + str(income_histogram2.value))\n",
    "\n",
    "#print(\"Sex histogram Geometric DP release:      \" + str(sex_histogram.value))\n",
    "#print(\"Sex histogram Laplace DP release:        \" + str(sex_histogram2.value))\n",
    "\n",
    "print(\"Education histogram Geometric DP release:\" + str(education_histogram.value))\n",
    "print(\"Education histogram Laplace DP release:  \" + str(education_histogram2.value))"
   ]
  },
  {
   "cell_type": "markdown",
   "metadata": {},
   "source": [
    "We can see most obviously that the releases from the Geometric mechanism are integer counts, while the Laplace releases are floating point numbers.\n",
    "\n",
    "Below, we will quickly create histograms of the actual private data, for a point of comparison to our differentially private releases:"
   ]
  },
  {
   "cell_type": "code",
   "execution_count": 52,
   "metadata": {},
   "outputs": [
    {
     "data": {
      "image/png": "[encoded data removed]",
      "text/plain": [
       "<Figure size 432x288 with 1 Axes>"
      ]
     },
     "metadata": {
      "needs_background": "light"
     },
     "output_type": "display_data"
    }
   ],
   "source": [
    "import matplotlib.pyplot as plt\n",
    "\n",
    "data = np.genfromtxt(data_path, delimiter='\\t', names=True)\n",
    "income = list(data[:]['Income'])\n",
    "#sex = list(data[:]['sex'])\n",
    "education = list(data[:]['Education'])\n",
    "\n",
    "# An \"interface\" to matplotlib.axes.Axes.hist() method\n",
    "n_income, bins, patches = plt.hist(income, bins=list(range(0,110000,10000)), color='#0504aa',\n",
    "                            alpha=0.7, rwidth=0.85)\n",
    "plt.grid(axis='y', alpha=0.75)\n",
    "plt.xlabel('Income')\n",
    "plt.ylabel('Frequency')\n",
    "plt.title('True Dataset Income Distribution')\n",
    "plt.show()\n",
    "\n",
    "#n_sex, bins, patches = plt.hist(sex, bins=[-0.5,0.5,1.5], color='#0504aa',\n",
    "#                            alpha=0.7, rwidth=0.85)\n",
    "#plt.grid(axis='y', alpha=0.75)\n",
    "#plt.xlabel('Sex')\n",
    "#plt.ylabel('Frequency')\n",
    "#plt.title('True Dataset Sex Distribution')\n",
    "#plt.show()\n",
    "#!pip3 install warnings\n",
    "#import warnings\n",
    "#dealing with bug https://stackoverflow.com/questions/40659212/futurewarning-elementwise-comparison-failed-returning-scalar-but-in-the-futur\n",
    "#with warnings.catch_warnings():\n",
    "#    warnings.simplefilter(action='ignore', category=FutureWarning)\n",
    "\n",
    "\n",
    "#print(data[1])\n",
    "#count_arr = np.bincount(education)\n",
    "#print(count_arrs)\n",
    "# Count occurrence of element '3' in numpy array\n",
    "#print('Total occurences of \"Master\" in array: ', count_arr[\"Master\"])\n",
    "\n",
    "#data = {\"Basic\": np.count_nonzero(data[\"Education\"] == \"Basic\"),\n",
    "#    \"2n cycle\": np.count_nonzero(data[\"Education\"] == \"2n Cycle\"),\n",
    "#    \"Graduation\": np.count_nonzero(data[\"Education\"] == \"Graduation\"),\n",
    "#    \"Master\": np.count_nonzero(data[\"Education\"] == \"Master\"),\n",
    "#    \"PhD\": np.count_nonzero(data[\"Education\"] == \"PhD\")}\n",
    "#names = list(data.keys())\n",
    "#values = list(data.values())\n",
    "\n",
    "#fig, axs = plt.subplots(1, 4, figsize=(9, 3), sharey=True)\n",
    "#axs[0].bar(names, values)\n",
    "#axs[1].scatter(names, values)\n",
    "#axs[2].plot(names, values)\n",
    "#fig.suptitle('Categorical Plotting')\n",
    "#plt.show()\n",
    "\n",
    "#n_educ, bins, patches = plt.hist(education, bins=list(range(1,19,1)), color='#0504aa',alpha=0.7, rwidth=0.85)\n",
    "#plt.xticks(list(range(0,5,1)), [\"2n cycle\", \"Master\", \"PhD\", \"Graduation\", \"Basic\"])\n",
    "#n_educ, patches = plt.hist(education, color='#0504aa')\n",
    "#plt.grid(axis='y', alpha=0.75)\n",
    "#plt.xlabel('Education')\n",
    "#plt.ylabel('Frequency')\n",
    "#plt.title('True Dataset Education Distribution')\n",
    "#plt.show()"
   ]
  },
  {
   "cell_type": "markdown",
   "metadata": {},
   "source": [
    "Below we can see the differentially private releases of these variables in shades of red, against the \"true\" private counts in green."
   ]
  },
  {
   "cell_type": "code",
   "execution_count": 53,
   "metadata": {},
   "outputs": [
    {
     "name": "stdout",
     "output_type": "stream",
     "text": [
      "[0, 10000, 20000, 30000, 40000, 50000, 60000, 70000, 80000, 90000]\n",
      "[ 29.  98. 243. 362. 328. 314. 334. 291. 163.  41.]\n",
      "[214 217 214 230 227 214 214 273 212 237]\n",
      "[229.84826428 216.09555874 233.10741152 242.24708743 195.03233147\n",
      " 218.98910581 228.09424748 215.81637859 235.19537226 230.02837409]\n"
     ]
    },
    {
     "ename": "ValueError",
     "evalue": "shape mismatch: objects cannot be broadcast to a single shape",
     "output_type": "error",
     "traceback": [
      "\u001b[0;31m---------------------------------------------------------------------------\u001b[0m",
      "\u001b[0;31mValueError\u001b[0m                                Traceback (most recent call last)",
      "\u001b[0;32m/tmp/ipykernel_2192/966189042.py\u001b[0m in \u001b[0;36m<module>\u001b[0;34m\u001b[0m\n\u001b[1;32m     16\u001b[0m \u001b[0minccat_left\u001b[0m \u001b[0;34m=\u001b[0m \u001b[0;34m[\u001b[0m\u001b[0mx\u001b[0m \u001b[0;34m+\u001b[0m \u001b[0mwidth\u001b[0m \u001b[0;32mfor\u001b[0m \u001b[0mx\u001b[0m \u001b[0;32min\u001b[0m \u001b[0minccat\u001b[0m\u001b[0;34m]\u001b[0m\u001b[0;34m\u001b[0m\u001b[0;34m\u001b[0m\u001b[0m\n\u001b[1;32m     17\u001b[0m \u001b[0minccat_right\u001b[0m \u001b[0;34m=\u001b[0m \u001b[0;34m[\u001b[0m\u001b[0mx\u001b[0m \u001b[0;34m+\u001b[0m \u001b[0;36m2\u001b[0m\u001b[0;34m*\u001b[0m\u001b[0mwidth\u001b[0m \u001b[0;32mfor\u001b[0m \u001b[0mx\u001b[0m \u001b[0;32min\u001b[0m \u001b[0minccat\u001b[0m\u001b[0;34m]\u001b[0m\u001b[0;34m\u001b[0m\u001b[0;34m\u001b[0m\u001b[0m\n\u001b[0;32m---> 18\u001b[0;31m \u001b[0max\u001b[0m\u001b[0;34m.\u001b[0m\u001b[0mbar\u001b[0m\u001b[0;34m(\u001b[0m\u001b[0minccat\u001b[0m\u001b[0;34m,\u001b[0m \u001b[0mn_income\u001b[0m\u001b[0;34m,\u001b[0m \u001b[0mwidth\u001b[0m\u001b[0;34m=\u001b[0m\u001b[0mwidth\u001b[0m\u001b[0;34m,\u001b[0m \u001b[0mcolor\u001b[0m\u001b[0;34m=\u001b[0m\u001b[0mcolorseq\u001b[0m\u001b[0;34m[\u001b[0m\u001b[0;36m0\u001b[0m\u001b[0;34m]\u001b[0m\u001b[0;34m,\u001b[0m \u001b[0mlabel\u001b[0m\u001b[0;34m=\u001b[0m\u001b[0;34m'True Value'\u001b[0m\u001b[0;34m)\u001b[0m\u001b[0;34m\u001b[0m\u001b[0;34m\u001b[0m\u001b[0m\n\u001b[0m\u001b[1;32m     19\u001b[0m \u001b[0max\u001b[0m\u001b[0;34m.\u001b[0m\u001b[0mbar\u001b[0m\u001b[0;34m(\u001b[0m\u001b[0minccat_left\u001b[0m\u001b[0;34m,\u001b[0m \u001b[0mincome_histogram\u001b[0m\u001b[0;34m.\u001b[0m\u001b[0mvalue\u001b[0m\u001b[0;34m,\u001b[0m \u001b[0mwidth\u001b[0m\u001b[0;34m=\u001b[0m\u001b[0mwidth\u001b[0m\u001b[0;34m,\u001b[0m \u001b[0mcolor\u001b[0m\u001b[0;34m=\u001b[0m\u001b[0mcolorseq\u001b[0m\u001b[0;34m[\u001b[0m\u001b[0;36m1\u001b[0m\u001b[0;34m]\u001b[0m\u001b[0;34m,\u001b[0m \u001b[0mlabel\u001b[0m\u001b[0;34m=\u001b[0m\u001b[0;34m'DP Geometric'\u001b[0m\u001b[0;34m)\u001b[0m\u001b[0;34m\u001b[0m\u001b[0;34m\u001b[0m\u001b[0m\n\u001b[1;32m     20\u001b[0m \u001b[0max\u001b[0m\u001b[0;34m.\u001b[0m\u001b[0mbar\u001b[0m\u001b[0;34m(\u001b[0m\u001b[0minccat_right\u001b[0m\u001b[0;34m,\u001b[0m \u001b[0mincome_histogram2\u001b[0m\u001b[0;34m.\u001b[0m\u001b[0mvalue\u001b[0m\u001b[0;34m.\u001b[0m\u001b[0mastype\u001b[0m\u001b[0;34m(\u001b[0m\u001b[0mint\u001b[0m\u001b[0;34m)\u001b[0m\u001b[0;34m,\u001b[0m \u001b[0mwidth\u001b[0m\u001b[0;34m=\u001b[0m\u001b[0mwidth\u001b[0m\u001b[0;34m,\u001b[0m \u001b[0mcolor\u001b[0m\u001b[0;34m=\u001b[0m\u001b[0mcolorseq\u001b[0m\u001b[0;34m[\u001b[0m\u001b[0;36m2\u001b[0m\u001b[0;34m]\u001b[0m\u001b[0;34m,\u001b[0m \u001b[0mlabel\u001b[0m\u001b[0;34m=\u001b[0m\u001b[0;34m'DP Laplace'\u001b[0m\u001b[0;34m)\u001b[0m\u001b[0;34m\u001b[0m\u001b[0;34m\u001b[0m\u001b[0m\n",
      "\u001b[0;32m~/smartnoise-samples/venv/lib/python3.9/site-packages/matplotlib/__init__.py\u001b[0m in \u001b[0;36minner\u001b[0;34m(ax, data, *args, **kwargs)\u001b[0m\n\u001b[1;32m   1410\u001b[0m     \u001b[0;32mdef\u001b[0m \u001b[0minner\u001b[0m\u001b[0;34m(\u001b[0m\u001b[0max\u001b[0m\u001b[0;34m,\u001b[0m \u001b[0;34m*\u001b[0m\u001b[0margs\u001b[0m\u001b[0;34m,\u001b[0m \u001b[0mdata\u001b[0m\u001b[0;34m=\u001b[0m\u001b[0;32mNone\u001b[0m\u001b[0;34m,\u001b[0m \u001b[0;34m**\u001b[0m\u001b[0mkwargs\u001b[0m\u001b[0;34m)\u001b[0m\u001b[0;34m:\u001b[0m\u001b[0;34m\u001b[0m\u001b[0;34m\u001b[0m\u001b[0m\n\u001b[1;32m   1411\u001b[0m         \u001b[0;32mif\u001b[0m \u001b[0mdata\u001b[0m \u001b[0;32mis\u001b[0m \u001b[0;32mNone\u001b[0m\u001b[0;34m:\u001b[0m\u001b[0;34m\u001b[0m\u001b[0;34m\u001b[0m\u001b[0m\n\u001b[0;32m-> 1412\u001b[0;31m             \u001b[0;32mreturn\u001b[0m \u001b[0mfunc\u001b[0m\u001b[0;34m(\u001b[0m\u001b[0max\u001b[0m\u001b[0;34m,\u001b[0m \u001b[0;34m*\u001b[0m\u001b[0mmap\u001b[0m\u001b[0;34m(\u001b[0m\u001b[0msanitize_sequence\u001b[0m\u001b[0;34m,\u001b[0m \u001b[0margs\u001b[0m\u001b[0;34m)\u001b[0m\u001b[0;34m,\u001b[0m \u001b[0;34m**\u001b[0m\u001b[0mkwargs\u001b[0m\u001b[0;34m)\u001b[0m\u001b[0;34m\u001b[0m\u001b[0;34m\u001b[0m\u001b[0m\n\u001b[0m\u001b[1;32m   1413\u001b[0m \u001b[0;34m\u001b[0m\u001b[0m\n\u001b[1;32m   1414\u001b[0m         \u001b[0mbound\u001b[0m \u001b[0;34m=\u001b[0m \u001b[0mnew_sig\u001b[0m\u001b[0;34m.\u001b[0m\u001b[0mbind\u001b[0m\u001b[0;34m(\u001b[0m\u001b[0max\u001b[0m\u001b[0;34m,\u001b[0m \u001b[0;34m*\u001b[0m\u001b[0margs\u001b[0m\u001b[0;34m,\u001b[0m \u001b[0;34m**\u001b[0m\u001b[0mkwargs\u001b[0m\u001b[0;34m)\u001b[0m\u001b[0;34m\u001b[0m\u001b[0;34m\u001b[0m\u001b[0m\n",
      "\u001b[0;32m~/smartnoise-samples/venv/lib/python3.9/site-packages/matplotlib/axes/_axes.py\u001b[0m in \u001b[0;36mbar\u001b[0;34m(self, x, height, width, bottom, align, **kwargs)\u001b[0m\n\u001b[1;32m   2340\u001b[0m                 \u001b[0myerr\u001b[0m \u001b[0;34m=\u001b[0m \u001b[0mself\u001b[0m\u001b[0;34m.\u001b[0m\u001b[0m_convert_dx\u001b[0m\u001b[0;34m(\u001b[0m\u001b[0myerr\u001b[0m\u001b[0;34m,\u001b[0m \u001b[0my0\u001b[0m\u001b[0;34m,\u001b[0m \u001b[0my\u001b[0m\u001b[0;34m,\u001b[0m \u001b[0mself\u001b[0m\u001b[0;34m.\u001b[0m\u001b[0mconvert_yunits\u001b[0m\u001b[0;34m)\u001b[0m\u001b[0;34m\u001b[0m\u001b[0;34m\u001b[0m\u001b[0m\n\u001b[1;32m   2341\u001b[0m \u001b[0;34m\u001b[0m\u001b[0m\n\u001b[0;32m-> 2342\u001b[0;31m         x, height, width, y, linewidth, hatch = np.broadcast_arrays(\n\u001b[0m\u001b[1;32m   2343\u001b[0m             \u001b[0;31m# Make args iterable too.\u001b[0m\u001b[0;34m\u001b[0m\u001b[0;34m\u001b[0m\u001b[0m\n\u001b[1;32m   2344\u001b[0m             np.atleast_1d(x), height, width, y, linewidth, hatch)\n",
      "\u001b[0;32m<__array_function__ internals>\u001b[0m in \u001b[0;36mbroadcast_arrays\u001b[0;34m(*args, **kwargs)\u001b[0m\n",
      "\u001b[0;32m~/smartnoise-samples/venv/lib/python3.9/site-packages/numpy/lib/stride_tricks.py\u001b[0m in \u001b[0;36mbroadcast_arrays\u001b[0;34m(subok, *args)\u001b[0m\n\u001b[1;32m    536\u001b[0m     \u001b[0margs\u001b[0m \u001b[0;34m=\u001b[0m \u001b[0;34m[\u001b[0m\u001b[0mnp\u001b[0m\u001b[0;34m.\u001b[0m\u001b[0marray\u001b[0m\u001b[0;34m(\u001b[0m\u001b[0m_m\u001b[0m\u001b[0;34m,\u001b[0m \u001b[0mcopy\u001b[0m\u001b[0;34m=\u001b[0m\u001b[0;32mFalse\u001b[0m\u001b[0;34m,\u001b[0m \u001b[0msubok\u001b[0m\u001b[0;34m=\u001b[0m\u001b[0msubok\u001b[0m\u001b[0;34m)\u001b[0m \u001b[0;32mfor\u001b[0m \u001b[0m_m\u001b[0m \u001b[0;32min\u001b[0m \u001b[0margs\u001b[0m\u001b[0;34m]\u001b[0m\u001b[0;34m\u001b[0m\u001b[0;34m\u001b[0m\u001b[0m\n\u001b[1;32m    537\u001b[0m \u001b[0;34m\u001b[0m\u001b[0m\n\u001b[0;32m--> 538\u001b[0;31m     \u001b[0mshape\u001b[0m \u001b[0;34m=\u001b[0m \u001b[0m_broadcast_shape\u001b[0m\u001b[0;34m(\u001b[0m\u001b[0;34m*\u001b[0m\u001b[0margs\u001b[0m\u001b[0;34m)\u001b[0m\u001b[0;34m\u001b[0m\u001b[0;34m\u001b[0m\u001b[0m\n\u001b[0m\u001b[1;32m    539\u001b[0m \u001b[0;34m\u001b[0m\u001b[0m\n\u001b[1;32m    540\u001b[0m     \u001b[0;32mif\u001b[0m \u001b[0mall\u001b[0m\u001b[0;34m(\u001b[0m\u001b[0marray\u001b[0m\u001b[0;34m.\u001b[0m\u001b[0mshape\u001b[0m \u001b[0;34m==\u001b[0m \u001b[0mshape\u001b[0m \u001b[0;32mfor\u001b[0m \u001b[0marray\u001b[0m \u001b[0;32min\u001b[0m \u001b[0margs\u001b[0m\u001b[0;34m)\u001b[0m\u001b[0;34m:\u001b[0m\u001b[0;34m\u001b[0m\u001b[0;34m\u001b[0m\u001b[0m\n",
      "\u001b[0;32m~/smartnoise-samples/venv/lib/python3.9/site-packages/numpy/lib/stride_tricks.py\u001b[0m in \u001b[0;36m_broadcast_shape\u001b[0;34m(*args)\u001b[0m\n\u001b[1;32m    418\u001b[0m     \u001b[0;31m# use the old-iterator because np.nditer does not handle size 0 arrays\u001b[0m\u001b[0;34m\u001b[0m\u001b[0;34m\u001b[0m\u001b[0m\n\u001b[1;32m    419\u001b[0m     \u001b[0;31m# consistently\u001b[0m\u001b[0;34m\u001b[0m\u001b[0;34m\u001b[0m\u001b[0m\n\u001b[0;32m--> 420\u001b[0;31m     \u001b[0mb\u001b[0m \u001b[0;34m=\u001b[0m \u001b[0mnp\u001b[0m\u001b[0;34m.\u001b[0m\u001b[0mbroadcast\u001b[0m\u001b[0;34m(\u001b[0m\u001b[0;34m*\u001b[0m\u001b[0margs\u001b[0m\u001b[0;34m[\u001b[0m\u001b[0;34m:\u001b[0m\u001b[0;36m32\u001b[0m\u001b[0;34m]\u001b[0m\u001b[0;34m)\u001b[0m\u001b[0;34m\u001b[0m\u001b[0;34m\u001b[0m\u001b[0m\n\u001b[0m\u001b[1;32m    421\u001b[0m     \u001b[0;31m# unfortunately, it cannot handle 32 or more arguments directly\u001b[0m\u001b[0;34m\u001b[0m\u001b[0;34m\u001b[0m\u001b[0m\n\u001b[1;32m    422\u001b[0m     \u001b[0;32mfor\u001b[0m \u001b[0mpos\u001b[0m \u001b[0;32min\u001b[0m \u001b[0mrange\u001b[0m\u001b[0;34m(\u001b[0m\u001b[0;36m32\u001b[0m\u001b[0;34m,\u001b[0m \u001b[0mlen\u001b[0m\u001b[0;34m(\u001b[0m\u001b[0margs\u001b[0m\u001b[0;34m)\u001b[0m\u001b[0;34m,\u001b[0m \u001b[0;36m31\u001b[0m\u001b[0;34m)\u001b[0m\u001b[0;34m:\u001b[0m\u001b[0;34m\u001b[0m\u001b[0;34m\u001b[0m\u001b[0m\n",
      "\u001b[0;31mValueError\u001b[0m: shape mismatch: objects cannot be broadcast to a single shape"
     ]
    },
    {
     "data": {
      "image/png": "[encoded data removed]",
      "text/plain": [
       "<Figure size 432x288 with 1 Axes>"
      ]
     },
     "metadata": {
      "needs_background": "light"
     },
     "output_type": "display_data"
    }
   ],
   "source": [
    "import matplotlib.pyplot as plt\n",
    "\n",
    "colorseq = [\"forestgreen\", \"indianred\", \"orange\", \"orangered\", \"orchid\"]\n",
    "\n",
    "print(list(range(0,100000,10000)))\n",
    "\n",
    "fig = plt.figure()\n",
    "ax = fig.add_axes([0,0,1,1])\n",
    "plt.ylim([-100,500])\n",
    "#inccat = [\"10k\",\"20k\",\"30k\",\"40k\",\"50k\",\"60k\",\"70k\",\"80k\",\"90k\",\"100k\"]\n",
    "inccat = [10,20,30,40,50,60,70,80,90]\n",
    "width=3\n",
    "print(n_income)\n",
    "print(income_histogram.value)\n",
    "print(income_histogram2.value)\n",
    "inccat_left = [x + width for x in inccat]\n",
    "inccat_right = [x + 2*width for x in inccat]\n",
    "ax.bar(inccat, n_income, width=width, color=colorseq[0], label='True Value')\n",
    "ax.bar(inccat_left, income_histogram.value, width=width, color=colorseq[1], label='DP Geometric')\n",
    "ax.bar(inccat_right, income_histogram2.value.astype(int), width=width, color=colorseq[2], label='DP Laplace')\n",
    "ax.legend()\n",
    "plt.title('Histogram of Income')\n",
    "plt.xlabel('Income, in thousands')\n",
    "plt.ylabel('Count')\n",
    "plt.show()\n",
    "\n",
    "\n",
    "\n",
    "#fig = plt.figure()\n",
    "#ax = fig.add_axes([0,0,1,1])\n",
    "#plt.ylim([0,800])\n",
    "#sexcat = [0,1]\n",
    "#width = 0.2\n",
    "#sexcat_left = [x + width for x in sexcat]\n",
    "#sexcat_right = [x + 2*width for x in sexcat]\n",
    "#ax.bar(sexcat, n_sex, width=width, color=colorseq[0], label='True Value')\n",
    "#ax.bar(sexcat_left, sex_histogram.value, width=width, color=colorseq[1], label='DP Geometric')\n",
    "#ax.bar(sexcat_right, sex_histogram2.value, width=width, color=colorseq[2], label='DP Laplace')\n",
    "#ax.legend()\n",
    "#plt.title('Histogram of Sex')\n",
    "#plt.ylabel('Count')\n",
    "#plt.show()\n",
    "\n",
    "\n",
    "#fig = plt.figure()\n",
    "#ax = fig.add_axes([0,0,1,1])\n",
    "#edcat = list(range(1,18))\n",
    "#width = 0.25\n",
    "#edcat_left = [x + width for x in edcat]\n",
    "#edcat_right = [x + 2*width for x in edcat]\n",
    "#ax.bar(edcat, n_educ, width=width, color=colorseq[0], label='True Value')\n",
    "#ax.bar(edcat_left, education_histogram.value, width=width, color=colorseq[1], label='DP Geometric')\n",
    "#ax.bar(edcat_right, education_histogram2.value, width=width, color=colorseq[2], label='DP Laplace')\n",
    "#ax.legend()\n",
    "#plt.title('Histogram of Education')\n",
    "#plt.xlabel('Educational Attainment Category')\n",
    "#plt.ylabel('Count')\n",
    "#plt.show()\n"
   ]
  },
  {
   "cell_type": "markdown",
   "metadata": {},
   "source": [
    "## References\n",
    "\n",
    "Mironov, Ilya. \"On significance of the least significant bits for differential privacy.\" In Proceedings of the 2012 ACM conference on Computer and communications security, pp. 650-661. 2012."
   ]
  }
 ],
 "metadata": {
  "kernelspec": {
   "display_name": "Python 3 (ipykernel)",
   "language": "python",
   "name": "python3"
  },
  "language_info": {
   "codemirror_mode": {
    "name": "ipython",
    "version": 3
   },
   "file_extension": ".py",
   "mimetype": "text/x-python",
   "name": "python",
   "nbconvert_exporter": "python",
   "pygments_lexer": "ipython3",
   "version": "3.9.9"
  }
 },
 "nbformat": 4,
 "nbformat_minor": 4
}
