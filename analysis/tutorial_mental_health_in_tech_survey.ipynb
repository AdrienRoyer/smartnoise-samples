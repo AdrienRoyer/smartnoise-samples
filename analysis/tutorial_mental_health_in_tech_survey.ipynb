{
 "cells": [
  {
   "cell_type": "markdown",
   "metadata": {},
   "source": [
    "## Privacy-Preserving Statistical Release\n",
    "### Analysis of OSMI data \n",
    "#### Mental Health in Tech Survey"
   ]
  },
  {
   "cell_type": "markdown",
   "metadata": {},
   "source": [
    "The purpose of this demo is to showcase the utility of the OpenDP SmartNoise library. The notebook will focus on statistical releases in the *trusted curator* setting.\n",
    "\n",
    "Throughout his notebook, we make statistical queries to data with and without privacy-preserving mechanisms. As we compare query results side-by-side, we show that conclusions about the data are similar in both settings: without privacy-preserving mechanism, and with differential privacy mechanism. More precisely, the goals of this tutorial are:\n",
    "\n",
    "- serve an audience with basic understanding of differential privacy;\n",
    "- focus on reproducibility by using open data;\n",
    "- showcase the easy usability of the SmartNoise package;\n",
    "- focus on utility.\n",
    "\n",
    "\n",
    "**Disclaimer:** The present notebook is not intended to serve as a study of mental illness in the tech industry, or make any conclusions about the scenario of mental illness in tech. We use the data set as a illustrative example of the SmartNoise tool in survey and human subject studies."
   ]
  },
  {
   "cell_type": "markdown",
   "metadata": {},
   "source": [
    "## 1 Data set\n",
    "\n",
    "Mental health in tech survey data set is an open data set licensed under CC BY-SA 4.0. \n",
    "\n",
    "The data consists in 27 questions, aswered by 1,259 volunteers. For details on the data set, we refer the reader to the [Mental Health in Tech Survey](https://www.kaggle.com/osmi/mental-health-in-tech-survey)"
   ]
  },
  {
   "cell_type": "markdown",
   "metadata": {},
   "source": [
    "The data used in the analysis was preprocessed. The original age, gender and country variables were mapped into categories for our analysis. We refer the reader to the [preprocessing notebook](data/Data%20set%20processing%20-%20Mental%20Health%20in%20Tech%20Survey.ipynb) for details on variable mappings."
   ]
  },
  {
   "cell_type": "markdown",
   "metadata": {},
   "source": [
    "The analysis will be focused on the following variables:\n",
    "- **age**: age of the participant. Categorical variable with 5 categories: 21-30yo (0), 31-40yo (1), 41-50yo (2), 51-60yo (3), 60yo+ (4) \n",
    "- **gender**: gender declared by the participant, and in the survey the participants could input any string. We categorized answers as follows: Male/Man (1), Female/Woman(2), all other inputs (0).\n",
    "- **country**: participant's country of residence. We categorized answers as follows: United States (1), United Kingdom (2), Canada (3), other countries (0).\n",
    "- **remote_work**: binary value that indicates \n",
    "    if participant work remotely more than 50% of the time\n",
    "- **family_history**: binary value that indicates if the \n",
    "    participant has a family history of mental illness \n",
    "- **treatment**: Binary value that \n",
    "    indicates if the participants has seeked \n",
    "    treatment for mental illness"
   ]
  },
  {
   "cell_type": "markdown",
   "metadata": {},
   "source": [
    "## 2 Data Analysis and Exploration"
   ]
  },
  {
   "cell_type": "code",
   "execution_count": 1,
   "metadata": {},
   "outputs": [
    {
     "ename": "ModuleNotFoundError",
     "evalue": "No module named 'matplotlib'",
     "output_type": "error",
     "traceback": [
      "\u001b[0;31m---------------------------------------------------------------------------\u001b[0m",
      "\u001b[0;31mModuleNotFoundError\u001b[0m                       Traceback (most recent call last)",
      "\u001b[0;32m/tmp/ipykernel_5334/1129915628.py\u001b[0m in \u001b[0;36m<module>\u001b[0;34m\u001b[0m\n\u001b[1;32m      4\u001b[0m \u001b[0;32mimport\u001b[0m \u001b[0mopendp\u001b[0m\u001b[0;34m.\u001b[0m\u001b[0msmartnoise\u001b[0m\u001b[0;34m.\u001b[0m\u001b[0mcore\u001b[0m \u001b[0;32mas\u001b[0m \u001b[0msn\u001b[0m\u001b[0;34m\u001b[0m\u001b[0;34m\u001b[0m\u001b[0m\n\u001b[1;32m      5\u001b[0m \u001b[0;34m\u001b[0m\u001b[0m\n\u001b[0;32m----> 6\u001b[0;31m \u001b[0;32mimport\u001b[0m \u001b[0mmatplotlib\u001b[0m\u001b[0;34m.\u001b[0m\u001b[0mpyplot\u001b[0m \u001b[0;32mas\u001b[0m \u001b[0mplt\u001b[0m\u001b[0;34m\u001b[0m\u001b[0;34m\u001b[0m\u001b[0m\n\u001b[0m\u001b[1;32m      7\u001b[0m \u001b[0;32mfrom\u001b[0m \u001b[0mmatplotlib\u001b[0m\u001b[0;34m.\u001b[0m\u001b[0mgridspec\u001b[0m \u001b[0;32mimport\u001b[0m \u001b[0mGridSpec\u001b[0m\u001b[0;34m\u001b[0m\u001b[0;34m\u001b[0m\u001b[0m\n\u001b[1;32m      8\u001b[0m \u001b[0;34m\u001b[0m\u001b[0m\n",
      "\u001b[0;31mModuleNotFoundError\u001b[0m: No module named 'matplotlib'"
     ]
    }
   ],
   "source": [
    "##Import packages\n",
    "import os\n",
    "\n",
    "import opendp.smartnoise.core as sn\n",
    "\n",
    "import matplotlib.pyplot as plt\n",
    "from matplotlib.gridspec import GridSpec\n",
    "\n",
    "import numpy as np\n",
    "import pandas as pd\n",
    "import scipy.stats as ss\n",
    "\n",
    "import seaborn as sns\n",
    "sns.set(style = \"whitegrid\")\n",
    "\n",
    "%matplotlib inline"
   ]
  },
  {
   "cell_type": "code",
   "execution_count": null,
   "metadata": {},
   "outputs": [],
   "source": [
    "path = './data/survey_V2.csv'"
   ]
  },
  {
   "cell_type": "code",
   "execution_count": null,
   "metadata": {},
   "outputs": [],
   "source": [
    "survey = pd.read_csv(path)\n",
    "print('Data length: '+ str(len(survey)))\n",
    "survey.head()"
   ]
  },
  {
   "cell_type": "markdown",
   "metadata": {},
   "source": [
    "### 2.1 Characteristics of survey participants"
   ]
  },
  {
   "cell_type": "markdown",
   "metadata": {},
   "source": [
    "In the following analysis we explore the distribution of participants according to the following variables:\n",
    "- age;\n",
    "- gender;\n",
    "- country;\n",
    "- remote_work;\n",
    "- family_history; \n",
    "- treatment.\n",
    "\n",
    "We make simple histogram queries for each of the variables."
   ]
  },
  {
   "cell_type": "code",
   "execution_count": null,
   "metadata": {
    "scrolled": true
   },
   "outputs": [],
   "source": [
    "# For multicategorical variables, we define the categories as lists\n",
    "age_cat =['0','1','2','3','4']\n",
    "\n",
    "country_cat = ['0','1','2','3']\n",
    "\n",
    "gender_cat = ['0', '1', '2']\n",
    "\n",
    "var_names =list(survey.columns)\n",
    "with sn.Analysis() as analysis:\n",
    "    data = sn.Dataset(path = path, column_names = var_names)\n",
    "#Releases with Geometric Mechanism        \n",
    "    age_histogram = sn.dp_histogram(\n",
    "            data['age'],\n",
    "            categories = age_cat,\n",
    "            null_value = \"4\",\n",
    "            privacy_usage = {'epsilon': 0.1}\n",
    "        )\n",
    "    gender_histogram = sn.dp_histogram(\n",
    "            data['gender'],\n",
    "            categories = gender_cat,\n",
    "            null_value = '0',\n",
    "            privacy_usage = {'epsilon': 0.1}\n",
    "        )\n",
    "    country_histogram = sn.dp_histogram(\n",
    "            data['country'],\n",
    "            categories = country_cat,\n",
    "            null_value = '0',\n",
    "            privacy_usage = {'epsilon': 0.1}\n",
    "        )\n",
    "    remotework_histogram = sn.dp_histogram(\n",
    "            sn.cast(data['remote_work'], 'bool', true_label=\"1\"),\n",
    "            upper = 1213,\n",
    "            privacy_usage = {'epsilon': 0.1}\n",
    "        )\n",
    "    \n",
    "    family_histogram = sn.dp_histogram(\n",
    "            sn.cast(data['family_history'], 'bool', true_label=\"1\"),\n",
    "            upper = 1213,\n",
    "            privacy_usage = {'epsilon': 0.1}\n",
    "        )\n",
    "    \n",
    "    treatment_histogram = sn.dp_histogram(\n",
    "            sn.cast(data['treatment'], 'bool', true_label=\"1\"),\n",
    "            upper = 1213,\n",
    "            privacy_usage = {'epsilon': 0.1}\n",
    "        )\n",
    "    \n",
    "    \n",
    "\n",
    "analysis.release()\n",
    "\n",
    "print(\"Age histogram Geometric DP release:\" + str(np.absolute(age_histogram.value)))\n",
    "print(\"Country histogram Geometric DP release:\" + str(np.absolute(country_histogram.value)))\n",
    "print(\"Gender histogram Geometric DP release:\" + str(np.absolute(gender_histogram.value)))\n",
    "print(\"Remote Work histogram Geometric DP release:\" + str(np.absolute(remotework_histogram.value)))\n",
    "print(\"family history histogram Geometric DP release:\" + str(np.absolute(family_histogram.value)))\n",
    "print(\"treatment histogram Geometric DP release:\" + str(np.absolute(treatment_histogram.value)))"
   ]
  },
  {
   "cell_type": "markdown",
   "metadata": {},
   "source": [
    "Due to sequential composition, given $q_i$ queries, where each provide $\\epsilon_i$-*differential privacy*, the sequence of queries provides $(\\sum \\epsilon_i)$-*differential privacy*. "
   ]
  },
  {
   "cell_type": "code",
   "execution_count": null,
   "metadata": {},
   "outputs": [],
   "source": [
    "def pie_comparison(label, true_counts, dp_counts, title, subtitle1, subtitle2):\n",
    "    # Make square figures and axes\n",
    "    plt.figure(1, figsize=(20,25))\n",
    "    the_grid = GridSpec(2, 2)\n",
    "    plt.rcParams['text.color'] = '#000000'\n",
    "    plt.rcParams['axes.labelcolor']= '#000000'\n",
    "    plt.rcParams['xtick.color'] = '#000000'\n",
    "    plt.rcParams['ytick.color'] = '#000000'\n",
    "    plt.rcParams['font.size']=14\n",
    "\n",
    "    cmap = plt.get_cmap('GnBu')\n",
    "    colors = [cmap(i) for i in np.linspace(0, 1, 8)]\n",
    "\n",
    "\n",
    "    plt.subplot(the_grid[0, 0], aspect=1, title= subtitle1)\n",
    "\n",
    "    source_pie = plt.pie(true_counts, labels=label, autopct='%1.1f%%', shadow=True, colors=colors)\n",
    "\n",
    "\n",
    "    plt.subplot(the_grid[0, 1], aspect=1, title= subtitle2)\n",
    "\n",
    "    flavor_pie = plt.pie(dp_counts,labels=label, autopct='%.0f%%', shadow=True, colors=colors)\n",
    "\n",
    "    plt.suptitle(title, fontsize=24)\n",
    "\n",
    "\n",
    "    plt.show()"
   ]
  },
  {
   "cell_type": "markdown",
   "metadata": {},
   "source": [
    "### Age Distribution"
   ]
  },
  {
   "cell_type": "code",
   "execution_count": null,
   "metadata": {},
   "outputs": [],
   "source": [
    "age_true = [478, 554, 149, 26, 6]\n",
    "age_geo = age_histogram.value\n",
    "epsilon_ = 0.1\n",
    "age_labels = ['21-30 years', '30-39 years', '40-49 years',\n",
    "         '50-59 years', '60+ years']\n",
    "title = 'Comparison of Results: Geometric Mechanism - epsilon '+str(epsilon_)\n",
    "subtitle1 = 'True Counts: Age of Participants'\n",
    "subtitle2 = 'Privacy-preserving: Age of Participants'\n",
    "pie_comparison(age_labels, age_true, age_geo, title, subtitle1, subtitle2)"
   ]
  },
  {
   "cell_type": "markdown",
   "metadata": {},
   "source": [
    "## Country distribution "
   ]
  },
  {
   "cell_type": "code",
   "execution_count": null,
   "metadata": {},
   "outputs": [],
   "source": [
    "country_true = [ 240, 732, 175, 66]\n",
    "country_geo = country_histogram.value\n",
    "epsilon_ = 0.1\n",
    "country_labels = ['Other','US', 'UK','CA' ]\n",
    "title = 'Comparison of Results: Geometric Mechanism - epsilon '+str(epsilon_)\n",
    "subtitle1 = 'True Counts: Country of Participants'\n",
    "subtitle2 = 'Privacy-preserving: Country of Participants'\n",
    "pie_comparison(country_labels, country_true, country_geo, title, subtitle1, subtitle2)"
   ]
  },
  {
   "cell_type": "markdown",
   "metadata": {},
   "source": [
    "## Gender Distribution"
   ]
  },
  {
   "cell_type": "code",
   "execution_count": null,
   "metadata": {},
   "outputs": [],
   "source": [
    "gender_true = [16, 955, 242]\n",
    "gender_geo = gender_histogram.value\n",
    "epsilon_ = 0.1\n",
    "gender_labels = ['Non-binary', 'Male', 'Female']\n",
    "title = 'Comparison of Results: Geometric Mechanism - epsilon '+str(epsilon_)\n",
    "subtitle1 = 'True Counts: Gender '\n",
    "subtitle2 = 'Privacy-preserving: Gender'\n",
    "pie_comparison(gender_labels, gender_true, gender_geo, title, subtitle1, subtitle2)"
   ]
  },
  {
   "cell_type": "markdown",
   "metadata": {},
   "source": [
    "### Remote work distribution"
   ]
  },
  {
   "cell_type": "code",
   "execution_count": null,
   "metadata": {},
   "outputs": [],
   "source": [
    "remote_true = [360, 853]\n",
    "remote_geo = remotework_histogram.value\n",
    "epsilon_ = 0.1\n",
    "remote_labels = ['Does not work remotely', 'Works remotely' ]\n",
    "title = 'Comparison of Results: Geometric Mechanism - epsilon '+str(epsilon_)\n",
    "subtitle1 = 'True Counts: Remote work '\n",
    "subtitle2 = 'Privacy-preserving: Remote work'\n",
    "pie_comparison(remote_labels, remote_true, remote_geo, title, subtitle1, subtitle2)"
   ]
  },
  {
   "cell_type": "markdown",
   "metadata": {},
   "source": [
    "### Distribution of participants with family history of mental illness"
   ]
  },
  {
   "cell_type": "code",
   "execution_count": null,
   "metadata": {},
   "outputs": [],
   "source": [
    "family_true = [480, 733]\n",
    "family_geo = family_histogram.value\n",
    "epsilon_ = 0.1\n",
    "family_labels = ['Family history of MI','No family history']\n",
    "\n",
    "title = 'Comparison of Results: Geometric Mechanism - epsilon '+str(epsilon_)\n",
    "subtitle1 = 'True Counts: Family history of MI'\n",
    "subtitle2 = 'Privacy-preserving: Family history of MI'\n",
    "pie_comparison(family_labels, family_true, family_geo, title, subtitle1, subtitle2)"
   ]
  },
  {
   "cell_type": "markdown",
   "metadata": {},
   "source": [
    "### Distribution of participants diagnosed with dental illness"
   ]
  },
  {
   "cell_type": "code",
   "execution_count": null,
   "metadata": {},
   "outputs": [],
   "source": [
    "treatment_true = [615, 598]\n",
    "treatment_geo = treatment_histogram.value\n",
    "epsilon_ = 0.1\n",
    "treatment_labels = ['Not Diagnosed','Diagnosed']\n",
    "\n",
    "title = 'Comparison of Results: Geometric Mechanism - epsilon '+str(epsilon_)\n",
    "subtitle1 = 'True Counts: Participants diagnosed with MI'\n",
    "subtitle2 = 'Privacy-preserving: Participants diagnosed with MI'\n",
    "pie_comparison(treatment_labels, treatment_true, treatment_geo, title, subtitle1, subtitle2)"
   ]
  },
  {
   "cell_type": "markdown",
   "metadata": {},
   "source": [
    "### 2.2 Variable Interactions"
   ]
  },
  {
   "cell_type": "markdown",
   "metadata": {},
   "source": [
    "For the queries in the following analysis, we will make histogram queries of disjoint subsets of the data.\n",
    "\n",
    "Due to parallel composition, when queries are applied to disjoint subsets of the data, the privacy guarantee depends only on the maximum $\\epsilon_i$, not the sum."
   ]
  },
  {
   "cell_type": "code",
   "execution_count": null,
   "metadata": {},
   "outputs": [],
   "source": [
    "epsilon_ = 0.4\n",
    "with sn.Analysis() as analysis:\n",
    "    data = sn.Dataset(path = path, column_names = var_names)\n",
    "    \n",
    "    ## percentage of patients \n",
    "    ##that received treatment in each Age class\n",
    "    \n",
    "    filter_age4 =  sn.filter(data['treatment'], mask = data['age'] == '4')\n",
    "    age4_histogram = sn.dp_histogram(\n",
    "            sn.cast(filter_age4, 'bool', true_label=\"0\"),\n",
    "            upper = 6,\n",
    "            privacy_usage = {'epsilon': epsilon_}\n",
    "        )\n",
    "    filter_age3 =  sn.filter(data['treatment'], mask = data['age'] == '3')\n",
    "    age3_histogram = sn.dp_histogram(\n",
    "            sn.cast(filter_age3, 'bool', true_label=\"0\"),\n",
    "            upper = 26,\n",
    "            privacy_usage = {'epsilon': epsilon_}\n",
    "        )\n",
    "    filter_age2 =  sn.filter(data['treatment'], mask = data['age'] == '2')\n",
    "    age2_histogram = sn.dp_histogram(\n",
    "            sn.cast(filter_age2, 'bool', true_label=\"0\"),\n",
    "            upper = 149,\n",
    "            privacy_usage = {'epsilon': epsilon_}\n",
    "        )\n",
    "    filter_age1 =  sn.filter(data['treatment'], mask = data['age'] == '1')\n",
    "    age1_histogram = sn.dp_histogram(\n",
    "            sn.cast(filter_age1, 'bool', true_label=\"0\"),\n",
    "            upper = 554,\n",
    "            privacy_usage = {'epsilon': epsilon_}\n",
    "        )\n",
    "    filter_age0 =  sn.filter(data['treatment'], mask = data['age'] == '0')\n",
    "    age0_histogram = sn.dp_histogram(\n",
    "            sn.cast(filter_age0, 'bool', true_label=\"0\"),\n",
    "            upper = 478,\n",
    "            privacy_usage = {'epsilon': epsilon_}\n",
    "        )\n",
    "    \n",
    "    \n",
    "    ## percentage of patients \n",
    "    ##that received treatment in each Gender class \n",
    "    filter_gender2 =  sn.filter(data['treatment'], mask = data['gender'] == '2')\n",
    "    gender2_histogram = sn.dp_histogram(\n",
    "            sn.cast(filter_gender2, 'bool', true_label=\"0\"),\n",
    "            upper = 242,\n",
    "            privacy_usage = {'epsilon': epsilon_}\n",
    "        )\n",
    "    filter_gender1 =  sn.filter(data['treatment'], mask = data['gender'] == '1')\n",
    "    gender1_histogram = sn.dp_histogram(\n",
    "            sn.cast(filter_gender1, 'bool', true_label=\"0\"),\n",
    "            upper = 955,\n",
    "            privacy_usage = {'epsilon': epsilon_}\n",
    "        )\n",
    "    filter_gender0 =  sn.filter(data['treatment'], mask = data['gender'] == '0')\n",
    "    gender0_histogram = sn.dp_histogram(\n",
    "            sn.cast(filter_gender0, 'bool', true_label=\"0\"),\n",
    "            upper = 16,\n",
    "            privacy_usage = {'epsilon': epsilon_}\n",
    "        )\n",
    "    \n",
    "    \n",
    "    \n",
    "    ## percentage of patients \n",
    "    ##that received treatment in each country class \n",
    "    filter_country3 =  sn.filter(data['treatment'], mask = data['country'] == '3')\n",
    "    country3_histogram = sn.dp_histogram(\n",
    "            sn.cast(filter_country3, 'bool', true_label=\"0\"),\n",
    "            upper = 66,\n",
    "            privacy_usage = {'epsilon': epsilon_}\n",
    "        )\n",
    "    filter_country2 =  sn.filter(data['treatment'], mask = data['country'] == '2')\n",
    "    country2_histogram = sn.dp_histogram(\n",
    "            sn.cast(filter_country2, 'bool', true_label=\"0\"),\n",
    "            upper = 175,\n",
    "            privacy_usage = {'epsilon': epsilon_}\n",
    "        )\n",
    "    filter_country1 =  sn.filter(data['treatment'], mask = data['country'] == '1')\n",
    "    country1_histogram = sn.dp_histogram(\n",
    "            sn.cast(filter_country1, 'bool', true_label=\"0\"),\n",
    "            upper = 732,\n",
    "            privacy_usage = {'epsilon': epsilon_}\n",
    "        )\n",
    "    filter_country0 =  sn.filter(data['treatment'], mask = data['country'] == '0')\n",
    "    country0_histogram = sn.dp_histogram(\n",
    "            sn.cast(filter_country0, 'bool', true_label=\"0\"),\n",
    "            upper = 240,\n",
    "            privacy_usage = {'epsilon': epsilon_}\n",
    "        )\n",
    "    \n",
    "    \n",
    "    ## percentage of patients \n",
    "    ##that received treatment in each class of remote work\n",
    "    filter_remote =  sn.filter(data['treatment'], mask = data['remote_work'] == '0')\n",
    "    remote0_histogram = sn.dp_histogram(\n",
    "            sn.cast(filter_remote, 'bool', true_label=\"0\"),\n",
    "            upper = 853,\n",
    "            privacy_usage = {'epsilon': epsilon_}\n",
    "        )\n",
    "    \n",
    "    filter_remote2 =  sn.filter(data['treatment'], mask = data['remote_work'] == '1')\n",
    "    remote1_histogram = sn.dp_histogram(\n",
    "            sn.cast(filter_remote2, 'bool', true_label=\"0\"),\n",
    "            upper = 360,\n",
    "            privacy_usage = {'epsilon': epsilon_}\n",
    "        )\n",
    "    \n",
    "\n",
    "    ## percentage of patients \n",
    "    ##that received treatment in each class of family history\n",
    "    filtered =  sn.filter(data['treatment'], mask = data['family_history'] == '0')\n",
    "    family0_histogram = sn.dp_histogram(\n",
    "            sn.cast(filtered, 'bool', true_label=\"0\"),\n",
    "            upper = 733,\n",
    "            privacy_usage = {'epsilon': epsilon_}\n",
    "        )\n",
    "    \n",
    "    filtered2 =  sn.filter(data['treatment'], mask = data['family_history'] == '1')\n",
    "    family1_histogram = sn.dp_histogram(\n",
    "            sn.cast(filtered2, 'bool', true_label=\"0\"),\n",
    "            upper = 480,\n",
    "            privacy_usage = {'epsilon': epsilon_}\n",
    "        )\n",
    "    \n",
    "  \n",
    "\n",
    "analysis.release()\n"
   ]
  },
  {
   "cell_type": "markdown",
   "metadata": {},
   "source": [
    "Disposing all query results as a dataframe for our analysis. This dataframe will represent a contingency table that will display the frequency distribution of the variables.\n",
    "\n",
    "Contigency tables are heavily used in survey statistics, business intelligence, engineering and scientific research.\n",
    "\n",
    "The contingency table will allow us to explore the interrelations between two variables and also compute the Cramer's V coefficient, which is a statistic used to measure the strengh of association between two vaiables."
   ]
  },
  {
   "cell_type": "code",
   "execution_count": null,
   "metadata": {
    "scrolled": true
   },
   "outputs": [],
   "source": [
    "dpage0 = np.absolute(age0_histogram.value)\n",
    "dpage1 = np.absolute(age1_histogram.value)\n",
    "dpage2 = np.absolute(age2_histogram.value)\n",
    "dpage3 = np.absolute(age3_histogram.value)\n",
    "dpage4 = np.absolute(age4_histogram.value)\n",
    "\n",
    "age0 = survey[survey.age == 0].treatment.value_counts(sort=False)\n",
    "age1 = survey[survey.age == 1].treatment.value_counts(sort=False)\n",
    "age2 = survey[survey.age == 2].treatment.value_counts(sort=False)\n",
    "age3 = survey[survey.age == 3].treatment.value_counts(sort=False)\n",
    "age4 = survey[survey.age == 4].treatment.value_counts(sort=False)\n",
    "\n",
    "d1 = {'Group': ['21-30', '31-40', '41-50', '50-60', '60+','21-30', '31-40', '41-50', '50-60', '60+'],\n",
    "     'Process':['true value', 'true value','true value','true value','true value','privacy-preserving','privacy-preserving','privacy-preserving','privacy-preserving','privacy-preserving'],\n",
    "     'Participants on treatment MI':[ age0[1], age1[1], age2[1], age3[1], age4[1],dpage0[1], dpage1[1], dpage2[1], dpage3[1], dpage4[1]],\n",
    "     'Participants not on treatment MI':[ age0[0], age1[0], age2[0], age3[0], age4[0],dpage0[0], dpage1[0], dpage2[0], dpage3[0], dpage4[0]],\n",
    "     'Variable': 'Age'} \n",
    "\n",
    "age_df = pd.DataFrame(data=d1)\n",
    "\n",
    "gender0 = survey[survey.gender == 0].treatment.value_counts(sort=False)\n",
    "gender1 = survey[survey.gender == 1].treatment.value_counts(sort=False)\n",
    "gender2 = survey[survey.gender == 2].treatment.value_counts(sort=False)\n",
    "\n",
    "dpgender0 = np.absolute(gender0_histogram.value)\n",
    "dpgender1 = np.absolute(gender1_histogram.value)\n",
    "dpgender2 = np.absolute(gender2_histogram.value)\n",
    "\n",
    "d5 = {'Group': ['Non-binary','Male', 'Female', 'Non-binary','Male', 'Female'],\n",
    "     'Process':['true value', 'true value','true value','privacy-preserving','privacy-preserving','privacy-preserving'],\n",
    "     'Participants on treatment MI':[ gender0[1], gender1[1], gender2[1],dpgender0[1], dpgender1[1], dpgender2[1]],\n",
    "     'Participants not on treatment MI':[ gender0[0], gender1[0], gender2[0],dpgender0[0], dpgender1[0], dpgender2[0]],\n",
    "     'Variable':'Gender'} \n",
    "\n",
    "gender_df = pd.DataFrame(data=d5)\n",
    "\n",
    "\n",
    "country0 = survey[survey.country == 0].treatment.value_counts(sort=False)\n",
    "country1 = survey[survey.country == 1].treatment.value_counts(sort=False)\n",
    "country2 = survey[survey.country == 2].treatment.value_counts(sort=False)\n",
    "country3 = survey[survey.country == 3].treatment.value_counts(sort=False)\n",
    "\n",
    "dpcountry0 = np.absolute(country0_histogram.value)\n",
    "dpcountry1 = np.absolute(country1_histogram.value)\n",
    "dpcountry2 = np.absolute(country2_histogram.value)\n",
    "dpcountry3 = np.absolute(country3_histogram.value)\n",
    "\n",
    "d2 = {'Group': ['Other','US', 'UK','CA' ,'Other','US', 'UK','CA' ],\n",
    "     'Process':['true value', 'true value','true value','true value','privacy-preserving','privacy-preserving','privacy-preserving','privacy-preserving'],\n",
    "     'Participants on treatment MI':[ country0[1], country1[1], country2[1], country3[1],dpcountry0[1], dpcountry1[1], dpcountry2[1], dpcountry3[1]],\n",
    "     'Participants not on treatment MI':[ country0[0], country1[0], country2[0], country3[0],dpcountry0[0], dpcountry1[0], dpcountry2[0], dpcountry3[0]],\n",
    "     'Variable':'Country'} \n",
    "\n",
    "country_df = pd.DataFrame(data=d2)"
   ]
  },
  {
   "cell_type": "code",
   "execution_count": null,
   "metadata": {},
   "outputs": [],
   "source": [
    "dpremote0 = np.absolute(remote0_histogram.value)\n",
    "dpremote1 = np.absolute(remote1_histogram.value)\n",
    "dpfamily0 = np.absolute(family0_histogram.value)\n",
    "dpfamily1 = np.absolute(family1_histogram.value)\n",
    "\n",
    "remote0 = survey[survey.remote_work == 0].treatment.value_counts(sort=False)\n",
    "remote1 = survey[survey.remote_work == 1].treatment.value_counts(sort=False)\n",
    "family0 = survey[survey.family_history == 0].treatment.value_counts(sort=False)\n",
    "family1 = survey[survey.family_history == 1].treatment.value_counts(sort=False)\n",
    "\n",
    "d3 = {'Group': ['Does not work remotely', 'Works remotely', 'Does not work remotely', 'Works remotely'],\n",
    "     'Process':['true value', 'true value','privacy-preserving','privacy-preserving'],\n",
    "     'Participants on treatment MI':[ remote0[1], remote1[1],dpremote0[1], dpremote1[1]],\n",
    "     'Participants not on treatment MI':[ remote0[0], remote1[0],dpremote0[0], dpremote1[0]],\n",
    "     'Variable': 'Remote work'} \n",
    "\n",
    "remote_df = pd.DataFrame(data=d3)\n",
    "\n",
    "d4 = {'Group': ['No family history','Family history of MI','No family history','Family history of MI'],\n",
    "     'Process':['true value', 'true value','privacy-preserving','privacy-preserving'],\n",
    "     'Participants on treatment MI':[ family0[1], family1[1], dpfamily0[1], dpfamily1[1]],\n",
    "     'Participants not on treatment MI':[ family0[0], family1[0], dpfamily0[0], dpfamily1[0]],\n",
    "     'Variable': 'Family history'} \n",
    "\n",
    "family_df = pd.DataFrame(data=d4)"
   ]
  },
  {
   "cell_type": "code",
   "execution_count": null,
   "metadata": {},
   "outputs": [],
   "source": [
    "dfs = [age_df, gender_df, country_df, remote_df, family_df]\n",
    "DF = pd.concat(dfs)\n",
    "DF['percentage'] = DF['Participants on treatment MI']*100/(DF['Participants not on treatment MI']+DF['Participants on treatment MI'])"
   ]
  },
  {
   "cell_type": "markdown",
   "metadata": {},
   "source": [
    "## Observation 1\n",
    "\n",
    "Participants with family history of mental illness are twice as likely to be diagnosed with mental illness, when compared with participants with no family history."
   ]
  },
  {
   "cell_type": "code",
   "execution_count": null,
   "metadata": {},
   "outputs": [],
   "source": [
    "DF[DF.Variable == 'Family history'].sort_values(['Group'])"
   ]
  },
  {
   "cell_type": "code",
   "execution_count": null,
   "metadata": {
    "scrolled": true
   },
   "outputs": [],
   "source": [
    "sns.catplot(x=\"Group\", y=\"percentage\", col=\"Process\", data=DF[DF.Variable == 'Family history'], kind=\"bar\")"
   ]
  },
  {
   "cell_type": "markdown",
   "metadata": {},
   "source": [
    "### Observation 2\n",
    "\n",
    "participants working remotetly have the same probably of being diagnosed with mental illness as participants that do not work remotely."
   ]
  },
  {
   "cell_type": "code",
   "execution_count": null,
   "metadata": {},
   "outputs": [],
   "source": [
    "DF[DF.Variable == 'Remote work'].sort_values(['Group'])"
   ]
  },
  {
   "cell_type": "code",
   "execution_count": null,
   "metadata": {},
   "outputs": [],
   "source": [
    "sns.catplot(x=\"Group\", y=\"percentage\", col=\"Process\", data=DF[DF.Variable == 'Remote work'], kind=\"bar\")"
   ]
  },
  {
   "cell_type": "markdown",
   "metadata": {},
   "source": [
    "# Privacy by design"
   ]
  },
  {
   "cell_type": "markdown",
   "metadata": {},
   "source": [
    "An adversarial researcher might try to drill down the data in order to get information about specific survey participants.\n",
    "\n",
    "Differential privacy mechanisms are designed to address such queries with suficient noise to mask the participation of any individual.\n",
    "\n",
    "In scenarios without a trusted curator, the SmartNoise library provides accuracy intervals to the researcher. An $\\alpha$-level accuracy guarantee a promise that (with probability $1-\\alpha$)\n",
    "\n",
    "$$\n",
    "M(D) \\in [M_{DP}(D)-a, M_{DP}(D)+a]\n",
    "$$\n",
    "\n",
    "where $M(D)$ is the query response of function $M$ on database $D$ without differential privacy, and $M_{DP}(D)$ is the response with differential privacy.\n",
    "\n",
    "Accuracy pitfalls and edge cases are discussed in [this notebook](https://github.com/opendifferentialprivacy/smartnoise-samples/tree/master/analysis/accuracy_pitfalls.ipynb)"
   ]
  },
  {
   "cell_type": "markdown",
   "metadata": {},
   "source": [
    "## Observation 3\n",
    "\n",
    "The US has the biggest percent of professionals in the tech industry diagnosed with mental illness (around 54%). In other countries having the lowest percentages, fewer than 40% of tech workers have been treated for mental illness."
   ]
  },
  {
   "cell_type": "code",
   "execution_count": null,
   "metadata": {},
   "outputs": [],
   "source": [
    "DF[DF.Variable == 'Country'].sort_values(['Group'])"
   ]
  },
  {
   "cell_type": "code",
   "execution_count": null,
   "metadata": {
    "scrolled": true
   },
   "outputs": [],
   "source": [
    "sns.catplot(x=\"Group\", y=\"percentage\", col=\"Process\", data=DF[DF.Variable == 'Country'], kind=\"bar\")"
   ]
  },
  {
   "cell_type": "markdown",
   "metadata": {},
   "source": [
    "## Observation 4\n",
    "\n",
    "As we explore the percentage of participants in each age group that sought MI treatment, we observe that very similar conclusions can be drawn from true values and from privacy preserving values. The exception in for age group of participants 60+ years old. \n",
    "\n",
    "As expected, in very small data partitions the distortions are greater.\n"
   ]
  },
  {
   "cell_type": "code",
   "execution_count": null,
   "metadata": {
    "scrolled": true
   },
   "outputs": [],
   "source": [
    "DF[DF.Variable == 'Age'].sort_values(['Group'])"
   ]
  },
  {
   "cell_type": "code",
   "execution_count": null,
   "metadata": {
    "scrolled": true
   },
   "outputs": [],
   "source": [
    "sns.catplot(x=\"Group\", y=\"percentage\", col=\"Process\", data=DF[DF.Variable == 'Age'], kind=\"bar\")"
   ]
  },
  {
   "cell_type": "markdown",
   "metadata": {},
   "source": [
    "# Comparing associations between variables\n",
    "### Different variables and variable 'treatment for MI'"
   ]
  },
  {
   "cell_type": "markdown",
   "metadata": {},
   "source": [
    "## Intercorrelation of two discrete variables\n",
    "\n",
    "Cramér's V, sometimes referred to as Cramér's phi (denoted as φc), is a measure of association between two nominal variables, giving a value between 0 and +1 (inclusive). It is based on Pearson's chi-squared statistic.\n",
    "\n",
    "φc is the intercorrelation of two discrete variables. and may be used with variables having two or more levels. φc is a symmetrical measure, it does not matter which variable we place in the columns and which in the rows. Also, the order of rows/columns doesn't matter, so φc may be used with nominal data types or higher (notably ordered or numerical).\n",
    "\n",
    "Source: Wikipedia"
   ]
  },
  {
   "cell_type": "code",
   "execution_count": null,
   "metadata": {},
   "outputs": [],
   "source": [
    "def cramers_stat(confusion_matrix):\n",
    "    \"\"\" calculate Cramers V statistic for categorial-categorial association.\n",
    "        uses correction from Bergsma and Wicher, \n",
    "        Journal of the Korean Statistical Society 42 (2013): 323-328\n",
    "    \"\"\"\n",
    "    chi2 = ss.chi2_contingency(confusion_matrix)[0]\n",
    "    n = sum(confusion_matrix.sum())\n",
    "    phi2 = chi2/n\n",
    "    r,k = confusion_matrix.shape\n",
    "    phi2corr = max(0, phi2 - ((k-1)*(r-1))/(n-1))    \n",
    "    rcorr = r - ((r-1)**2)/(n-1)\n",
    "    kcorr = k - ((k-1)**2)/(n-1)\n",
    "    return np.sqrt(phi2corr / min( (kcorr-1), (rcorr-1)))"
   ]
  },
  {
   "cell_type": "code",
   "execution_count": null,
   "metadata": {},
   "outputs": [],
   "source": [
    "Coefs_var = ['Family history', 'Gender', 'Remote work', 'Age', 'Country'] "
   ]
  },
  {
   "cell_type": "code",
   "execution_count": null,
   "metadata": {},
   "outputs": [],
   "source": [
    "coefs = []\n",
    "dpcoefs = []\n",
    "for variable in Coefs_var:\n",
    "    coefs.append(cramers_stat(DF[(DF.Variable == variable)&(DF.Process == 'true value')][['Participants on treatment MI', 'Participants not on treatment MI']]))\n",
    "    dpcoefs.append(cramers_stat(DF[(DF.Variable == variable)&(DF.Process == 'privacy-preserving')][['Participants on treatment MI', 'Participants not on treatment MI']]))\n"
   ]
  },
  {
   "cell_type": "code",
   "execution_count": null,
   "metadata": {},
   "outputs": [],
   "source": [
    "c = {'True Coef': coefs,\n",
    "        'Privacy Coef':dpcoefs}\n",
    "cramer_coef = pd.DataFrame(data=c, index = Coefs_var)"
   ]
  },
  {
   "cell_type": "code",
   "execution_count": null,
   "metadata": {},
   "outputs": [],
   "source": [
    "cramer_coef"
   ]
  }
 ],
 "metadata": {
  "kernelspec": {
   "display_name": "Python 3 (ipykernel)",
   "language": "python",
   "name": "python3"
  },
  "language_info": {
   "codemirror_mode": {
    "name": "ipython",
    "version": 3
   },
   "file_extension": ".py",
   "mimetype": "text/x-python",
   "name": "python",
   "nbconvert_exporter": "python",
   "pygments_lexer": "ipython3",
   "version": "3.9.9"
  }
 },
 "nbformat": 4,
 "nbformat_minor": 4
}
