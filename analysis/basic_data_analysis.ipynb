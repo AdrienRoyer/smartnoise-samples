{
 "cells": [
  {
   "cell_type": "markdown",
   "metadata": {},
   "source": [
    "# Basic PUMS Analysis with WhiteNoise\n",
    "\n",
    "This notebook will be a brief tutorial on doing data analysis within the WhiteNoise system.\n",
    "\n",
    "We will start out by setting up our environment -- loading the necessary libraries and establishing the very basic things we need to know before loading our data (the file path and variable names)."
   ]
  },
  {
   "cell_type": "code",
   "execution_count": 26,
   "metadata": {},
   "outputs": [],
   "source": [
    "# load libraries\n",
    "import os\n",
    "import sys\n",
    "import numpy as np\n",
    "import whitenoise\n",
    "import whitenoise.components as op\n",
    "\n",
    "# establish data information\n",
    "data_path = os.path.join('.', 'data', 'PUMS_california_demographics_1000', 'data.csv')\n",
    "var_names = [\"age\", \"sex\", \"educ\", \"race\", \"income\", \"married\", \"pid\"]"
   ]
  },
  {
   "cell_type": "markdown",
   "metadata": {},
   "source": [
    "### Properties\n",
    "\n",
    "The core WhiteNoise library is made up of two key pieces; the runtime and the validator. The runtime is made up of low-level algorithms and operations. The validator contains logic for combining runtime elements into more complex operations, as well as methods for determining whether or not a computation is differentially private. If an analysis plan is deemed to produce data that are not differentially private, the validator will not allow this analysis to run. Importantly, this is done independent of the underlying data.\n",
    "\n",
    "Whether or not a set of computations produces differentially private data relies on a set of properties of the data. These properties can be statically determined (without touching the actual data) and can be updated at each step of the analysis. One pair of common properties is `min/max`. For a differentially private mean, for example, the validator requires the input data to have defined lower and upper bounds. An analyst can ensure that `min/max` are set with the `clamp` component, which clamps data to a given range.  \n",
    "\n",
    "Let's say that we have access to the PUMS codebook, and thus know some basic information about the possible values for the variables in the data. This is a convenient way to have reasonable baselines for properties like `min/max`.\n",
    "\n",
    "Another common property is `n`, an estimate of the sample size of the data in question. In general, this could be based on true knowledge of the data, an educated guess, or we could produce it via a differentially private process. We know, by construction of the data set, that this is a 1,000 person sample.\n",
    "\n",
    "Yet another property is `nullity`, whether or not the validator can guarantee that results are not null. We will see what it looks like for both the `min/max` and `nullity` properties to change within an analysis. \n",
    "\n",
    "Let's start with `min/max`."
   ]
  },
  {
   "cell_type": "code",
   "execution_count": 29,
   "metadata": {},
   "outputs": [
    {
     "output_type": "stream",
     "name": "stdout",
     "text": "original properties:\narray {\n  num_records {\n  }\n  num_columns {\n    option: 1\n  }\n  nullity: true\n  c_stability {\n    data: 1.0\n  }\n  data_type: F64\n  dataset_id {\n    option: 0\n  }\n}\n\n\n\nproperties after clamping:\narray {\n  num_records {\n  }\n  num_columns {\n    option: 1\n  }\n  nullity: true\n  c_stability {\n    data: 1.0\n  }\n  data_type: F64\n  dataset_id {\n    option: 0\n  }\n  continuous {\n    minimum {\n      f64 {\n        data {\n          option: 0.0\n        }\n      }\n    }\n    maximum {\n      f64 {\n        data {\n          option: 100.0\n        }\n      }\n    }\n  }\n}\n\n\n\nproperties after multiplication:\narray {\n  num_records {\n    option: 1\n  }\n  num_columns {\n    option: 1\n  }\n  nullity: true\n  c_stability {\n    data: 1.0\n  }\n  data_type: F64\n  dataset_id {\n    option: 0\n  }\n  continuous {\n    minimum {\n      f64 {\n        data {\n          option: 0.0\n        }\n      }\n    }\n    maximum {\n      f64 {\n        data {\n          option: 200.0\n        }\n      }\n    }\n  }\n}\n\n\n\n"
    }
   ],
   "source": [
    "with whitenoise.Analysis() as analysis:\n",
    "    # load data\n",
    "    data = whitenoise.Dataset(path = data_path, column_names = var_names)\n",
    "    \n",
    "    # establish data \n",
    "    age_dt = op.cast(data['age'], 'FLOAT')\n",
    "\n",
    "    # clamp data to set min/max properties\n",
    "    clamped_age_dt = op.clamp(age_dt, min = 0., max = 100.)\n",
    "\n",
    "    # expand min/max by a factor of 2\n",
    "    clamped_age_dt_2 = op.multiply(clamped_age_dt, 2.)\n",
    "\n",
    "\n",
    "analysis.release()\n",
    "print('original properties:\\n{0}\\n\\n'.format(age_dt.properties))\n",
    "print('properties after clamping:\\n{0}\\n\\n'.format(clamped_age_dt.properties))\n",
    "print('properties after multiplication:\\n{0}\\n\\n'.format(clamped_age_dt_2.properties))"
   ]
  },
  {
   "cell_type": "markdown",
   "metadata": {},
   "source": [
    "We can now move onto `nullity`."
   ]
  },
  {
   "cell_type": "code",
   "execution_count": 27,
   "metadata": {},
   "outputs": [
    {
     "output_type": "stream",
     "name": "stdout",
     "text": "original properties:\narray {\n  num_records {\n  }\n  num_columns {\n    option: 1\n  }\n  nullity: true\n  c_stability {\n    data: 1.0\n  }\n  data_type: F64\n  dataset_id {\n    option: 0\n  }\n}\n\n\n\nproperties after imputation:\narray {\n  num_records {\n  }\n  num_columns {\n    option: 1\n  }\n  c_stability {\n    data: 1.0\n  }\n  data_type: F64\n  dataset_id {\n    option: 0\n  }\n  continuous {\n    minimum {\n      f64 {\n        data {\n        }\n      }\n    }\n    maximum {\n      f64 {\n        data {\n        }\n      }\n    }\n  }\n}\n\n\n\nproperties after multiplication:\narray {\n  num_records {\n    option: 1\n  }\n  num_columns {\n    option: 1\n  }\n  nullity: true\n  c_stability {\n    data: 1.0\n  }\n  data_type: F64\n  dataset_id {\n    option: 0\n  }\n  continuous {\n    minimum {\n      f64 {\n        data {\n        }\n      }\n    }\n    maximum {\n      f64 {\n        data {\n        }\n      }\n    }\n  }\n}\n\n\n\n"
    }
   ],
   "source": [
    "with whitenoise.Analysis() as analysis:\n",
    "    # load data\n",
    "    data = whitenoise.Dataset(path = data_path, column_names = var_names)\n",
    "    \n",
    "    # establish data \n",
    "    age_dt = op.cast(data['age'], 'FLOAT')\n",
    "\n",
    "    # ensure data are non-null \n",
    "    non_null_age_dt = op.impute(age_dt, distribution = 'Uniform', min = 0., max = 100.)\n",
    "\n",
    "    # create potential for null data again\n",
    "    potentially_null_age_dt = op.divide(non_null_age_dt, 0.)\n",
    "\n",
    "analysis.release()\n",
    "print('original properties:\\n{0}\\n\\n'.format(age_dt.properties))\n",
    "print('properties after imputation:\\n{0}\\n\\n'.format(non_null_age_dt.properties))\n",
    "print('properties after division:\\n{0}\\n\\n'.format(potentially_null_age_dt.properties))\n"
   ]
  },
  {
   "cell_type": "markdown",
   "metadata": {},
   "source": [
    "Note that the `nullity` property disappears after imputation (`nullity` disappearing is equivalent to `nullity: false`) and reappears after division by 0. "
   ]
  },
  {
   "cell_type": "markdown",
   "metadata": {},
   "source": [
    "### Analysis\n",
    "\n",
    "Now we can proceed to performing a basic analysis. Let's start by considering a differentially private mean of `age`. We will start with a few failed attempts in order to build an intuition for the requisite steps."
   ]
  },
  {
   "cell_type": "code",
   "execution_count": 8,
   "metadata": {},
   "outputs": [],
   "source": [
    "# set sample size\n",
    "n = 1_000\n",
    "\n",
    "# set ranges/feasible values\n",
    "age_range = (0., 100.)\n",
    "sex_vals = [0, 1]\n",
    "educ_vals = [i for i in range(1, 17)]\n",
    "race_vals = [i for i in range(1, 7)]\n",
    "income_range = (0., 500_000.)\n",
    "married_vals = [0, 1]"
   ]
  },
  {
   "cell_type": "code",
   "execution_count": 9,
   "metadata": {},
   "outputs": [
    {
     "output_type": "error",
     "ename": "RuntimeError",
     "evalue": "\n  Error: node specification LaplaceMechanism(LaplaceMechanism { privacy_usage: [PrivacyUsage { distance: Some(DistanceApproximate(DistanceApproximate { epsilon: 0.65, delta: 0.0 })) }] }):\nCaused by: node specification Mean(Mean):\nCaused by: data may contain nullity when non-nullity is required\n",
     "traceback": [
      "\u001b[0;31m---------------------------------------------------------------------------\u001b[0m",
      "\u001b[0;31mRuntimeError\u001b[0m                              Traceback (most recent call last)",
      "\u001b[0;32m<ipython-input-9-2c1d12e2a20f>\u001b[0m in \u001b[0;36m<module>\u001b[0;34m\u001b[0m\n\u001b[1;32m     11\u001b[0m     \u001b[0mage_mean\u001b[0m \u001b[0;34m=\u001b[0m \u001b[0mop\u001b[0m\u001b[0;34m.\u001b[0m\u001b[0mdp_mean\u001b[0m\u001b[0;34m(\u001b[0m\u001b[0mdata\u001b[0m \u001b[0;34m=\u001b[0m \u001b[0mage_dt\u001b[0m\u001b[0;34m,\u001b[0m \u001b[0mprivacy_usage\u001b[0m\u001b[0;34m=\u001b[0m\u001b[0;34m{\u001b[0m\u001b[0;34m'epsilon'\u001b[0m\u001b[0;34m:\u001b[0m \u001b[0;36m.65\u001b[0m\u001b[0;34m}\u001b[0m\u001b[0;34m)\u001b[0m\u001b[0;34m\u001b[0m\u001b[0;34m\u001b[0m\u001b[0m\n\u001b[1;32m     12\u001b[0m \u001b[0;34m\u001b[0m\u001b[0m\n\u001b[0;32m---> 13\u001b[0;31m \u001b[0manalysis\u001b[0m\u001b[0;34m.\u001b[0m\u001b[0mrelease\u001b[0m\u001b[0;34m(\u001b[0m\u001b[0;34m)\u001b[0m\u001b[0;34m\u001b[0m\u001b[0;34m\u001b[0m\u001b[0m\n\u001b[0m",
      "\u001b[0;32m~/work/open_dp/whitenoise-core/bindings-python/whitenoise/base.py\u001b[0m in \u001b[0;36mrelease\u001b[0;34m(self)\u001b[0m\n\u001b[1;32m    545\u001b[0m     \u001b[0;32mdef\u001b[0m \u001b[0mrelease\u001b[0m\u001b[0;34m(\u001b[0m\u001b[0mself\u001b[0m\u001b[0;34m)\u001b[0m\u001b[0;34m:\u001b[0m\u001b[0;34m\u001b[0m\u001b[0;34m\u001b[0m\u001b[0m\n\u001b[1;32m    546\u001b[0m         \u001b[0;32mif\u001b[0m \u001b[0;32mnot\u001b[0m \u001b[0mself\u001b[0m\u001b[0;34m.\u001b[0m\u001b[0mdynamic\u001b[0m\u001b[0;34m:\u001b[0m\u001b[0;34m\u001b[0m\u001b[0;34m\u001b[0m\u001b[0m\n\u001b[0;32m--> 547\u001b[0;31m             \u001b[0;32massert\u001b[0m \u001b[0mself\u001b[0m\u001b[0;34m.\u001b[0m\u001b[0mvalidate\u001b[0m\u001b[0;34m(\u001b[0m\u001b[0;34m)\u001b[0m\u001b[0;34m,\u001b[0m \u001b[0;34m\"cannot release, analysis is not valid\"\u001b[0m\u001b[0;34m\u001b[0m\u001b[0;34m\u001b[0m\u001b[0m\n\u001b[0m\u001b[1;32m    548\u001b[0m \u001b[0;34m\u001b[0m\u001b[0m\n\u001b[1;32m    549\u001b[0m         release_proto: base_pb2.Release = core_wrapper.compute_release(\n",
      "\u001b[0;32m~/work/open_dp/whitenoise-core/bindings-python/whitenoise/base.py\u001b[0m in \u001b[0;36mvalidate\u001b[0;34m(self)\u001b[0m\n\u001b[1;32m    535\u001b[0m         return core_wrapper.validate_analysis(\n\u001b[1;32m    536\u001b[0m             \u001b[0mself\u001b[0m\u001b[0;34m.\u001b[0m\u001b[0m_serialize_analysis_proto\u001b[0m\u001b[0;34m(\u001b[0m\u001b[0;34m)\u001b[0m\u001b[0;34m,\u001b[0m\u001b[0;34m\u001b[0m\u001b[0;34m\u001b[0m\u001b[0m\n\u001b[0;32m--> 537\u001b[0;31m             self._serialize_release_proto()).value\n\u001b[0m\u001b[1;32m    538\u001b[0m \u001b[0;34m\u001b[0m\u001b[0m\n\u001b[1;32m    539\u001b[0m     \u001b[0;34m@\u001b[0m\u001b[0mproperty\u001b[0m\u001b[0;34m\u001b[0m\u001b[0;34m\u001b[0m\u001b[0m\n",
      "\u001b[0;32m~/work/open_dp/whitenoise-core/bindings-python/whitenoise/wrapper.py\u001b[0m in \u001b[0;36mvalidate_analysis\u001b[0;34m(analysis, release)\u001b[0m\n\u001b[1;32m     15\u001b[0m             \u001b[0mfunction\u001b[0m\u001b[0;34m=\u001b[0m\u001b[0mlib_validator\u001b[0m\u001b[0;34m.\u001b[0m\u001b[0mvalidate_analysis\u001b[0m\u001b[0;34m,\u001b[0m\u001b[0;34m\u001b[0m\u001b[0;34m\u001b[0m\u001b[0m\n\u001b[1;32m     16\u001b[0m             \u001b[0mresponse_type\u001b[0m\u001b[0;34m=\u001b[0m\u001b[0mapi_pb2\u001b[0m\u001b[0;34m.\u001b[0m\u001b[0mResponseValidateAnalysis\u001b[0m\u001b[0;34m,\u001b[0m\u001b[0;34m\u001b[0m\u001b[0;34m\u001b[0m\u001b[0m\n\u001b[0;32m---> 17\u001b[0;31m             ffi=ffi_validator)\n\u001b[0m\u001b[1;32m     18\u001b[0m \u001b[0;34m\u001b[0m\u001b[0m\n\u001b[1;32m     19\u001b[0m     \u001b[0;34m@\u001b[0m\u001b[0mstaticmethod\u001b[0m\u001b[0;34m\u001b[0m\u001b[0;34m\u001b[0m\u001b[0m\n",
      "\u001b[0;32m~/work/open_dp/whitenoise-core/bindings-python/whitenoise/wrapper.py\u001b[0m in \u001b[0;36m_communicate\u001b[0;34m(function, argument, response_type, ffi)\u001b[0m\n\u001b[1;32m    108\u001b[0m \u001b[0;34m\u001b[0m\u001b[0m\n\u001b[1;32m    109\u001b[0m         \u001b[0;31m# stack traces beyond this point come from the internal rust libraries\u001b[0m\u001b[0;34m\u001b[0m\u001b[0;34m\u001b[0m\u001b[0;34m\u001b[0m\u001b[0m\n\u001b[0;32m--> 110\u001b[0;31m         \u001b[0;32mraise\u001b[0m \u001b[0mRuntimeError\u001b[0m\u001b[0;34m(\u001b[0m\u001b[0mlibrary_traceback\u001b[0m\u001b[0;34m)\u001b[0m\u001b[0;34m\u001b[0m\u001b[0;34m\u001b[0m\u001b[0m\n\u001b[0m\u001b[1;32m    111\u001b[0m     \u001b[0;32mreturn\u001b[0m \u001b[0mresponse\u001b[0m\u001b[0;34m.\u001b[0m\u001b[0mdata\u001b[0m\u001b[0;34m\u001b[0m\u001b[0;34m\u001b[0m\u001b[0m\n",
      "\u001b[0;31mRuntimeError\u001b[0m: \n  Error: node specification LaplaceMechanism(LaplaceMechanism { privacy_usage: [PrivacyUsage { distance: Some(DistanceApproximate(DistanceApproximate { epsilon: 0.65, delta: 0.0 })) }] }):\nCaused by: node specification Mean(Mean):\nCaused by: data may contain nullity when non-nullity is required\n"
     ]
    }
   ],
   "source": [
    "# attempt 1 - fails because of nullity\n",
    "with whitenoise.Analysis() as analysis:\n",
    "    # load data\n",
    "    data = whitenoise.Dataset(path = data_path, column_names = var_names)\n",
    "    \n",
    "    ''' get mean age '''\n",
    "    # establish data \n",
    "    age_dt = op.cast(data['age'], 'FLOAT')\n",
    "    \n",
    "    # calculate differentially private mean of age\n",
    "    age_mean = op.dp_mean(data = age_dt, privacy_usage={'epsilon': .65})\n",
    "\n",
    "analysis.release()"
   ]
  },
  {
   "cell_type": "markdown",
   "metadata": {},
   "source": [
    "Notice that `dp_mean` requires the data to have the property `nullity = False`.\n",
    "We can get around this by using `impute`. We will impute from a `Gaussian(mean = 45, sd = 10)` distribution, truncated such that no values fall outside of our age range we already established."
   ]
  },
  {
   "cell_type": "code",
   "execution_count": 4,
   "metadata": {},
   "outputs": [
    {
     "ename": "RuntimeError",
     "evalue": "\n  Error: node specification LaplaceMechanism(LaplaceMechanism { privacy_usage: [PrivacyUsage { distance: Some(DistancePure(DistancePure { epsilon: 0.65 })) }] }):\nCaused by: node specification Mean(Mean):\nCaused by: not all min are known\n",
     "output_type": "error",
     "traceback": [
      "\u001b[0;31m---------------------------------------------------------------------------\u001b[0m",
      "\u001b[0;31mRuntimeError\u001b[0m                              Traceback (most recent call last)",
      "\u001b[0;32m<ipython-input-4-adee110a0b60>\u001b[0m in \u001b[0;36m<module>\u001b[0;34m\u001b[0m\n\u001b[1;32m     16\u001b[0m     \u001b[0mage_mean\u001b[0m \u001b[0;34m=\u001b[0m \u001b[0mop\u001b[0m\u001b[0;34m.\u001b[0m\u001b[0mdp_mean\u001b[0m\u001b[0;34m(\u001b[0m\u001b[0mdata\u001b[0m \u001b[0;34m=\u001b[0m \u001b[0mage_dt\u001b[0m\u001b[0;34m,\u001b[0m \u001b[0mprivacy_usage\u001b[0m\u001b[0;34m=\u001b[0m\u001b[0;34m{\u001b[0m\u001b[0;34m'epsilon'\u001b[0m\u001b[0;34m:\u001b[0m \u001b[0;36m.65\u001b[0m\u001b[0;34m}\u001b[0m\u001b[0;34m)\u001b[0m\u001b[0;34m\u001b[0m\u001b[0;34m\u001b[0m\u001b[0m\n\u001b[1;32m     17\u001b[0m \u001b[0;34m\u001b[0m\u001b[0m\n\u001b[0;32m---> 18\u001b[0;31m \u001b[0manalysis\u001b[0m\u001b[0;34m.\u001b[0m\u001b[0mrelease\u001b[0m\u001b[0;34m(\u001b[0m\u001b[0;34m)\u001b[0m\u001b[0;34m\u001b[0m\u001b[0;34m\u001b[0m\u001b[0m\n\u001b[0m",
      "\u001b[0;32m~/work/open_dp/whitenoise-core/bindings-python/whitenoise/base.py\u001b[0m in \u001b[0;36mrelease\u001b[0;34m(self)\u001b[0m\n\u001b[1;32m    545\u001b[0m     \u001b[0;32mdef\u001b[0m \u001b[0mrelease\u001b[0m\u001b[0;34m(\u001b[0m\u001b[0mself\u001b[0m\u001b[0;34m)\u001b[0m\u001b[0;34m:\u001b[0m\u001b[0;34m\u001b[0m\u001b[0;34m\u001b[0m\u001b[0m\n\u001b[1;32m    546\u001b[0m         \u001b[0;32mif\u001b[0m \u001b[0;32mnot\u001b[0m \u001b[0mself\u001b[0m\u001b[0;34m.\u001b[0m\u001b[0mdynamic\u001b[0m\u001b[0;34m:\u001b[0m\u001b[0;34m\u001b[0m\u001b[0;34m\u001b[0m\u001b[0m\n\u001b[0;32m--> 547\u001b[0;31m             \u001b[0;32massert\u001b[0m \u001b[0mself\u001b[0m\u001b[0;34m.\u001b[0m\u001b[0mvalidate\u001b[0m\u001b[0;34m(\u001b[0m\u001b[0;34m)\u001b[0m\u001b[0;34m,\u001b[0m \u001b[0;34m\"cannot release, analysis is not valid\"\u001b[0m\u001b[0;34m\u001b[0m\u001b[0;34m\u001b[0m\u001b[0m\n\u001b[0m\u001b[1;32m    548\u001b[0m \u001b[0;34m\u001b[0m\u001b[0m\n\u001b[1;32m    549\u001b[0m         release_proto: base_pb2.Release = core_wrapper.compute_release(\n",
      "\u001b[0;32m~/work/open_dp/whitenoise-core/bindings-python/whitenoise/base.py\u001b[0m in \u001b[0;36mvalidate\u001b[0;34m(self)\u001b[0m\n\u001b[1;32m    535\u001b[0m         return core_wrapper.validate_analysis(\n\u001b[1;32m    536\u001b[0m             \u001b[0mself\u001b[0m\u001b[0;34m.\u001b[0m\u001b[0m_serialize_analysis_proto\u001b[0m\u001b[0;34m(\u001b[0m\u001b[0;34m)\u001b[0m\u001b[0;34m,\u001b[0m\u001b[0;34m\u001b[0m\u001b[0;34m\u001b[0m\u001b[0m\n\u001b[0;32m--> 537\u001b[0;31m             self._serialize_release_proto()).value\n\u001b[0m\u001b[1;32m    538\u001b[0m \u001b[0;34m\u001b[0m\u001b[0m\n\u001b[1;32m    539\u001b[0m     \u001b[0;34m@\u001b[0m\u001b[0mproperty\u001b[0m\u001b[0;34m\u001b[0m\u001b[0;34m\u001b[0m\u001b[0m\n",
      "\u001b[0;32m~/work/open_dp/whitenoise-core/bindings-python/whitenoise/wrapper.py\u001b[0m in \u001b[0;36mvalidate_analysis\u001b[0;34m(analysis, release)\u001b[0m\n\u001b[1;32m     15\u001b[0m             \u001b[0mfunction\u001b[0m\u001b[0;34m=\u001b[0m\u001b[0mlib_validator\u001b[0m\u001b[0;34m.\u001b[0m\u001b[0mvalidate_analysis\u001b[0m\u001b[0;34m,\u001b[0m\u001b[0;34m\u001b[0m\u001b[0;34m\u001b[0m\u001b[0m\n\u001b[1;32m     16\u001b[0m             \u001b[0mresponse_type\u001b[0m\u001b[0;34m=\u001b[0m\u001b[0mapi_pb2\u001b[0m\u001b[0;34m.\u001b[0m\u001b[0mResponseValidateAnalysis\u001b[0m\u001b[0;34m,\u001b[0m\u001b[0;34m\u001b[0m\u001b[0;34m\u001b[0m\u001b[0m\n\u001b[0;32m---> 17\u001b[0;31m             ffi=ffi_validator)\n\u001b[0m\u001b[1;32m     18\u001b[0m \u001b[0;34m\u001b[0m\u001b[0m\n\u001b[1;32m     19\u001b[0m     \u001b[0;34m@\u001b[0m\u001b[0mstaticmethod\u001b[0m\u001b[0;34m\u001b[0m\u001b[0;34m\u001b[0m\u001b[0m\n",
      "\u001b[0;32m~/work/open_dp/whitenoise-core/bindings-python/whitenoise/wrapper.py\u001b[0m in \u001b[0;36m_communicate\u001b[0;34m(function, argument, response_type, ffi)\u001b[0m\n\u001b[1;32m    108\u001b[0m \u001b[0;34m\u001b[0m\u001b[0m\n\u001b[1;32m    109\u001b[0m         \u001b[0;31m# stack traces beyond this point come from the internal rust libraries\u001b[0m\u001b[0;34m\u001b[0m\u001b[0;34m\u001b[0m\u001b[0;34m\u001b[0m\u001b[0m\n\u001b[0;32m--> 110\u001b[0;31m         \u001b[0;32mraise\u001b[0m \u001b[0mRuntimeError\u001b[0m\u001b[0;34m(\u001b[0m\u001b[0mlibrary_traceback\u001b[0m\u001b[0;34m)\u001b[0m\u001b[0;34m\u001b[0m\u001b[0;34m\u001b[0m\u001b[0m\n\u001b[0m\u001b[1;32m    111\u001b[0m     \u001b[0;32mreturn\u001b[0m \u001b[0mresponse\u001b[0m\u001b[0;34m.\u001b[0m\u001b[0mdata\u001b[0m\u001b[0;34m\u001b[0m\u001b[0;34m\u001b[0m\u001b[0m\n",
      "\u001b[0;31mRuntimeError\u001b[0m: \n  Error: node specification LaplaceMechanism(LaplaceMechanism { privacy_usage: [PrivacyUsage { distance: Some(DistancePure(DistancePure { epsilon: 0.65 })) }] }):\nCaused by: node specification Mean(Mean):\nCaused by: not all min are known\n"
     ]
    }
   ],
   "source": [
    "# attempt 2 - fails because of undefined min/max\n",
    "with whitenoise.Analysis() as analysis:\n",
    "    # load data\n",
    "    data = whitenoise.Dataset(path = data_path, column_names = var_names)\n",
    "    \n",
    "    ''' get mean age '''\n",
    "    # establish data \n",
    "    age_dt = op.cast(data['age'], 'FLOAT')\n",
    "    \n",
    "    # clamp data to range and impute missing values\n",
    "    age_dt = op.impute(data = age_dt, distribution = 'Gaussian',\n",
    "                                      min = age_range[0], max = age_range[1],\n",
    "                                      shift = 45., scale = 10.)\n",
    "    \n",
    "    # calculate differentially private mean of age\n",
    "    age_mean = op.dp_mean(data = age_dt, privacy_usage={'epsilon': .65})\n",
    "     \n",
    "analysis.release()"
   ]
  },
  {
   "cell_type": "markdown",
   "metadata": {},
   "source": [
    "Now we see that `dp_mean` needs to know the `min` value (in fact, it also needs to know `max`). We provide that with `clamp`. We paramaterize `clamp` with the min and max values of age we established at the beginning."
   ]
  },
  {
   "cell_type": "code",
   "execution_count": 5,
   "metadata": {},
   "outputs": [
    {
     "ename": "RuntimeError",
     "evalue": "\n  Error: node specification LaplaceMechanism(LaplaceMechanism { privacy_usage: [PrivacyUsage { distance: Some(DistancePure(DistancePure { epsilon: 0.65 })) }] }):\nCaused by: node specification Mean(Mean):\nCaused by: number of records is not defined\n",
     "output_type": "error",
     "traceback": [
      "\u001b[0;31m---------------------------------------------------------------------------\u001b[0m",
      "\u001b[0;31mRuntimeError\u001b[0m                              Traceback (most recent call last)",
      "\u001b[0;32m<ipython-input-5-5711ececf2d8>\u001b[0m in \u001b[0;36m<module>\u001b[0;34m\u001b[0m\n\u001b[1;32m     18\u001b[0m \u001b[0;34m\u001b[0m\u001b[0m\n\u001b[1;32m     19\u001b[0m \u001b[0;34m\u001b[0m\u001b[0m\n\u001b[0;32m---> 20\u001b[0;31m \u001b[0manalysis\u001b[0m\u001b[0;34m.\u001b[0m\u001b[0mrelease\u001b[0m\u001b[0;34m(\u001b[0m\u001b[0;34m)\u001b[0m\u001b[0;34m\u001b[0m\u001b[0;34m\u001b[0m\u001b[0m\n\u001b[0m",
      "\u001b[0;32m~/work/open_dp/whitenoise-core/bindings-python/whitenoise/base.py\u001b[0m in \u001b[0;36mrelease\u001b[0;34m(self)\u001b[0m\n\u001b[1;32m    545\u001b[0m     \u001b[0;32mdef\u001b[0m \u001b[0mrelease\u001b[0m\u001b[0;34m(\u001b[0m\u001b[0mself\u001b[0m\u001b[0;34m)\u001b[0m\u001b[0;34m:\u001b[0m\u001b[0;34m\u001b[0m\u001b[0;34m\u001b[0m\u001b[0m\n\u001b[1;32m    546\u001b[0m         \u001b[0;32mif\u001b[0m \u001b[0;32mnot\u001b[0m \u001b[0mself\u001b[0m\u001b[0;34m.\u001b[0m\u001b[0mdynamic\u001b[0m\u001b[0;34m:\u001b[0m\u001b[0;34m\u001b[0m\u001b[0;34m\u001b[0m\u001b[0m\n\u001b[0;32m--> 547\u001b[0;31m             \u001b[0;32massert\u001b[0m \u001b[0mself\u001b[0m\u001b[0;34m.\u001b[0m\u001b[0mvalidate\u001b[0m\u001b[0;34m(\u001b[0m\u001b[0;34m)\u001b[0m\u001b[0;34m,\u001b[0m \u001b[0;34m\"cannot release, analysis is not valid\"\u001b[0m\u001b[0;34m\u001b[0m\u001b[0;34m\u001b[0m\u001b[0m\n\u001b[0m\u001b[1;32m    548\u001b[0m \u001b[0;34m\u001b[0m\u001b[0m\n\u001b[1;32m    549\u001b[0m         release_proto: base_pb2.Release = core_wrapper.compute_release(\n",
      "\u001b[0;32m~/work/open_dp/whitenoise-core/bindings-python/whitenoise/base.py\u001b[0m in \u001b[0;36mvalidate\u001b[0;34m(self)\u001b[0m\n\u001b[1;32m    535\u001b[0m         return core_wrapper.validate_analysis(\n\u001b[1;32m    536\u001b[0m             \u001b[0mself\u001b[0m\u001b[0;34m.\u001b[0m\u001b[0m_serialize_analysis_proto\u001b[0m\u001b[0;34m(\u001b[0m\u001b[0;34m)\u001b[0m\u001b[0;34m,\u001b[0m\u001b[0;34m\u001b[0m\u001b[0;34m\u001b[0m\u001b[0m\n\u001b[0;32m--> 537\u001b[0;31m             self._serialize_release_proto()).value\n\u001b[0m\u001b[1;32m    538\u001b[0m \u001b[0;34m\u001b[0m\u001b[0m\n\u001b[1;32m    539\u001b[0m     \u001b[0;34m@\u001b[0m\u001b[0mproperty\u001b[0m\u001b[0;34m\u001b[0m\u001b[0;34m\u001b[0m\u001b[0m\n",
      "\u001b[0;32m~/work/open_dp/whitenoise-core/bindings-python/whitenoise/wrapper.py\u001b[0m in \u001b[0;36mvalidate_analysis\u001b[0;34m(analysis, release)\u001b[0m\n\u001b[1;32m     15\u001b[0m             \u001b[0mfunction\u001b[0m\u001b[0;34m=\u001b[0m\u001b[0mlib_validator\u001b[0m\u001b[0;34m.\u001b[0m\u001b[0mvalidate_analysis\u001b[0m\u001b[0;34m,\u001b[0m\u001b[0;34m\u001b[0m\u001b[0;34m\u001b[0m\u001b[0m\n\u001b[1;32m     16\u001b[0m             \u001b[0mresponse_type\u001b[0m\u001b[0;34m=\u001b[0m\u001b[0mapi_pb2\u001b[0m\u001b[0;34m.\u001b[0m\u001b[0mResponseValidateAnalysis\u001b[0m\u001b[0;34m,\u001b[0m\u001b[0;34m\u001b[0m\u001b[0;34m\u001b[0m\u001b[0m\n\u001b[0;32m---> 17\u001b[0;31m             ffi=ffi_validator)\n\u001b[0m\u001b[1;32m     18\u001b[0m \u001b[0;34m\u001b[0m\u001b[0m\n\u001b[1;32m     19\u001b[0m     \u001b[0;34m@\u001b[0m\u001b[0mstaticmethod\u001b[0m\u001b[0;34m\u001b[0m\u001b[0;34m\u001b[0m\u001b[0m\n",
      "\u001b[0;32m~/work/open_dp/whitenoise-core/bindings-python/whitenoise/wrapper.py\u001b[0m in \u001b[0;36m_communicate\u001b[0;34m(function, argument, response_type, ffi)\u001b[0m\n\u001b[1;32m    108\u001b[0m \u001b[0;34m\u001b[0m\u001b[0m\n\u001b[1;32m    109\u001b[0m         \u001b[0;31m# stack traces beyond this point come from the internal rust libraries\u001b[0m\u001b[0;34m\u001b[0m\u001b[0;34m\u001b[0m\u001b[0;34m\u001b[0m\u001b[0m\n\u001b[0;32m--> 110\u001b[0;31m         \u001b[0;32mraise\u001b[0m \u001b[0mRuntimeError\u001b[0m\u001b[0;34m(\u001b[0m\u001b[0mlibrary_traceback\u001b[0m\u001b[0;34m)\u001b[0m\u001b[0;34m\u001b[0m\u001b[0;34m\u001b[0m\u001b[0m\n\u001b[0m\u001b[1;32m    111\u001b[0m     \u001b[0;32mreturn\u001b[0m \u001b[0mresponse\u001b[0m\u001b[0;34m.\u001b[0m\u001b[0mdata\u001b[0m\u001b[0;34m\u001b[0m\u001b[0;34m\u001b[0m\u001b[0m\n",
      "\u001b[0;31mRuntimeError\u001b[0m: \n  Error: node specification LaplaceMechanism(LaplaceMechanism { privacy_usage: [PrivacyUsage { distance: Some(DistancePure(DistancePure { epsilon: 0.65 })) }] }):\nCaused by: node specification Mean(Mean):\nCaused by: number of records is not defined\n"
     ]
    }
   ],
   "source": [
    "# attempt 3 - fails because of undefined n\n",
    "with whitenoise.Analysis() as analysis:\n",
    "    # load data\n",
    "    data = whitenoise.Dataset(path = data_path, column_names = var_names)\n",
    "    \n",
    "    ''' get mean age '''\n",
    "    # establish data \n",
    "    age_dt = op.cast(data['age'], 'FLOAT')\n",
    "    \n",
    "    # clamp data to range and impute missing values\n",
    "    age_dt = op.clamp(data = age_dt, min = age_range[0], max = age_range[1])\n",
    "    age_dt = op.impute(data = age_dt, distribution = 'Gaussian',\n",
    "                                      min = age_range[0], max = age_range[1],\n",
    "                                      shift = 45., scale = 10.)\n",
    "    \n",
    "    # calculate differentially private mean of age\n",
    "    age_mean = op.dp_mean(data = age_dt, privacy_usage={'epsilon': .65})\n",
    "\n",
    "    \n",
    "analysis.release()"
   ]
  },
  {
   "cell_type": "markdown",
   "metadata": {},
   "source": [
    "WhiteNoise requires `n` to be specified before a mean release can be considered valid.\n",
    "We know the true `n` in this case, but this will not always be true. We call `resize` to ensure that the data are consistent with the `n` we provide."
   ]
  },
  {
   "cell_type": "code",
   "execution_count": 6,
   "metadata": {},
   "outputs": [
    {
     "name": "stdout",
     "output_type": "stream",
     "text": [
      "44.1894199656905\n",
      "298.74462332791006\n"
     ]
    }
   ],
   "source": [
    "# attempt 4 - succeeds!\n",
    "with whitenoise.Analysis() as analysis:\n",
    "    # load data\n",
    "    data = whitenoise.Dataset(path = data_path, column_names = var_names)\n",
    "    \n",
    "    ''' get mean age '''\n",
    "    # establish data \n",
    "    age_dt = op.cast(data['age'], 'FLOAT')\n",
    "    \n",
    "    # clamp data to range and impute missing values\n",
    "    age_dt = op.clamp(data = age_dt, min = age_range[0], max = age_range[1])\n",
    "    age_dt = op.impute(data = age_dt, distribution = 'Gaussian',\n",
    "                                      min = age_range[0], max = age_range[1],\n",
    "                                      shift = 45., scale = 10.)\n",
    "    \n",
    "    # ensure data are consistent with proposed n\n",
    "    age_dt = op.resize(data = age_dt, n = n, distribution = 'Gaussian',\n",
    "                       min = age_range[0], max = age_range[1],\n",
    "                       shift = 45., scale = 10.)\n",
    "    \n",
    "    # calculate differentially private mean of age\n",
    "    age_mean = op.dp_mean(data = age_dt, privacy_usage={'epsilon': .65})\n",
    "        \n",
    "    ''' get variance of age '''\n",
    "    # calculate differentially private variance of income\n",
    "    age_var = op.dp_variance(data = age_dt, privacy_usage={'epsilon': .35})\n",
    "    \n",
    "analysis.release()\n",
    "\n",
    "# print differentially private estimates of mean and variance of age\n",
    "print(age_mean.value)\n",
    "print(age_var.value)"
   ]
  },
  {
   "cell_type": "markdown",
   "metadata": {},
   "source": [
    "Notice that we asked for an extra `dp_variance` at the end without having to use `clamp`, `impute`, or `resize`. Because these functions are updating the properties of `age_dt` as they are called, `dp_variance` has everything it needs from `age_dt` when we call it.\n",
    "\n",
    "Now that we have a sense for building up a statistic step-by-step, we can run through a much quicker version. We simply provide `data_min, data_max, data_n` and the `clamp, impute, resize` steps are all performed implicitly. You'll notice that we don't even provide a `distribution` argument, even though it is needed for `impute`. For some arguments, we have (what we believe to be) reasonable defaults that are used if not provided explicitly. "
   ]
  },
  {
   "cell_type": "code",
   "execution_count": 10,
   "metadata": {},
   "outputs": [
    {
     "output_type": "stream",
     "name": "stdout",
     "text": "DP mean of age: 44.91963974451159\nDP variance of age: 335.98827132020915\nPrivacy usage: distance_approximate {\n  epsilon: 1.0\n}\n\n"
    }
   ],
   "source": [
    "with whitenoise.Analysis() as analysis:\n",
    "    # load data\n",
    "    data = whitenoise.Dataset(path = data_path, column_names = var_names)\n",
    "\n",
    "    # get mean of age\n",
    "    age_mean = op.dp_mean(data = op.cast(data['age'], type=\"FLOAT\"),\n",
    "                          privacy_usage = {'epsilon': .65},\n",
    "                          data_min = 0.,\n",
    "                          data_max = 100.,\n",
    "                          data_n = 1000\n",
    "                         )\n",
    "    # get variance of age\n",
    "    age_var = op.dp_variance(data = op.cast(data['age'], type=\"FLOAT\"),\n",
    "                             privacy_usage = {'epsilon': .35},\n",
    "                             data_min = 0.,\n",
    "                             data_max = 100.,\n",
    "                             data_n = 1000\n",
    "                            )\n",
    "analysis.release()\n",
    "\n",
    "print(\"DP mean of age: {0}\".format(age_mean.value))\n",
    "print(\"DP variance of age: {0}\".format(age_var.value))\n",
    "print(\"Privacy usage: {0}\".format(analysis.privacy_usage))"
   ]
  },
  {
   "cell_type": "markdown",
   "metadata": {},
   "source": [
    "We see that the two DP releases within our analysis compose in a simple way, the individual epsilons we set add together for a total privacy usage of 1.   "
   ]
  },
  {
   "cell_type": "markdown",
   "metadata": {},
   "source": [
    "One thing we have glossed over up until this point is the distinction between setting up and executing an analysis plan. An analysis plan is specified within the encapsulation of `whitenoise.Analysis()` but until `analysis.release()` is run, the plan will not be validated and the data will not be touched."
   ]
  },
  {
   "cell_type": "code",
   "execution_count": 17,
   "metadata": {},
   "outputs": [
    {
     "output_type": "stream",
     "name": "stdout",
     "text": "Pre-Release\n\nDP mean of age: None\nPrivacy usage: distance_approximate {\n  epsilon: 0.65\n}\n\n\n\nPost-Release\n\nDP mean of age: 44.75807702491964\nPrivacy usage: distance_approximate {\n  epsilon: 0.65\n}\n\n\n\n"
    }
   ],
   "source": [
    "with whitenoise.Analysis() as analysis:\n",
    "    # load data\n",
    "    data = whitenoise.Dataset(path = data_path, column_names = var_names)\n",
    "\n",
    "    # get mean of age\n",
    "    age_mean = op.dp_mean(data = op.cast(data['age'], type=\"FLOAT\"),\n",
    "                          privacy_usage = {'epsilon': .65},\n",
    "                          data_min = 0.,\n",
    "                          data_max = 100.,\n",
    "                          data_n = 1000\n",
    "                         )\n",
    "print(\"Pre-Release\\n\")\n",
    "print(\"DP mean of age: {0}\".format(age_mean.value))\n",
    "print(\"Privacy usage: {0}\\n\\n\".format(analysis.privacy_usage))\n",
    "\n",
    "analysis.release()\n",
    "\n",
    "print(\"Post-Release\\n\")\n",
    "print(\"DP mean of age: {0}\".format(age_mean.value))\n",
    "print(\"Privacy usage: {0}\\n\\n\".format(analysis.privacy_usage))\n",
    ""
   ]
  },
  {
   "cell_type": "markdown",
   "metadata": {},
   "source": [
    "As a result, a user will not know whether or not the validator will allow a proposed analysis until running `analysis.release()`."
   ]
  },
  {
   "cell_type": "code",
   "execution_count": 23,
   "metadata": {},
   "outputs": [],
   "source": [
    "''' incomplete analysis plan, but no release => no failure '''\n",
    "with whitenoise.Analysis() as analysis:\n",
    "    # load data\n",
    "    data = whitenoise.Dataset(path = data_path, column_names = var_names)\n",
    "\n",
    "    age_mean_fail = op.dp_mean(data = op.cast(data['age'], type=\"FLOAT\"),\n",
    "                          privacy_usage = {'epsilon': .65})"
   ]
  },
  {
   "cell_type": "code",
   "execution_count": 24,
   "metadata": {},
   "outputs": [
    {
     "output_type": "error",
     "ename": "RuntimeError",
     "evalue": "\n  Error: node specification LaplaceMechanism(LaplaceMechanism { privacy_usage: [PrivacyUsage { distance: Some(DistanceApproximate(DistanceApproximate { epsilon: 0.65, delta: 0.0 })) }] }):\nCaused by: node specification Mean(Mean):\nCaused by: data may contain nullity when non-nullity is required\n",
     "traceback": [
      "\u001b[0;31m---------------------------------------------------------------------------\u001b[0m",
      "\u001b[0;31mRuntimeError\u001b[0m                              Traceback (most recent call last)",
      "\u001b[0;32m<ipython-input-24-e846fca4a19c>\u001b[0m in \u001b[0;36m<module>\u001b[0;34m\u001b[0m\n\u001b[1;32m      1\u001b[0m \u001b[0;34m''' fails upon release '''\u001b[0m\u001b[0;34m\u001b[0m\u001b[0;34m\u001b[0m\u001b[0m\n\u001b[0;32m----> 2\u001b[0;31m \u001b[0manalysis\u001b[0m\u001b[0;34m.\u001b[0m\u001b[0mrelease\u001b[0m\u001b[0;34m(\u001b[0m\u001b[0;34m)\u001b[0m\u001b[0;34m\u001b[0m\u001b[0;34m\u001b[0m\u001b[0m\n\u001b[0m",
      "\u001b[0;32m~/work/open_dp/whitenoise-core/bindings-python/whitenoise/base.py\u001b[0m in \u001b[0;36mrelease\u001b[0;34m(self)\u001b[0m\n\u001b[1;32m    545\u001b[0m     \u001b[0;32mdef\u001b[0m \u001b[0mrelease\u001b[0m\u001b[0;34m(\u001b[0m\u001b[0mself\u001b[0m\u001b[0;34m)\u001b[0m\u001b[0;34m:\u001b[0m\u001b[0;34m\u001b[0m\u001b[0;34m\u001b[0m\u001b[0m\n\u001b[1;32m    546\u001b[0m         \u001b[0;32mif\u001b[0m \u001b[0;32mnot\u001b[0m \u001b[0mself\u001b[0m\u001b[0;34m.\u001b[0m\u001b[0mdynamic\u001b[0m\u001b[0;34m:\u001b[0m\u001b[0;34m\u001b[0m\u001b[0;34m\u001b[0m\u001b[0m\n\u001b[0;32m--> 547\u001b[0;31m             \u001b[0;32massert\u001b[0m \u001b[0mself\u001b[0m\u001b[0;34m.\u001b[0m\u001b[0mvalidate\u001b[0m\u001b[0;34m(\u001b[0m\u001b[0;34m)\u001b[0m\u001b[0;34m,\u001b[0m \u001b[0;34m\"cannot release, analysis is not valid\"\u001b[0m\u001b[0;34m\u001b[0m\u001b[0;34m\u001b[0m\u001b[0m\n\u001b[0m\u001b[1;32m    548\u001b[0m \u001b[0;34m\u001b[0m\u001b[0m\n\u001b[1;32m    549\u001b[0m         release_proto: base_pb2.Release = core_wrapper.compute_release(\n",
      "\u001b[0;32m~/work/open_dp/whitenoise-core/bindings-python/whitenoise/base.py\u001b[0m in \u001b[0;36mvalidate\u001b[0;34m(self)\u001b[0m\n\u001b[1;32m    535\u001b[0m         return core_wrapper.validate_analysis(\n\u001b[1;32m    536\u001b[0m             \u001b[0mself\u001b[0m\u001b[0;34m.\u001b[0m\u001b[0m_serialize_analysis_proto\u001b[0m\u001b[0;34m(\u001b[0m\u001b[0;34m)\u001b[0m\u001b[0;34m,\u001b[0m\u001b[0;34m\u001b[0m\u001b[0;34m\u001b[0m\u001b[0m\n\u001b[0;32m--> 537\u001b[0;31m             self._serialize_release_proto()).value\n\u001b[0m\u001b[1;32m    538\u001b[0m \u001b[0;34m\u001b[0m\u001b[0m\n\u001b[1;32m    539\u001b[0m     \u001b[0;34m@\u001b[0m\u001b[0mproperty\u001b[0m\u001b[0;34m\u001b[0m\u001b[0;34m\u001b[0m\u001b[0m\n",
      "\u001b[0;32m~/work/open_dp/whitenoise-core/bindings-python/whitenoise/wrapper.py\u001b[0m in \u001b[0;36mvalidate_analysis\u001b[0;34m(analysis, release)\u001b[0m\n\u001b[1;32m     15\u001b[0m             \u001b[0mfunction\u001b[0m\u001b[0;34m=\u001b[0m\u001b[0mlib_validator\u001b[0m\u001b[0;34m.\u001b[0m\u001b[0mvalidate_analysis\u001b[0m\u001b[0;34m,\u001b[0m\u001b[0;34m\u001b[0m\u001b[0;34m\u001b[0m\u001b[0m\n\u001b[1;32m     16\u001b[0m             \u001b[0mresponse_type\u001b[0m\u001b[0;34m=\u001b[0m\u001b[0mapi_pb2\u001b[0m\u001b[0;34m.\u001b[0m\u001b[0mResponseValidateAnalysis\u001b[0m\u001b[0;34m,\u001b[0m\u001b[0;34m\u001b[0m\u001b[0;34m\u001b[0m\u001b[0m\n\u001b[0;32m---> 17\u001b[0;31m             ffi=ffi_validator)\n\u001b[0m\u001b[1;32m     18\u001b[0m \u001b[0;34m\u001b[0m\u001b[0m\n\u001b[1;32m     19\u001b[0m     \u001b[0;34m@\u001b[0m\u001b[0mstaticmethod\u001b[0m\u001b[0;34m\u001b[0m\u001b[0;34m\u001b[0m\u001b[0m\n",
      "\u001b[0;32m~/work/open_dp/whitenoise-core/bindings-python/whitenoise/wrapper.py\u001b[0m in \u001b[0;36m_communicate\u001b[0;34m(function, argument, response_type, ffi)\u001b[0m\n\u001b[1;32m    108\u001b[0m \u001b[0;34m\u001b[0m\u001b[0m\n\u001b[1;32m    109\u001b[0m         \u001b[0;31m# stack traces beyond this point come from the internal rust libraries\u001b[0m\u001b[0;34m\u001b[0m\u001b[0;34m\u001b[0m\u001b[0;34m\u001b[0m\u001b[0m\n\u001b[0;32m--> 110\u001b[0;31m         \u001b[0;32mraise\u001b[0m \u001b[0mRuntimeError\u001b[0m\u001b[0;34m(\u001b[0m\u001b[0mlibrary_traceback\u001b[0m\u001b[0;34m)\u001b[0m\u001b[0;34m\u001b[0m\u001b[0;34m\u001b[0m\u001b[0m\n\u001b[0m\u001b[1;32m    111\u001b[0m     \u001b[0;32mreturn\u001b[0m \u001b[0mresponse\u001b[0m\u001b[0;34m.\u001b[0m\u001b[0mdata\u001b[0m\u001b[0;34m\u001b[0m\u001b[0;34m\u001b[0m\u001b[0m\n",
      "\u001b[0;31mRuntimeError\u001b[0m: \n  Error: node specification LaplaceMechanism(LaplaceMechanism { privacy_usage: [PrivacyUsage { distance: Some(DistanceApproximate(DistanceApproximate { epsilon: 0.65, delta: 0.0 })) }] }):\nCaused by: node specification Mean(Mean):\nCaused by: data may contain nullity when non-nullity is required\n"
     ]
    }
   ],
   "source": [
    "''' fails upon release '''\n",
    "analysis.release()"
   ]
  },
  {
   "cell_type": "code",
   "execution_count": null,
   "metadata": {},
   "outputs": [],
   "source": []
  }
 ],
 "metadata": {
  "kernelspec": {
   "display_name": "Python 3",
   "language": "python",
   "name": "python3"
  },
  "language_info": {
   "codemirror_mode": {
    "name": "ipython",
    "version": 3
   },
   "file_extension": ".py",
   "mimetype": "text/x-python",
   "name": "python",
   "nbconvert_exporter": "python",
   "pygments_lexer": "ipython3",
   "version": "3.7.3-final"
  }
 },
 "nbformat": 4,
 "nbformat_minor": 2
}