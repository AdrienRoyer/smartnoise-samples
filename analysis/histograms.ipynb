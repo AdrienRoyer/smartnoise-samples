{
 "cells": [
  {
   "cell_type": "markdown",
   "metadata": {},
   "source": [
    "# Histograms\n",
    "This notebook demonstrates simple use of histograms in WhiteNoise."
   ]
  },
  {
   "cell_type": "markdown",
   "metadata": {},
   "source": [
    "### Set up libraries and load exemplar dataset"
   ]
  },
  {
   "cell_type": "code",
   "execution_count": 1,
   "metadata": {},
   "outputs": [
    {
     "name": "stdout",
     "output_type": "stream",
     "text": [
      "Dimension of dataset: (1000,)\n",
      "Names of variables:   ('age', 'sex', 'educ', 'race', 'income', 'married')\n"
     ]
    }
   ],
   "source": [
    "# load libraries\n",
    "import os\n",
    "import whitenoise\n",
    "import whitenoise.components as op\n",
    "import numpy as np\n",
    "import math\n",
    "import statistics\n",
    "\n",
    "# establish data information\n",
    "data_path = os.path.join('.', 'data', 'PUMS_california_demographics_1000', 'data.csv')\n",
    "var_names = [\"age\", \"sex\", \"educ\", \"race\", \"income\", \"married\"]\n",
    "\n",
    "data = np.genfromtxt(data_path, delimiter=',', names=True)\n",
    "age = list(data[:]['age'])\n",
    "\n",
    "print(\"Dimension of dataset: \" + str(data.shape))\n",
    "print(\"Names of variables:   \" + str(data.dtype.names))"
   ]
  },
  {
   "cell_type": "code",
   "execution_count": 64,
   "metadata": {},
   "outputs": [
    {
     "name": "stdout",
     "output_type": "stream",
     "text": [
      "Income histogram Geometric DP release:   [329 180 125 101  45  63  -6  30  26  89]\n",
      "Income histogram Laplace DP release:     [ 76.40764279 355.3160112  242.56777176 130.30326931 124.27142863\n",
      "  73.47678217 -46.0029811   64.0108219   -4.44406911  12.98947629]\n",
      "Sex histogram Geometric DP release:      [504 518]\n",
      "Sex histogram Laplace DP release:        [480.55081184 509.07244024]\n",
      "Education histogram Geometric DP release:[  13   22   -5  212   32  190   50  -26  -43   56  -23 -131  131   47\n",
      "  -13   79   58  193]\n",
      "Education histogram Laplace DP release:  [-1.06167725e+01 -2.78249041e+01  6.73052421e+01  2.09403491e+02\n",
      "  1.23429471e+02  8.27580777e+01  2.59713659e+01  2.11680106e+01\n",
      "  9.26981054e-01  1.30832585e+01  1.46611980e+02  5.58129084e+01\n",
      "  3.12005957e-02  5.82967428e+01  1.68449041e+00  2.48531285e+01\n",
      "  3.46150050e+01  2.18036182e+02]\n"
     ]
    }
   ],
   "source": [
    "income_edges = list(range(0, 100000, 10000))\n",
    "education_categories = [\"1\", \"2\", \"3\", \"4\", \"5\", \"6\", \"7\", \"8\", \"9\", \"10\", \"11\", \"12\", \"13\", \"14\", \"15\", \"16\", \"17\"]\n",
    "\n",
    "\n",
    "with whitenoise.Analysis() as analysis:\n",
    "    data = whitenoise.Dataset(path = data_path, column_names = var_names)\n",
    "        \n",
    "    income_histogram = op.dp_histogram(\n",
    "            op.cast(data['income'], type='int', min=0, max=100),\n",
    "            edges = income_edges,\n",
    "            count_max = 1000,\n",
    "            null_value = 150,\n",
    "            privacy_usage = {'epsilon': 1.}\n",
    "        )\n",
    "\n",
    "    income_prep = op.histogram(op.cast(data['income'], type='int', min=0, max=100), \n",
    "                                     edges=income_edges, null_value =-1)\n",
    "    income_histogram2 = op.laplace_mechanism(income_prep, privacy_usage={\"epsilon\": 1, \"delta\": .000001})\n",
    "    \n",
    "    sex_histogram = op.dp_histogram(\n",
    "            op.cast(data['sex'], type='bool', true_label=\"1\"),\n",
    "            count_max = 1000,\n",
    "            privacy_usage = {'epsilon': 2.}\n",
    "        )\n",
    "    \n",
    "    sex_prep = op.histogram(op.cast(data['sex'], type='bool', true_label=\"1\"), null_value = True)\n",
    "    sex_histogram2 = op.laplace_mechanism(sex_prep, privacy_usage={\"epsilon\": 1, \"delta\": .000001})\n",
    "    \n",
    "    education_histogram = op.dp_histogram(\n",
    "            data['educ'],\n",
    "            categories = education_categories,\n",
    "            null_value = \"-1\",\n",
    "            privacy_usage = {'epsilon': 2.}\n",
    "        )\n",
    "\n",
    "    education_prep = op.histogram(data['educ'],\n",
    "            categories = education_categories, null_value = \"-1\")\n",
    "    education_histogram2 = op.laplace_mechanism(education_prep, privacy_usage={\"epsilon\": 1, \"delta\": .000001})\n",
    "    \n",
    "\n",
    "analysis.release()\n",
    "\n",
    "print(\"Income histogram Geometric DP release:   \" + str(income_histogram.value))\n",
    "print(\"Income histogram Laplace DP release:     \" + str(income_histogram2.value))\n",
    "\n",
    "print(\"Sex histogram Geometric DP release:      \" + str(sex_histogram.value))\n",
    "print(\"Sex histogram Laplace DP release:        \" + str(sex_histogram2.value))\n",
    "\n",
    "print(\"Education histogram Geometric DP release:\" + str(education_histogram.value))\n",
    "print(\"Education histogram Laplace DP release:  \" + str(education_histogram2.value))"
   ]
  },
  {
   "cell_type": "code",
   "execution_count": 69,
   "metadata": {},
   "outputs": [
    {
     "data": {
      "image/png": "[encoded data removed]",
      "text/plain": [
       "<Figure size 432x288 with 1 Axes>"
      ]
     },
     "metadata": {
      "needs_background": "light"
     },
     "output_type": "display_data"
    },
    {
     "data": {
      "image/png": "[encoded data removed]",
      "text/plain": [
       "<Figure size 432x288 with 1 Axes>"
      ]
     },
     "metadata": {
      "needs_background": "light"
     },
     "output_type": "display_data"
    }
   ],
   "source": [
    "import matplotlib.pyplot as plt\n",
    "\n",
    "\n",
    "data = np.genfromtxt(data_path, delimiter=',', names=True)\n",
    "income = list(data[:]['income'])\n",
    "sex = list(data[:]['sex'])\n",
    "education = list(data[:]['educ'])\n",
    "\n",
    "# An \"interface\" to matplotlib.axes.Axes.hist() method\n",
    "n_income, bins, patches = plt.hist(income, bins=list(range(0,110000,10000)), color='#0504aa',\n",
    "                            alpha=0.7, rwidth=0.85)\n",
    "plt.grid(axis='y', alpha=0.75)\n",
    "plt.xlabel('Income')\n",
    "plt.ylabel('Frequency')\n",
    "plt.title('True Dataset Income Distribution')\n",
    "plt.show()\n",
    "\n",
    "#n, bins, patches = plt.hist(sex, bins=[-0.33,0.33,0.67,1.33], color='#0504aa',\n",
    "#                            alpha=0.7, rwidth=0.85)\n",
    "#plt.grid(axis='y', alpha=0.75)\n",
    "#plt.xlabel('Sex')\n",
    "#plt.ylabel('Frequency')\n",
    "#plt.title('True Dataset Sex Distribution')\n",
    "#plt.show()\n",
    "\n",
    "n_educ, bins, patches = plt.hist(education, bins=list(range(1,20,1)), color='#0504aa',\n",
    "                            alpha=0.7, rwidth=0.85)\n",
    "plt.grid(axis='y', alpha=0.75)\n",
    "plt.xlabel('Education')\n",
    "plt.ylabel('Frequency')\n",
    "plt.title('True Dataset Education Distribution')\n",
    "plt.show()"
   ]
  },
  {
   "cell_type": "code",
   "execution_count": 75,
   "metadata": {},
   "outputs": [
    {
     "data": {
      "image/png": "[encoded data removed]",
      "text/plain": [
       "<Figure size 432x288 with 1 Axes>"
      ]
     },
     "metadata": {
      "needs_background": "light"
     },
     "output_type": "display_data"
    },
    {
     "data": {
      "image/png": "[encoded data removed]",
      "text/plain": [
       "<Figure size 432x288 with 1 Axes>"
      ]
     },
     "metadata": {
      "needs_background": "light"
     },
     "output_type": "display_data"
    }
   ],
   "source": [
    "import matplotlib.pyplot as plt\n",
    "\n",
    "\n",
    "\n",
    "#fig = plt.figure()\n",
    "#ax = fig.add_axes([0,0,1,1])\n",
    "#plt.ylim([-100,500])\n",
    "#inccat = [\"10k\",\"20k\",\"30k\",\"40k\",\"50k\",\"60k\",\"70k\",\"80k\",\"90k\",\"100k\"]\n",
    "#ax.bar(inccat, income_histogram.value)\n",
    "#ax.bar(inccat, income_histogram2.value)\n",
    "#plt.title(\"Geometric Income Release\")\n",
    "#plt.show()\n",
    "\n",
    "#fig = plt.figure()\n",
    "#ax = fig.add_axes([0,0,1,1])\n",
    "#plt.ylim([-100,500])\n",
    "#inccat = [\"10k\",\"20k\",\"30k\",\"40k\",\"50k\",\"60k\",\"70k\",\"80k\",\"90k\",\"100k\"]\n",
    "#ax.bar(inccat, income_histogram2.value)\n",
    "#plt.title(\"Laplace Income Release\")\n",
    "#plt.show()\n",
    "\n",
    "#fig = plt.figure()\n",
    "#ax = fig.add_axes([0,0,1,1])\n",
    "#sexcat = [\"M\",\"F\"] # or reversed?\n",
    "#ax.bar(sexcat, sex_histogram.value)\n",
    "#plt.show()\n",
    "\n",
    "\n",
    "#fig = plt.figure()\n",
    "#ax = fig.add_axes([0,0,1,1])\n",
    "#edcat = [\"1\", \"2\", \"3\", \"4\", \"5\", \"6\", \"7\", \"8\", \"9\", \"10\", \"11\", \"12\", \"13\", \"14\", \"15\", \"16\", \"17\", \"18\"]\n",
    "#ax.bar(edcat, education_histogram2.value)\n",
    "#plt.title(\"Laplace Education Release\")\n",
    "#plt.show()\n",
    "\n",
    "colorseq = [\"forestgreen\", \"orangered\", \"orchid\"]\n",
    "\n",
    "fig = plt.figure()\n",
    "ax = fig.add_axes([0,0,1,1])\n",
    "plt.ylim([-100,500])\n",
    "#inccat = [\"10k\",\"20k\",\"30k\",\"40k\",\"50k\",\"60k\",\"70k\",\"80k\",\"90k\",\"100k\"]\n",
    "inccat = [10,20,30,40,50,60,70,80,90,100]\n",
    "width=3\n",
    "inccat_left = [x + 2*width for x in inccat]\n",
    "inccat_right = [x + width for x in inccat]\n",
    "\n",
    "\n",
    "ax.bar(inccat, n_income, width=width, color=colorseq[0], label='True Value')\n",
    "ax.bar(inccat_left, income_histogram.value, width=width, color=colorseq[1], label='DP Geometric')\n",
    "ax.bar(inccat_right, income_histogram2.value, width=width, color=colorseq[2], label='DP Laplace')\n",
    "ax.legend()\n",
    "plt.title(\"Geometric Income Release\")\n",
    "plt.show()\n",
    "\n",
    "\n",
    "\n",
    "fig = plt.figure()\n",
    "ax = fig.add_axes([0,0,1,1])\n",
    "edcat = list(range(1,19))\n",
    "width = 0.3\n",
    "edcat_left = [x + 2*width for x in edcat]\n",
    "edcat_right = [x + width for x in edcat]\n",
    "\n",
    "ax.bar(edcat, n_educ, width=width, color=colorseq[0], label='True Value')\n",
    "ax.bar(edcat_left, education_histogram.value, width=width, color=colorseq[1], label='DP Geometric')\n",
    "ax.bar(edcat_right, education_histogram2.value, width=width, color=colorseq[2], label='DP Laplace')\n",
    "ax.legend()\n",
    "plt.title(\"Geometric Education Release\")\n",
    "plt.show()\n",
    "\n",
    "\n"
   ]
  },
  {
   "cell_type": "code",
   "execution_count": 70,
   "metadata": {},
   "outputs": [
    {
     "data": {
      "text/plain": [
       "18"
      ]
     },
     "execution_count": 70,
     "metadata": {},
     "output_type": "execute_result"
    }
   ],
   "source": [
    "len(n_educ)"
   ]
  },
  {
   "cell_type": "code",
   "execution_count": 74,
   "metadata": {},
   "outputs": [
    {
     "data": {
      "text/plain": [
       "array([ 33.,  14.,  38.,  17.,  24.,  21.,  31.,  51., 201.,  60., 165.,\n",
       "        76., 178.,  54.,  24.,  13.,   0.,   0.])"
      ]
     },
     "execution_count": 74,
     "metadata": {},
     "output_type": "execute_result"
    }
   ],
   "source": [
    "n_educ\n",
    "\n"
   ]
  },
  {
   "cell_type": "code",
   "execution_count": null,
   "metadata": {},
   "outputs": [],
   "source": []
  }
 ],
 "metadata": {
  "kernelspec": {
   "display_name": "Python 3",
   "language": "python",
   "name": "python3"
  },
  "language_info": {
   "codemirror_mode": {
    "name": "ipython",
    "version": 3
   },
   "file_extension": ".py",
   "mimetype": "text/x-python",
   "name": "python",
   "nbconvert_exporter": "python",
   "pygments_lexer": "ipython3",
   "version": "3.7.1"
  }
 },
 "nbformat": 4,
 "nbformat_minor": 2
}
