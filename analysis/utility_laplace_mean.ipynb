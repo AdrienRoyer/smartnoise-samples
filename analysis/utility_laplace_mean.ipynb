{
 "cells": [
  {
   "cell_type": "markdown",
   "metadata": {},
   "source": [
    "# Demonstrate the Utility of a Differentially Private Release by Simulation\n",
    "\n",
    "This notebook provides shows how to numerically approximate the amount of utility of a differentially private release over different dataset sizes, and different ranges of the privacy loss parameter, epsilon."
   ]
  },
  {
   "cell_type": "markdown",
   "metadata": {},
   "source": [
    "### Set up libraries and load exemplar dataset"
   ]
  },
  {
   "cell_type": "code",
   "execution_count": 1,
   "metadata": {},
   "outputs": [
    {
     "name": "stdout",
     "output_type": "stream",
     "text": [
      "Dimension of dataset: (1000,)\n",
      "Names of variables:   ('age', 'sex', 'educ', 'race', 'income', 'married')\n"
     ]
    }
   ],
   "source": [
    "# load libraries\n",
    "import os\n",
    "import opendp.whitenoise.core as wn\n",
    "import numpy as np\n",
    "import math\n",
    "\n",
    "# establish data information\n",
    "data_path = os.path.join('.', 'data', 'PUMS_california_demographics_1000', 'data.csv')\n",
    "var_names = [\"age\", \"sex\", \"educ\", \"race\", \"income\", \"married\"]\n",
    "\n",
    "data = np.genfromtxt(data_path, delimiter=',', names=True)\n",
    "age = list(data[:]['age'])\n",
    "\n",
    "print(\"Dimension of dataset: \" + str(data.shape))\n",
    "print(\"Names of variables:   \" + str(data.dtype.names))"
   ]
  },
  {
   "cell_type": "markdown",
   "metadata": {},
   "source": [
    "### Construct a loglinear sequence of parameters to run repeated simulations over, to demonstrate utility\n",
    "\n",
    "We want to simulate over different sizes of dataset, and different values of the privacy parameter, epsilon.  However, as we will see, roughly logarithmic changes in these two underlying values will be linearly related to our measure of utility, so we first set up values to iterate over."
   ]
  },
  {
   "cell_type": "code",
   "execution_count": 2,
   "metadata": {},
   "outputs": [
    {
     "name": "stdout",
     "output_type": "stream",
     "text": [
      "Sequence of dataset sizes:  [200, 250, 313, 391, 490, 613, 766, 959, 1199, 1500]\n",
      "Sequence of epsilon values: [1.   0.22 0.05 0.01]\n"
     ]
    }
   ],
   "source": [
    "n_sims = 100\n",
    "def logsequence(start, stop, num, base=10, decimals=2, asint=False):\n",
    "    my_seq = np.linspace(start=math.log10(start), stop=math.log10(stop), num=num)\n",
    "    my_seq = np.power(10, my_seq)\n",
    "    if asint:\n",
    "        my_seq = list(my_seq.round().astype(int))\n",
    "    else:\n",
    "        my_seq = my_seq.round(decimals=decimals)\n",
    "    return my_seq\n",
    "\n",
    "n_seq = logsequence(start=200, stop=1500, num=10, asint=True)\n",
    "epsilon_seq = logsequence(start=1, stop=0.01, num=4, decimals=2)\n",
    "\n",
    "print(\"Sequence of dataset sizes:  \" + str(n_seq))\n",
    "print(\"Sequence of epsilon values: \" + str(epsilon_seq))"
   ]
  },
  {
   "cell_type": "markdown",
   "metadata": {},
   "source": [
    "### Bootstrap the data and generate DP releases over different dataset sizes and values of epsilon\n",
    "\n",
    "Our dataset has 1000 observations, but we are going to simulate with many different scales of dataset.  In each simulation we will create a new dataset by sampling with replacement (bootstrapping) observations from the original dataset.  Thus, for the purposes of this simulation, we are treating the original dataset as if it were representative of a population, and creating possible plausible datasets that might have been drawn from that population.\n",
    "\n",
    "We'll also vary the privacy-loss parameter, epsilon.  Finally, at each dataset size and epsilon, we'll run many simulations so we can average them together so as to get a clear picture of average expected behavior.\n",
    "\n",
    "All of these simulations we'll store together in some arrays we can generate plots from later."
   ]
  },
  {
   "cell_type": "code",
   "execution_count": 3,
   "metadata": {},
   "outputs": [
    {
     "name": "stdout",
     "output_type": "stream",
     "text": [
      "Example simulations: \n",
      "\n",
      "[[2.00000000e+02 1.00000000e+00 6.49453005e-01]\n",
      " [2.00000000e+02 2.20000000e-01 3.23033088e+00]\n",
      " [2.00000000e+02 5.00000000e-02 1.61613851e+01]\n",
      " [2.00000000e+02 1.00000000e-02 8.94899060e+01]\n",
      " [2.50000000e+02 1.00000000e+00 5.72472737e-01]]\n"
     ]
    }
   ],
   "source": [
    "rawhistory = np.zeros(shape=(len(n_seq)*len(epsilon_seq)*n_sims, 4), dtype=float)\n",
    "agghistory = np.zeros(shape=(len(n_seq)*len(epsilon_seq), 3), dtype=float)\n",
    "\n",
    "temp_data_path = os.path.join('.', 'data', 'PUMS_california_demographics_1000', 'temp.csv')\n",
    "\n",
    "rawcount = -1\n",
    "aggcount = -1\n",
    "\n",
    "for i in n_seq:\n",
    "    for j in epsilon_seq:\n",
    "        aggcount += 1\n",
    "        error = [0] * n_sims\n",
    "        for k in range(n_sims):\n",
    "            rawcount += 1\n",
    "            \n",
    "            # Mean release\n",
    "            tempdata = np.random.choice(a=age, size=i)\n",
    "            np.savetxt(fname=temp_data_path, X=tempdata, delimiter=',', header='age', comments=\"\")\n",
    "            \n",
    "            \n",
    "            with wn.Analysis() as analysis:\n",
    "                # load data\n",
    "                data = wn.Dataset(path = temp_data_path, column_names = [\"age\"])\n",
    "\n",
    "                # get mean of age\n",
    "                age_mean = wn.dp_mean(data = wn.to_float(data['age']),\n",
    "                          privacy_usage = {'epsilon': j},\n",
    "                          data_lower = 0.,\n",
    "                          data_upper = 100.,\n",
    "                          data_n = i\n",
    "                         )\n",
    "            analysis.release()\n",
    "            \n",
    "            release = age_mean.value\n",
    "            sample_truth = tempdata.mean()\n",
    "            error[k] = sample_truth - release\n",
    "     \n",
    "            rawhistory[rawcount, 0] = i\n",
    "            rawhistory[rawcount, 1] = j\n",
    "            rawhistory[rawcount, 2] = release\n",
    "            rawhistory[rawcount, 3] = sample_truth\n",
    "        \n",
    "        agghistory[aggcount, 0] = i\n",
    "        agghistory[aggcount, 1] = j\n",
    "        agghistory[aggcount, 2] = math.sqrt(np.power(error,2).mean())\n",
    "\n",
    "        \n",
    "print(\"Example simulations: \\n\")\n",
    "print(agghistory[0:5])  "
   ]
  },
  {
   "cell_type": "markdown",
   "metadata": {},
   "source": [
    "### Plot the simulations of error against sample size for different epsilon values\n",
    "\n",
    "We've measured utility by mean squared error between the differentially private released mean, and the \"true\" mean in the bootstrapped dataset.  In such simulations it's key to decide whether \"truth\" means the value in the sample data at hand, or \"truth\" means the value in the population that data was drawn from.  Which is more relevant depends on context, and the goal of the researcher.  \n",
    "\n",
    "In these simulations, we've decided we're interested in the mean in the dataset at hand, not an inference against the population at large.\n",
    "\n",
    "Here we plot the average root mean squared error (RMSE) in our simulations, for any epsilon and dataset set size, $N$."
   ]
  },
  {
   "cell_type": "code",
   "execution_count": 4,
   "metadata": {},
   "outputs": [
    {
     "data": {
      "image/png": "[encoded data removed]",
      "text/plain": [
       "<Figure size 432x288 with 1 Axes>"
      ]
     },
     "metadata": {
      "needs_background": "light"
     },
     "output_type": "display_data"
    },
    {
     "data": {
      "image/png": "[encoded data removed]",
      "text/plain": [
       "<Figure size 432x288 with 1 Axes>"
      ]
     },
     "metadata": {
      "needs_background": "light"
     },
     "output_type": "display_data"
    }
   ],
   "source": [
    "import matplotlib\n",
    "import matplotlib.pyplot as plt\n",
    "\n",
    "for epsilon in epsilon_seq:\n",
    "    flag = agghistory[:,1] == epsilon\n",
    "    plt.plot(agghistory[flag, 0], agghistory[flag, 2]) \n",
    "  \n",
    "plt.ylabel('RMSE')\n",
    "plt.xlabel('N')\n",
    "plt.show()\n",
    "\n",
    "xloc = round(len(n_seq)*0.4)\n",
    "for epsilon in epsilon_seq:\n",
    "    flag = agghistory[:,1] == epsilon\n",
    "    subhistory = agghistory[flag,:]\n",
    "    plt.plot(subhistory[:, 0], np.log10(subhistory[:, 2])) \n",
    "    plt.text(x=subhistory[xloc,0] , y=np.log10(subhistory[xloc,2]), s=\"\\u03B5 =\" + np.array2string(subhistory[0,1]) )\n",
    "    \n",
    "plt.ylabel('Log RMSE')\n",
    "plt.xlabel('N')\n",
    "plt.show()"
   ]
  },
  {
   "cell_type": "markdown",
   "metadata": {},
   "source": [
    "We see clearly the two guiding rules of differentially private means:\n",
    "1. Higher values of epsilon, mean more privacy loss, and thus less error.\n",
    "2. Larger dataset sizes mean any individual is contributing less to the mean, thus less noise is required to mask their possible contribution, so again, there is less error.\n",
    "\n",
    "In the graphs above, we see that on a logarithmic changes in epsilon result in logarithmic changes in RMSE."
   ]
  }
 ],
 "metadata": {
  "kernelspec": {
   "display_name": "Python 3",
   "language": "python",
   "name": "python3"
  },
  "language_info": {
   "codemirror_mode": {
    "name": "ipython",
    "version": 3
   },
   "file_extension": ".py",
   "mimetype": "text/x-python",
   "name": "python",
   "nbconvert_exporter": "python",
   "pygments_lexer": "ipython3",
   "version": "3.7.4"
  }
 },
 "nbformat": 4,
 "nbformat_minor": 2
}
