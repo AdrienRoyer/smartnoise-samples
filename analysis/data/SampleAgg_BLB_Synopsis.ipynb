{
 "cells": [
  {
   "cell_type": "code",
   "execution_count": 215,
   "metadata": {
    "collapsed": true
   },
   "outputs": [],
   "source": [
    "import pyspark\n",
    "import numpy as np\n",
    "import pandas as pd\n",
    "from pyspark.sql import SparkSession\n",
    "from pyspark.sql.functions import *\n",
    "spark = SparkSession.builder.getOrCreate()"
   ]
  },
  {
   "cell_type": "code",
   "execution_count": 216,
   "metadata": {
    "scrolled": true
   },
   "outputs": [
    {
     "data": {
      "text/plain": [
       "DataFrame[_c0: int, state: int, puma: int, sex: int, age: int, educ: int, income: decimal(6,0), latino: int, black: int, asian: int, married: int, random: double]"
      ]
     },
     "execution_count": 216,
     "metadata": {},
     "output_type": "execute_result"
    }
   ],
   "source": [
    "filepath = \"../../dp-test-datasets/data/PUMS_california_demographics/data.csv\"\n",
    "df5 = spark.read.load(filepath, format=\"csv\", sep=\",\"\n",
    "                    ,inferSchema=\"true\", header=\"true\")\n",
    "\n",
    "\n",
    "df5 = df5.withColumn(\"random\",rand())\n",
    "df5 = df5.filter((df5.random<.001))\n",
    "N = df5.count()\n",
    "num_partitions = N // 60\n",
    "df5 = df5.repartitionByRange(num_partitions, \"random\")\n",
    "# filter to make the dataframe smaller, for testing\n",
    "\n",
    "\n",
    "r = 50\n",
    "df5.persist()\n"
   ]
  },
  {
   "cell_type": "code",
   "execution_count": 217,
   "metadata": {},
   "outputs": [],
   "source": [
    "dftest = df5.filter((df5.random<.0001))\n",
    "groupByCols = [\"sex\",\"married\"]\n",
    "dftest.count()\n",
    "dfkeys = df5.select(groupByCols).distinct()\n",
    "\n",
    "keys_pdf = dfkeys.toPandas()\n"
   ]
  },
  {
   "cell_type": "code",
   "execution_count": 218,
   "metadata": {
    "scrolled": true
   },
   "outputs": [
    {
     "data": {
      "text/html": [
       "<div>\n",
       "<style>\n",
       "    .dataframe thead tr:only-child th {\n",
       "        text-align: right;\n",
       "    }\n",
       "\n",
       "    .dataframe thead th {\n",
       "        text-align: left;\n",
       "    }\n",
       "\n",
       "    .dataframe tbody tr th {\n",
       "        vertical-align: top;\n",
       "    }\n",
       "</style>\n",
       "<table border=\"1\" class=\"dataframe\">\n",
       "  <thead>\n",
       "    <tr style=\"text-align: right;\">\n",
       "      <th></th>\n",
       "      <th></th>\n",
       "      <th>weighted_avg</th>\n",
       "    </tr>\n",
       "    <tr>\n",
       "      <th>sex</th>\n",
       "      <th>married</th>\n",
       "      <th></th>\n",
       "    </tr>\n",
       "  </thead>\n",
       "  <tbody>\n",
       "    <tr>\n",
       "      <th rowspan=\"2\" valign=\"top\">0</th>\n",
       "      <th>0</th>\n",
       "      <td>25710.993439</td>\n",
       "    </tr>\n",
       "    <tr>\n",
       "      <th>1</th>\n",
       "      <td>48220.366655</td>\n",
       "    </tr>\n",
       "    <tr>\n",
       "      <th rowspan=\"2\" valign=\"top\">1</th>\n",
       "      <th>0</th>\n",
       "      <td>23518.815482</td>\n",
       "    </tr>\n",
       "    <tr>\n",
       "      <th>1</th>\n",
       "      <td>21568.187154</td>\n",
       "    </tr>\n",
       "  </tbody>\n",
       "</table>\n",
       "</div>"
      ],
      "text/plain": [
       "             weighted_avg\n",
       "sex married              \n",
       "0   0        25710.993439\n",
       "    1        48220.366655\n",
       "1   0        23518.815482\n",
       "    1        21568.187154"
      ]
     },
     "execution_count": 218,
     "metadata": {},
     "output_type": "execute_result"
    }
   ],
   "source": [
    "r  = 50\n",
    "\n",
    "def wavg(group, avg_name, weight_name):\n",
    "    d = group[avg_name]\n",
    "    w = group[weight_name]\n",
    "    try:\n",
    "        return pd.Series({'weighted_avg': (d * w).sum() / w.sum()})\n",
    "    except ZeroDivisionError:\n",
    "        return pd.Series({'weighted_avg': float('nan')})\n",
    "        \n",
    "     \n",
    "    \n",
    "def synopsis(partition):\n",
    "    #convert partition into pandas dataframe\n",
    "    pList = list(partition)\n",
    "    pLen = len(pList)\n",
    "    vals = [None] * pLen   \n",
    "    for i in range(pLen):\n",
    "         # fill array with Row      \n",
    "        vals[i] = pList[i]\n",
    "    pdf = pd.DataFrame(vals) \n",
    "    pdf.columns = vals[0].__fields__\n",
    "    pdf['income'] = pd.to_numeric(pdf.income, errors='coerce')\n",
    "   \n",
    "    # sample multinomial to get array of weights       \n",
    "    weights = np.random.multinomial(N, [1/pLen]*pLen, size=r)\n",
    "   \n",
    "    \n",
    "    # For each run:\n",
    "    # For group by key combination (fill empties with 0)\n",
    "    # run the estimator on the groups and collect the result.     \n",
    "    all_runs = None \n",
    "  \n",
    "    for i in range(r):   \n",
    "        pdf['weights'] = weights[i]\n",
    "        merged = pd.merge(pdf, keys_pdf, how='outer', on= groupByCols)\n",
    "        merged[\"weights\"] = merged[\"weights\"].fillna(0)\n",
    "        avg_income = merged.groupby(groupByCols).apply(wavg, \"income\", \"weights\").reset_index()\n",
    "        if (all_runs is None):\n",
    "            all_runs = avg_income\n",
    "        else:\n",
    "            all_runs = all_runs.append(avg_income)\n",
    "            \n",
    "    mean_runs = all_runs.groupby(groupByCols).mean().reset_index()\n",
    "    yield mean_runs\n",
    "        \n",
    "result_list = df5.rdd.mapPartitions(synopsis).collect()\n",
    "all_results = result_list[0]\n",
    "for i in range(1,len(resultList)):\n",
    "    all_results = all_results.append(result_list)\n",
    "\n",
    "all_results.groupby(groupByCols).mean()"
   ]
  },
  {
   "cell_type": "code",
   "execution_count": 219,
   "metadata": {},
   "outputs": [
    {
     "name": "stdout",
     "output_type": "stream",
     "text": [
      "+---+-------+-----------+\n",
      "|sex|married|avg(income)|\n",
      "+---+-------+-----------+\n",
      "|  0|      0| 25509.5843|\n",
      "|  0|      1| 47713.7714|\n",
      "|  1|      0| 24053.6766|\n",
      "|  1|      1| 21572.5231|\n",
      "+---+-------+-----------+\n",
      "\n"
     ]
    }
   ],
   "source": [
    "\n",
    "import pyspark.sql.functions as f\n",
    "df5.groupBy(\"sex\",\"married\").mean().select(\"sex\",\"married\",\"avg(income)\").orderBy(groupByCols).show()"
   ]
  },
  {
   "cell_type": "code",
   "execution_count": null,
   "metadata": {
    "collapsed": true
   },
   "outputs": [],
   "source": []
  }
 ],
 "metadata": {
  "kernelspec": {
   "display_name": "Python 3",
   "language": "python",
   "name": "python3"
  },
  "language_info": {
   "codemirror_mode": {
    "name": "ipython",
    "version": 3
   },
   "file_extension": ".py",
   "mimetype": "text/x-python",
   "name": "python",
   "nbconvert_exporter": "python",
   "pygments_lexer": "ipython3",
   "version": "3.6.1"
  }
 },
 "nbformat": 4,
 "nbformat_minor": 2
}
