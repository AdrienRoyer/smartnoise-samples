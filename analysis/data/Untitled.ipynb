{
 "cells": [
  {
   "cell_type": "code",
   "execution_count": 1,
   "metadata": {},
   "outputs": [],
   "source": [
    "import pyspark\n",
    "import numpy as np\n",
    "import pandas as pd\n",
    "from pyspark.sql import SparkSession\n",
    "from pyspark.sql.functions import *\n",
    "spark = SparkSession.builder.getOrCreate()"
   ]
  },
  {
   "cell_type": "code",
   "execution_count": 2,
   "metadata": {},
   "outputs": [],
   "source": [
    "from sample_agg_blb import SampleAggregate"
   ]
  },
  {
   "cell_type": "code",
   "execution_count": 3,
   "metadata": {},
   "outputs": [
    {
     "name": "stdout",
     "output_type": "stream",
     "text": [
      "12239\n"
     ]
    }
   ],
   "source": [
    "filepath = \"../../../dp-test-datasets/data/PUMS_california_demographics/data.csv\"\n",
    "df5 = spark.read.load(filepath, format=\"csv\", sep=\",\"\n",
    "                    ,inferSchema=\"true\", header=\"true\")\n",
    "\n",
    "sa = SampleAggregate(df5)\n",
    "print(sa.parts)"
   ]
  },
  {
   "cell_type": "code",
   "execution_count": 4,
   "metadata": {},
   "outputs": [],
   "source": [
    "#df5 = sa.df.withColumn(\"rand\", rand())\n",
    "sa.sample()\n"
   ]
  },
  {
   "cell_type": "code",
   "execution_count": 5,
   "metadata": {},
   "outputs": [
    {
     "name": "stdout",
     "output_type": "stream",
     "text": [
      "+------+---+-----+-----+----+--------------------+------+-------+------------------+-----+---+-----+\n",
      "|   _c0|age|asian|black|educ|              income|latino|married|     partkey_0x011| puma|sex|state|\n",
      "+------+---+-----+-----+----+--------------------+------+-------+------------------+-----+---+-----+\n",
      "|  1293| 86|    0|    0|   6|4680.000000000000...|     0|      1|-9.998446756713932|60100|  1|    6|\n",
      "|  1649| 85|    0|    0|   9|2400.000000000000...|     0|      0|-9.998911414199208|60100|  1|    6|\n",
      "|  9686| 84|    0|    0|   8|8400.000000000000...|     0|      0|-9.998436177191097|60200|  0|    6|\n",
      "| 11160| 71|    0|    0|   9|               0E-18|     0|      1|-9.999094825495128|60200|  1|    6|\n",
      "| 38649| 42|    0|    0|  13|45000.00000000000...|     0|      1|-9.999581017530403|60600|  0|    6|\n",
      "| 68195| 40|    0|    0|   9|35300.00000000000...|     0|      1| -9.99939993386433|61102|  0|    6|\n",
      "| 71720| 32|    0|    0|  10|16200.00000000000...|     0|      1|-9.999692153228432|61103|  0|    6|\n",
      "| 83395| 50|    0|    0|  14|36000.00000000000...|     0|      0|-9.998094723166433|61202|  1|    6|\n",
      "|106392| 52|    0|    0|   9|8700.000000000000...|     1|      0|-9.998714012372002|61401|  1|    6|\n",
      "|120641| 21|    1|    0|  10|73000.00000000000...|     0|      0|-9.999555394393791|61501|  0|    6|\n",
      "|132825| 20|    0|    0|  11|29000.00000000000...|     1|      0|-9.999592139121434|61504|  0|    6|\n",
      "|155269| 75|    0|    0|  10|110000.0000000000...|     0|      1|-9.998365149551615|61602|  1|    6|\n",
      "|166900| 93|    0|    0|   9|8400.000000000000...|     0|      0|-9.998309432146593|61800|  1|    6|\n",
      "|172718| 24|    0|    0|   9|               0E-18|     1|      0|-9.999264196288237|63100|  0|    6|\n",
      "|182661| 40|    0|    0|  12|7400.000000000000...|     1|      0|-9.998371322240713|61901|  0|    6|\n",
      "|201761| 89|    0|    0|   9|42000.00000000000...|     0|      0|-9.998354632579595|62500|  1|    6|\n",
      "|211674| 21|    0|    0|  11|               0E-18|     0|      0|-9.998232488886796|62601|  0|    6|\n",
      "|212901| 23|    0|    0|   5|36000.00000000000...|     1|      0|-9.999810568622191|62602|  0|    6|\n",
      "|217981| 24|    0|    0|  13|40200.00000000000...|     0|      1|-9.998469180005937|62101|  0|    6|\n",
      "|234865| 32|    0|    0|  13|100100.0000000000...|     0|      1|-9.998766402102653|62104|  0|    6|\n",
      "+------+---+-----+-----+----+--------------------+------+-------+------------------+-----+---+-----+\n",
      "only showing top 20 rows\n",
      "\n"
     ]
    }
   ],
   "source": [
    "sa.sampled.show()"
   ]
  },
  {
   "cell_type": "code",
   "execution_count": null,
   "metadata": {},
   "outputs": [],
   "source": []
  }
 ],
 "metadata": {
  "kernelspec": {
   "display_name": "Python 3",
   "language": "python",
   "name": "python3"
  },
  "language_info": {
   "codemirror_mode": {
    "name": "ipython",
    "version": 3
   },
   "file_extension": ".py",
   "mimetype": "text/x-python",
   "name": "python",
   "nbconvert_exporter": "python",
   "pygments_lexer": "ipython3",
   "version": "3.7.6"
  }
 },
 "nbformat": 4,
 "nbformat_minor": 4
}
