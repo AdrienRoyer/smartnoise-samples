{
 "cells": [
  {
   "cell_type": "code",
   "execution_count": 27,
   "metadata": {
    "collapsed": true
   },
   "outputs": [],
   "source": [
    "import pyspark\n",
    "import numpy as np\n",
    "import pandas as pd\n",
    "from pyspark.sql import SparkSession\n",
    "from pyspark.sql.functions import *\n",
    "from sample_agg_blb import SampleAggregate\n",
    "spark = SparkSession.builder.getOrCreate()"
   ]
  },
  {
   "cell_type": "code",
   "execution_count": 28,
   "metadata": {
    "collapsed": true
   },
   "outputs": [],
   "source": [
    "from pyspark.sql.types import FloatType, BooleanType\n",
    "\n",
    "filepath = \"../../../dp-test-datasets/data/PUMS_california_demographics/data.csv\"\n",
    "pums = spark.read.load(filepath, format=\"csv\", sep=\",\",inferSchema=\"true\", header=\"true\")\n",
    "\n",
    "pums = pums.withColumnRenamed(\"_c0\", \"PersonID\")\n",
    "#pums = pums.filter(\"PersonID < 10000\")\n",
    "pums = pums.withColumn(\"income\", col(\"income\").cast(FloatType()))\n",
    "pums = pums.withColumn(\"latino\", col(\"latino\").cast(BooleanType()))\n",
    "pums = pums.withColumn(\"black\", col(\"black\").cast(BooleanType()))\n",
    "pums = pums.withColumn(\"asian\", col(\"asian\").cast(BooleanType()))\n",
    "pums = pums.withColumn(\"married\", col(\"married\").cast(BooleanType()))\n",
    "\n",
    "sa = SampleAggregate(pums)\n"
   ]
  },
  {
   "cell_type": "code",
   "execution_count": 29,
   "metadata": {
    "collapsed": true
   },
   "outputs": [],
   "source": [
    "from itertools import product\n",
    "cols = [\"sex\", \"married\", \"income\", \"age\", \"educ\"] # needs to be a superset of keys\n",
    "keys = [\"married\",\"educ\"]\n",
    "groups = list(product([True, False], range(15)))"
   ]
  },
  {
   "cell_type": "code",
   "execution_count": 30,
   "metadata": {
    "collapsed": true
   },
   "outputs": [],
   "source": [
    "sa.sample(cols)"
   ]
  },
  {
   "cell_type": "code",
   "execution_count": 31,
   "metadata": {
    "collapsed": true
   },
   "outputs": [],
   "source": [
    "sa.aggregate([\"income\", \"age\"], keys, groups) # cols here doesn't need to include keys.  this bootstraps"
   ]
  },
  {
   "cell_type": "code",
   "execution_count": 32,
   "metadata": {
    "collapsed": true
   },
   "outputs": [],
   "source": [
    "def mean_income(data):\n",
    "    cols = list(zip(*list(data)))\n",
    "    income = cols[0]\n",
    "    weights = cols[-1]\n",
    "    weighted_sum = np.sum([i * w for i, a, w in data])\n",
    "    return float(weighted_sum / np.sum(weights))\n",
    "\n",
    "\n",
    "def count(data):\n",
    "    cols = list(zip(*list(data)))\n",
    "    weights = cols[-1]\n",
    "    return int(np.sum(weights))\n",
    "\n",
    "def mean_age(data):\n",
    "    cols = list(zip(*list(data)))\n",
    "    age = cols[1]\n",
    "    weights = cols[-1]\n",
    "    weighted_sum = np.sum([a * w for i, a, w in data])\n",
    "    return float(weighted_sum / np.sum(weights))\n"
   ]
  },
  {
   "cell_type": "code",
   "execution_count": 33,
   "metadata": {
    "scrolled": true
   },
   "outputs": [
    {
     "data": {
      "text/plain": [
       "[Row(group=(True, 1), val=(9600.0,)),\n",
       " Row(group=(True, 4), val=(8783.129075441524,)),\n",
       " Row(group=(True, 5), val=(9038.975202754495,)),\n",
       " Row(group=(True, 6), val=(0.0,)),\n",
       " Row(group=(True, 7), val=(9003.299863340126,))]"
      ]
     },
     "execution_count": 33,
     "metadata": {},
     "output_type": "execute_result"
    }
   ],
   "source": [
    "def mean_income_bootstraps(data):\n",
    "    income_col = 0\n",
    "    num_weights = len(data[0][1])\n",
    "    num_rows = len(data)\n",
    "    weighted_incomes = []\n",
    "    all_weights = []\n",
    "    mean_incomes = []\n",
    "    for vals, weights in data:\n",
    "        weighted_incomes.append([vals[income_col] * wt for wt in weights])\n",
    "        all_weights.append(weights)\n",
    "    \n",
    "    for w in range(num_weights):\n",
    "        sum_incomes = 0\n",
    "        sum_weights = 0\n",
    "        for r in range(num_rows):\n",
    "            sum_incomes += weighted_incomes[r][w]\n",
    "            sum_weights += all_weights[r][w]\n",
    "        mean_incomes.append(sum_incomes / sum_weights)    \n",
    "            \n",
    "    return np.mean(mean_incomes)\n",
    " \n",
    "sa.apply([mean_income_bootstraps])\n",
    "sa.applied.take(5)"
   ]
  },
  {
   "cell_type": "code",
   "execution_count": 34,
   "metadata": {
    "collapsed": true
   },
   "outputs": [],
   "source": [
    "import math\n",
    "\n",
    "def mean_estimator(data, eps, delta, lam, parts):    \n",
    "    if lam is not None:\n",
    "        data = [-lam if d < -lam else lam if d > lam else d for d in data]\n",
    "    sd = (2 * lam * math.sqrt(2 * math.log(1.25 / delta)))/(parts*eps)\n",
    "    np.random.seed()\n",
    "    noise = np.random.normal(0, sd)\n",
    "    theta = float(np.nanmean(data))\n",
    "    return theta + noise\n",
    "    \n",
    "def median_estimator(data, eps, delta, lam, parts):\n",
    "    # not private\n",
    "    return float(np.median(data))"
   ]
  },
  {
   "cell_type": "code",
   "execution_count": 35,
   "metadata": {},
   "outputs": [
    {
     "name": "stdout",
     "output_type": "stream",
     "text": [
      "+-----------+---------------------+\n",
      "|group      |val                  |\n",
      "+-----------+---------------------+\n",
      "|[false, 7] |[18645.11218398119]  |\n",
      "|[true, 4]  |[2281.982280936567]  |\n",
      "|[false, 8] |[5258.986370168394]  |\n",
      "|[false, 9] |[29708.2882832217]   |\n",
      "|[true, 10] |[23403.616917873085] |\n",
      "|[true, 11] |[39760.65794305519]  |\n",
      "|[false, 10]|[24052.39671825686]  |\n",
      "|[true, 9]  |[34483.33409222805]  |\n",
      "|[false, 11]|[15880.360331671496] |\n",
      "|[true, 8]  |[5644.037290017994]  |\n",
      "|[false, 12]|[29759.115894791077] |\n",
      "|[false, 13]|[14337.414295909026] |\n",
      "|[true, 14] |[16654.59016626612]  |\n",
      "|[false, 14]|[26276.122479631136] |\n",
      "|[true, 13] |[43696.03705429409]  |\n",
      "|[false, 1] |[-3629.634980108347] |\n",
      "|[true, 12] |[27543.68267376242]  |\n",
      "|[true, 2]  |[19316.518361979844] |\n",
      "|[true, 3]  |[15215.098003449108] |\n",
      "|[false, 2] |[17880.37184781104]  |\n",
      "|[true, 1]  |[-244.26163148868]   |\n",
      "|[false, 3] |[14244.68664625223]  |\n",
      "|[false, 4] |[15388.822295219088] |\n",
      "|[false, 5] |[-1150.1092781562475]|\n",
      "|[true, 6]  |[16537.731430253887] |\n",
      "|[true, 7]  |[32660.815453978066] |\n",
      "|[false, 6] |[321.4691494139024]  |\n",
      "|[true, 5]  |[6939.46490575105]   |\n",
      "+-----------+---------------------+\n",
      "\n",
      "+-----------+--------------------+\n",
      "|group      |val                 |\n",
      "+-----------+--------------------+\n",
      "|[false, 7] |[6479.947637291762] |\n",
      "|[true, 4]  |[11955.308364864713]|\n",
      "|[false, 8] |[8043.352145670364] |\n",
      "|[false, 9] |[14099.908752826956]|\n",
      "|[true, 10] |[21126.294762417892]|\n",
      "|[true, 11] |[24362.495534300142]|\n",
      "|[false, 10]|[14632.891144742882]|\n",
      "|[true, 9]  |[19035.823840525532]|\n",
      "|[false, 11]|[17417.462854083584]|\n",
      "|[true, 8]  |[12010.54658248647] |\n",
      "|[false, 12]|[17100.15242895552] |\n",
      "|[false, 13]|[25999.993087282775]|\n",
      "|[true, 14] |[38000.0]           |\n",
      "|[false, 14]|[30450.0]           |\n",
      "|[true, 13] |[34111.34879038161] |\n",
      "|[false, 1] |[9700.0]            |\n",
      "|[true, 12] |[26216.55467224554] |\n",
      "|[true, 2]  |[7700.0]            |\n",
      "|[true, 3]  |[8000.0]            |\n",
      "|[false, 2] |[8400.0]            |\n",
      "|[true, 1]  |[10322.876661592012]|\n",
      "|[false, 3] |[8166.798804997208] |\n",
      "|[false, 4] |[10327.211705859108]|\n",
      "|[false, 5] |[8300.0]            |\n",
      "|[true, 6]  |[11365.624365472013]|\n",
      "|[true, 7]  |[10169.14455442295] |\n",
      "|[false, 6] |[8703.253451018129] |\n",
      "|[true, 5]  |[8829.300674057056] |\n",
      "+-----------+--------------------+\n",
      "\n"
     ]
    }
   ],
   "source": [
    "eps = 1.0\n",
    "delta = 1E-9\n",
    "sens = [100000, 65, 350000]\n",
    "\n",
    "est_mean = sa.estimate(mean_estimator, eps, delta, sens)\n",
    "\n",
    "est_med = sa.estimate(median_estimator, eps, delta, sens)\n",
    "\n",
    "\n",
    "est_mean.toDF().show(50, False)\n",
    "est_med.toDF().show(50, False)"
   ]
  },
  {
   "cell_type": "code",
   "execution_count": null,
   "metadata": {
    "collapsed": true
   },
   "outputs": [],
   "source": []
  }
 ],
 "metadata": {
  "kernelspec": {
   "display_name": "Python 3",
   "language": "python",
   "name": "python3"
  },
  "language_info": {
   "codemirror_mode": {
    "name": "ipython",
    "version": 3
   },
   "file_extension": ".py",
   "mimetype": "text/x-python",
   "name": "python",
   "nbconvert_exporter": "python",
   "pygments_lexer": "ipython3",
   "version": "3.6.1"
  },
  "pycharm": {
   "stem_cell": {
    "cell_type": "raw",
    "source": [],
    "metadata": {
     "collapsed": false
    }
   }
  }
 },
 "nbformat": 4,
 "nbformat_minor": 4
}