{
 "cells": [
  {
   "cell_type": "code",
   "execution_count": 1,
   "metadata": {},
   "outputs": [],
   "source": [
    "import pyspark\n",
    "import numpy as np\n",
    "import pandas as pd\n",
    "from pyspark.sql import SparkSession\n",
    "from pyspark.sql.functions import *\n",
    "spark = SparkSession.builder.getOrCreate()"
   ]
  },
  {
   "cell_type": "code",
   "execution_count": 2,
   "metadata": {},
   "outputs": [],
   "source": [
    "from sample_agg_blb import SampleAggregate"
   ]
  },
  {
   "cell_type": "code",
   "execution_count": 3,
   "metadata": {},
   "outputs": [
    {
     "name": "stdout",
     "output_type": "stream",
     "text": [
      "1000\n"
     ]
    }
   ],
   "source": [
    "from pyspark.sql.types import FloatType, BooleanType\n",
    "\n",
    "filepath = \"../../../dp-test-datasets/data/PUMS_california_demographics/data.csv\"\n",
    "pums = spark.read.load(filepath, format=\"csv\", sep=\",\",inferSchema=\"true\", header=\"true\")\n",
    "\n",
    "pums = pums.withColumnRenamed(\"_c0\", \"PersonID\")\n",
    "\n",
    "pums = pums.withColumn(\"income\", col(\"income\").cast(FloatType()))\n",
    "pums = pums.withColumn(\"latino\", col(\"latino\").cast(BooleanType()))\n",
    "pums = pums.withColumn(\"black\", col(\"black\").cast(BooleanType()))\n",
    "pums = pums.withColumn(\"asian\", col(\"asian\").cast(BooleanType()))\n",
    "pums = pums.withColumn(\"married\", col(\"married\").cast(BooleanType()))\n",
    "\n",
    "sa = SampleAggregate(pums, 1000)\n",
    "print(sa.parts)"
   ]
  },
  {
   "cell_type": "code",
   "execution_count": 4,
   "metadata": {},
   "outputs": [],
   "source": [
    "cols = [\"sex\", \"married\", \"income\", \"age\"] # needs to be a superset of keys\n",
    "keys = [\"sex\", \"married\"]\n",
    "groups = [(0, True),(0, False), (1, True), (1, False)]"
   ]
  },
  {
   "cell_type": "code",
   "execution_count": 5,
   "metadata": {},
   "outputs": [],
   "source": [
    "sa.sample(cols)"
   ]
  },
  {
   "cell_type": "code",
   "execution_count": 6,
   "metadata": {},
   "outputs": [],
   "source": [
    "sa.aggregate([\"income\"], keys, groups) # cols here doesn't need to include keys.  this bootstraps"
   ]
  },
  {
   "cell_type": "code",
   "execution_count": 7,
   "metadata": {},
   "outputs": [],
   "source": [
    "def mean(data):\n",
    "    cols = list(zip(*list(data)))\n",
    "    income = cols[0]\n",
    "    weights = cols[1]\n",
    "    weighted_sum = np.sum([i * w for i, w in data])\n",
    "    return float(weighted_sum / np.sum(weights))\n",
    "\n",
    "def count(data):\n",
    "    cols = list(zip(*list(data)))\n",
    "    income = cols[0]\n",
    "    weights = cols[1]\n",
    "    return int(np.sum(weights))"
   ]
  },
  {
   "cell_type": "code",
   "execution_count": 8,
   "metadata": {
    "scrolled": true
   },
   "outputs": [
    {
     "name": "stdout",
     "output_type": "stream",
     "text": [
      "+----------+----------------------------+\n",
      "|group     |val                         |\n",
      "+----------+----------------------------+\n",
      "|[0, true] |[47855.65197935947, 331193] |\n",
      "|[0, false]|[26887.162495183664, 249152]|\n",
      "|[1, true] |[17646.977309873768, 338341]|\n",
      "|[1, false]|[24184.752956050652, 305306]|\n",
      "|[0, true] |[49830.71719000795, 320855] |\n",
      "|[0, false]|[31794.825233509087, 234038]|\n",
      "+----------+----------------------------+\n",
      "only showing top 6 rows\n",
      "\n"
     ]
    }
   ],
   "source": [
    "sa.apply([mean, count])\n",
    "sa.applied.toDF().show(6, False)"
   ]
  },
  {
   "cell_type": "code",
   "execution_count": 51,
   "metadata": {},
   "outputs": [],
   "source": [
    "import math\n",
    "\n",
    "def mean_estimator(data, eps, delta, lam, parts):    \n",
    "    if lam is not None:\n",
    "        data = [-lam if d < -lam else lam if d > lam else d for d in data]\n",
    "    sd = (2 * lam * math.sqrt(2 * math.log(1.25 / delta)))/(parts*eps)\n",
    "    np.random.seed()\n",
    "    noise = np.random.normal(0, sd)\n",
    "    theta = float(np.nanmean(data))\n",
    "    return theta + noise\n",
    "    \n",
    "def median_estimator(data, eps, delta, lam, parts):\n",
    "    # not private\n",
    "    return float(np.median(data))"
   ]
  },
  {
   "cell_type": "code",
   "execution_count": 53,
   "metadata": {},
   "outputs": [
    {
     "name": "stdout",
     "output_type": "stream",
     "text": [
      "+----------+---------------------------------------+\n",
      "|group     |val                                    |\n",
      "+----------+---------------------------------------+\n",
      "|[0, true] |[49732.92159408669, 342798.41428865964]|\n",
      "|[0, false]|[27071.639451164112, 260483.5959718357]|\n",
      "|[1, true] |[19739.93315391425, 330146.53035164456]|\n",
      "|[1, false]|[23307.541272480736, 290003.6046781233]|\n",
      "+----------+---------------------------------------+\n",
      "\n"
     ]
    }
   ],
   "source": [
    "eps = 1.0\n",
    "delta = 1E-9\n",
    "sens = [100000, 350000]\n",
    "\n",
    "est = sa.estimate(mean_estimator, eps, delta, sens)\n",
    "\n",
    "#est = sa.estimate(median_estimator, eps, delta, sens)\n",
    "\n",
    "\n",
    "est.toDF().show(5, False)"
   ]
  },
  {
   "cell_type": "code",
   "execution_count": null,
   "metadata": {},
   "outputs": [],
   "source": []
  },
  {
   "cell_type": "code",
   "execution_count": null,
   "metadata": {},
   "outputs": [],
   "source": []
  }
 ],
 "metadata": {
  "kernelspec": {
   "display_name": "Python 3",
   "language": "python",
   "name": "python3"
  },
  "language_info": {
   "codemirror_mode": {
    "name": "ipython",
    "version": 3
   },
   "file_extension": ".py",
   "mimetype": "text/x-python",
   "name": "python",
   "nbconvert_exporter": "python",
   "pygments_lexer": "ipython3",
   "version": "3.7.6"
  }
 },
 "nbformat": 4,
 "nbformat_minor": 4
}
