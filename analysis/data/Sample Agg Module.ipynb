{
 "cells": [
  {
   "cell_type": "code",
   "execution_count": 1,
   "metadata": {},
   "outputs": [],
   "source": [
    "import pyspark\n",
    "import numpy as np\n",
    "import pandas as pd\n",
    "from pyspark.sql import SparkSession\n",
    "from pyspark.sql.functions import *\n",
    "spark = SparkSession.builder.getOrCreate()"
   ]
  },
  {
   "cell_type": "code",
   "execution_count": 2,
   "metadata": {},
   "outputs": [],
   "source": [
    "from sample_agg_blb import SampleAggregate"
   ]
  },
  {
   "cell_type": "code",
   "execution_count": 3,
   "metadata": {},
   "outputs": [
    {
     "name": "stdout",
     "output_type": "stream",
     "text": [
      "12239\n"
     ]
    }
   ],
   "source": [
    "from pyspark.sql.types import FloatType, BooleanType\n",
    "\n",
    "filepath = \"../../../dp-test-datasets/data/PUMS_california_demographics/data.csv\"\n",
    "pums = spark.read.load(filepath, format=\"csv\", sep=\",\",inferSchema=\"true\", header=\"true\")\n",
    "\n",
    "pums = pums.withColumnRenamed(\"_c0\", \"PersonID\")\n",
    "\n",
    "pums = pums.withColumn(\"income\", col(\"income\").cast(FloatType()))\n",
    "pums = pums.withColumn(\"latino\", col(\"latino\").cast(BooleanType()))\n",
    "pums = pums.withColumn(\"black\", col(\"black\").cast(BooleanType()))\n",
    "pums = pums.withColumn(\"asian\", col(\"asian\").cast(BooleanType()))\n",
    "pums = pums.withColumn(\"married\", col(\"married\").cast(BooleanType()))\n",
    "\n",
    "sa = SampleAggregate(pums)\n",
    "print(sa.parts)"
   ]
  },
  {
   "cell_type": "code",
   "execution_count": 4,
   "metadata": {},
   "outputs": [],
   "source": [
    "cols = [\"sex\", \"married\", \"income\", \"age\"] # needs to be a superset of keys\n",
    "keys = [\"sex\", \"married\"]\n",
    "groups = [(0, True),(0, False), (1, True), (1, False)]"
   ]
  },
  {
   "cell_type": "code",
   "execution_count": 5,
   "metadata": {},
   "outputs": [],
   "source": [
    "sa.sample(cols)"
   ]
  },
  {
   "cell_type": "code",
   "execution_count": 11,
   "metadata": {},
   "outputs": [],
   "source": [
    "sa.aggregate([\"income\", \"age\"], keys, groups) # cols here doesn't need to include keys.  this bootstraps"
   ]
  },
  {
   "cell_type": "code",
   "execution_count": 12,
   "metadata": {},
   "outputs": [],
   "source": [
    "def mean_income(data):\n",
    "    cols = list(zip(*list(data)))\n",
    "    income = cols[0]\n",
    "    weights = cols[-1]\n",
    "    weighted_sum = np.sum([i * w for i, a, w in data])\n",
    "    return float(weighted_sum / np.sum(weights))\n",
    "\n",
    "def count(data):\n",
    "    cols = list(zip(*list(data)))\n",
    "    weights = cols[-1]\n",
    "    return int(np.sum(weights))\n",
    "\n",
    "def mean_age(data):\n",
    "    cols = list(zip(*list(data)))\n",
    "    age = cols[1]\n",
    "    weights = cols[-1]\n",
    "    weighted_sum = np.sum([a * w for i, a, w in data])\n",
    "    return float(weighted_sum / np.sum(weights))\n",
    "\n"
   ]
  },
  {
   "cell_type": "code",
   "execution_count": 14,
   "metadata": {
    "scrolled": true
   },
   "outputs": [
    {
     "name": "stdout",
     "output_type": "stream",
     "text": [
      "+----------+------------------------------------------------+\n",
      "|group     |val                                             |\n",
      "+----------+------------------------------------------------+\n",
      "|[0, true] |[51058.70303378147, 52.18651987639935, 344982]  |\n",
      "|[0, false]|[39287.49521914742, 37.935139052061984, 233222] |\n",
      "|[1, true] |[17472.706624496237, 49.002191397463996, 345898]|\n",
      "|[1, false]|[18887.60595551702, 47.816666110907335, 299890] |\n",
      "|[0, true] |[41068.753245853964, 48.65728576032215, 375479] |\n",
      "|[0, false]|[22265.36096159232, 47.719686477320245, 260651] |\n",
      "+----------+------------------------------------------------+\n",
      "only showing top 6 rows\n",
      "\n"
     ]
    }
   ],
   "source": [
    "sa.apply([mean_income, mean_age, count])\n",
    "sa.applied.toDF().show(6, False)"
   ]
  },
  {
   "cell_type": "code",
   "execution_count": 15,
   "metadata": {},
   "outputs": [],
   "source": [
    "import math\n",
    "\n",
    "def mean_estimator(data, eps, delta, lam, parts):    \n",
    "    if lam is not None:\n",
    "        data = [-lam if d < -lam else lam if d > lam else d for d in data]\n",
    "    sd = (2 * lam * math.sqrt(2 * math.log(1.25 / delta)))/(parts*eps)\n",
    "    np.random.seed()\n",
    "    noise = np.random.normal(0, sd)\n",
    "    theta = float(np.nanmean(data))\n",
    "    return theta + noise\n",
    "    \n",
    "def median_estimator(data, eps, delta, lam, parts):\n",
    "    # not private\n",
    "    return float(np.median(data))"
   ]
  },
  {
   "cell_type": "code",
   "execution_count": null,
   "metadata": {},
   "outputs": [],
   "source": [
    "eps = 1.0\n",
    "delta = 1E-9\n",
    "sens = [100000, 65, 350000]\n",
    "\n",
    "est = sa.estimate(mean_estimator, eps, delta, sens)\n",
    "\n",
    "#est = sa.estimate(median_estimator, eps, delta, sens)\n",
    "\n",
    "\n",
    "est.toDF().show(5, False)"
   ]
  },
  {
   "cell_type": "code",
   "execution_count": null,
   "metadata": {},
   "outputs": [],
   "source": []
  },
  {
   "cell_type": "code",
   "execution_count": null,
   "metadata": {},
   "outputs": [],
   "source": []
  }
 ],
 "metadata": {
  "kernelspec": {
   "display_name": "Python 3",
   "language": "python",
   "name": "python3"
  },
  "language_info": {
   "codemirror_mode": {
    "name": "ipython",
    "version": 3
   },
   "file_extension": ".py",
   "mimetype": "text/x-python",
   "name": "python",
   "nbconvert_exporter": "python",
   "pygments_lexer": "ipython3",
   "version": "3.7.6"
  }
 },
 "nbformat": 4,
 "nbformat_minor": 4
}
