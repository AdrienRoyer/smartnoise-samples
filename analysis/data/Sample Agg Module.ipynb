{
 "cells": [
  {
   "cell_type": "code",
   "execution_count": 1,
   "metadata": {},
   "outputs": [],
   "source": [
    "import pyspark\n",
    "import numpy as np\n",
    "import pandas as pd\n",
    "from pyspark.sql import SparkSession\n",
    "from pyspark.sql.functions import *\n",
    "spark = SparkSession.builder.getOrCreate()"
   ]
  },
  {
   "cell_type": "code",
   "execution_count": 2,
   "metadata": {},
   "outputs": [],
   "source": [
    "from sample_agg_blb import SampleAggregate"
   ]
  },
  {
   "cell_type": "code",
   "execution_count": 3,
   "metadata": {},
   "outputs": [],
   "source": [
    "from pyspark.sql.types import FloatType, BooleanType\n",
    "\n",
    "filepath = \"../../../dp-test-datasets/data/PUMS_california_demographics/data.csv\"\n",
    "pums = spark.read.load(filepath, format=\"csv\", sep=\",\",inferSchema=\"true\", header=\"true\")\n",
    "\n",
    "pums = pums.withColumnRenamed(\"_c0\", \"PersonID\")\n",
    "\n",
    "pums = pums.withColumn(\"income\", col(\"income\").cast(FloatType()))\n",
    "pums = pums.withColumn(\"latino\", col(\"latino\").cast(BooleanType()))\n",
    "pums = pums.withColumn(\"black\", col(\"black\").cast(BooleanType()))\n",
    "pums = pums.withColumn(\"asian\", col(\"asian\").cast(BooleanType()))\n",
    "pums = pums.withColumn(\"married\", col(\"married\").cast(BooleanType()))\n",
    "\n",
    "sa = SampleAggregate(pums)\n",
    "#print(sa.parts)"
   ]
  },
  {
   "cell_type": "code",
   "execution_count": 11,
   "metadata": {},
   "outputs": [],
   "source": [
    "from itertools import product\n",
    "cols = [\"sex\", \"married\", \"income\", \"age\", \"educ\"] # needs to be a superset of keys\n",
    "keys = [\"married\",\"educ\"]\n",
    "groups = list(product([True, False], range(15)))"
   ]
  },
  {
   "cell_type": "code",
   "execution_count": 12,
   "metadata": {},
   "outputs": [],
   "source": [
    "sa.sample(cols)"
   ]
  },
  {
   "cell_type": "code",
   "execution_count": 13,
   "metadata": {},
   "outputs": [],
   "source": [
    "sa.aggregate([\"income\", \"age\"], keys, groups) # cols here doesn't need to include keys.  this bootstraps"
   ]
  },
  {
   "cell_type": "code",
   "execution_count": 14,
   "metadata": {},
   "outputs": [],
   "source": [
    "def mean_income(data):\n",
    "    cols = list(zip(*list(data)))\n",
    "    income = cols[0]\n",
    "    weights = cols[-1]\n",
    "    weighted_sum = np.sum([i * w for i, a, w in data])\n",
    "    return float(weighted_sum / np.sum(weights))\n",
    "\n",
    "def count(data):\n",
    "    cols = list(zip(*list(data)))\n",
    "    weights = cols[-1]\n",
    "    return int(np.sum(weights))\n",
    "\n",
    "def mean_age(data):\n",
    "    cols = list(zip(*list(data)))\n",
    "    age = cols[1]\n",
    "    weights = cols[-1]\n",
    "    weighted_sum = np.sum([a * w for i, a, w in data])\n",
    "    return float(weighted_sum / np.sum(weights))\n"
   ]
  },
  {
   "cell_type": "code",
   "execution_count": 15,
   "metadata": {
    "scrolled": true
   },
   "outputs": [],
   "source": [
    "sa.apply([mean_income, mean_age, count])\n"
   ]
  },
  {
   "cell_type": "code",
   "execution_count": 16,
   "metadata": {},
   "outputs": [],
   "source": [
    "import math\n",
    "\n",
    "def mean_estimator(data, eps, delta, lam, parts):    \n",
    "    if lam is not None:\n",
    "        data = [-lam if d < -lam else lam if d > lam else d for d in data]\n",
    "    sd = (2 * lam * math.sqrt(2 * math.log(1.25 / delta)))/(parts*eps)\n",
    "    np.random.seed()\n",
    "    noise = np.random.normal(0, sd)\n",
    "    theta = float(np.nanmean(data))\n",
    "    return theta + noise\n",
    "    \n",
    "def median_estimator(data, eps, delta, lam, parts):\n",
    "    # not private\n",
    "    return float(np.median(data))"
   ]
  },
  {
   "cell_type": "code",
   "execution_count": 19,
   "metadata": {},
   "outputs": [
    {
     "name": "stdout",
     "output_type": "stream",
     "text": [
      "+-----------+------------------------------------------------------------+\n",
      "|group      |val                                                         |\n",
      "+-----------+------------------------------------------------------------+\n",
      "|[false, 14]|[50428.26957969916, 46.19695385335781, 26952.342319707775]  |\n",
      "|[true, 9]  |[24560.545687125294, 47.59327614914312, 134551.79045907376] |\n",
      "|[true, 7]  |[17070.579585586496, 42.95948588440542, 22355.693695357382] |\n",
      "|[false, 1] |[10071.03036948753, 47.50932492901774, 22238.945711547734]  |\n",
      "|[true, 14] |[61954.77029106083, 48.47397611664054, 43668.03412397737]   |\n",
      "|[false, 10]|[21478.477544678844, 37.759712134220315, 45567.8144773766]  |\n",
      "|[true, 4]  |[15132.513408887662, 47.78808816016781, 23865.848445702017] |\n",
      "|[false, 4] |[12443.997639276222, 49.168307830482576, 20565.98223656074] |\n",
      "|[true, 3]  |[13076.213206275539, 43.10325238019989, 33383.24618549618]  |\n",
      "|[false, 13]|[43322.73776076855, 41.14059098996164, 75532.39663936813]   |\n",
      "|[true, 10] |[29589.652261853586, 45.67770238514432, 49481.316641554076] |\n",
      "|[false, 7] |[9997.793412398229, 32.5625291185391, 27479.19070866278]    |\n",
      "|[false, 9] |[18694.33602404528, 41.60970545181261, 123653.51874346429]  |\n",
      "|[true, 5]  |[15089.887467441884, 42.84811735155627, 22588.14552009932]  |\n",
      "|[false, 3] |[10819.085951218207, 43.095702326441796, 22936.66197102155] |\n",
      "|[true, 12] |[36234.67572307089, 46.11011929373767, 49220.06589504063]   |\n",
      "|[false, 12]|[28787.532049405425, 40.90492647727175, 36258.01119110189]  |\n",
      "|[true, 11] |[34859.54810609625, 46.55074946275778, 104905.79951136059]  |\n",
      "|[false, 6] |[12467.470843749403, 41.685996117457954, 20715.557788901868]|\n",
      "|[true, 1]  |[12062.902939701855, 47.49907575420331, 26724.65052432069]  |\n",
      "|[true, 8]  |[19218.628464784993, 44.786211533238266, 33993.62151270232] |\n",
      "|[false, 8] |[13604.47128976387, 37.86401964021605, 34122.69810190702]   |\n",
      "|[true, 6]  |[16232.512901774633, 45.93702230007154, 21394.99844388218]  |\n",
      "|[false, 2] |[9796.281442522692, 47.6241329780328, 16416.84924342981]    |\n",
      "|[true, 13] |[53515.08287139989, 46.57378939328417, 113598.86004221601]  |\n",
      "|[false, 11]|[24212.183305611696, 38.454625186271734, 97944.17696218923] |\n",
      "|[false, 5] |[12500.244897726303, 41.8925468727922, 19545.616428836765]  |\n",
      "|[true, 2]  |[12088.658425004827, 47.75482050857318, 18397.405427143283] |\n",
      "+-----------+------------------------------------------------------------+\n",
      "\n",
      "+-----------+--------------------------------------------------+\n",
      "|group      |val                                               |\n",
      "+-----------+--------------------------------------------------+\n",
      "|[false, 14]|[47440.0, 46.0, 24127.0]                          |\n",
      "|[true, 9]  |[22558.72537737765, 47.47307031824974, 132667.0]  |\n",
      "|[true, 7]  |[12862.721685689201, 41.65511823193035, 19875.0]  |\n",
      "|[false, 1] |[7973.85754489413, 48.60967474274675, 19676.0]    |\n",
      "|[true, 14] |[59642.231913402386, 48.34681718407024, 40793.0]  |\n",
      "|[false, 10]|[18959.847730574536, 36.812552148009004, 42577.0] |\n",
      "|[true, 4]  |[11800.0, 48.0, 21774.0]                          |\n",
      "|[false, 4] |[9954.97628588676, 52.96505686943905, 15731.5]    |\n",
      "|[true, 3]  |[11009.910116032032, 42.510358050935764, 30225.0] |\n",
      "|[false, 13]|[39819.88800018361, 40.592639633706526, 73043.0]  |\n",
      "|[true, 10] |[26306.102818468386, 45.48552884615385, 47070.0]  |\n",
      "|[false, 7] |[7300.0, 29.188822736503052, 25076.0]             |\n",
      "|[false, 9] |[17288.406245397673, 41.0504685081774, 122095.5]  |\n",
      "|[true, 5]  |[11900.0, 41.01295610353648, 20705.0]             |\n",
      "|[false, 3] |[9119.885417686808, 42.0, 20980.0]                |\n",
      "|[true, 12] |[32812.87754986726, 45.968566032092866, 46377.0]  |\n",
      "|[false, 12]|[26141.404307847028, 40.29383564044872, 33642.5]  |\n",
      "|[true, 11] |[31858.408324930646, 46.393151443543545, 102788.5]|\n",
      "|[false, 6] |[9502.005234718, 40.059329755530484, 15365.0]     |\n",
      "|[true, 1]  |[9283.96556362658, 47.26881560998755, 24207.0]    |\n",
      "|[true, 8]  |[15725.598694149441, 44.00731673520382, 31087.5]  |\n",
      "|[false, 8] |[11000.0, 36.30843105239721, 31268.0]             |\n",
      "|[true, 6]  |[12153.359137406691, 45.57221494737863, 16025.0]  |\n",
      "|[false, 2] |[8037.473313290859, 49.12990018809124, 13126.0]   |\n",
      "|[true, 13] |[50102.10657687248, 46.37406366415286, 112340.5]  |\n",
      "|[false, 11]|[22038.15622845111, 38.132288136965215, 96785.5]  |\n",
      "|[false, 5] |[9865.190085101638, 39.472199341021415, 14602.0]  |\n",
      "|[true, 2]  |[9322.863274839036, 47.99484573241061, 14010.0]   |\n",
      "+-----------+--------------------------------------------------+\n",
      "\n"
     ]
    }
   ],
   "source": [
    "eps = 1.0\n",
    "delta = 1E-9\n",
    "sens = [100000, 65, 350000]\n",
    "\n",
    "est_mean = sa.estimate(mean_estimator, eps, delta, sens)\n",
    "\n",
    "est_med = sa.estimate(median_estimator, eps, delta, sens)\n",
    "\n",
    "\n",
    "est_mean.toDF().show(50, False)\n",
    "est_med.toDF().show(50, False)"
   ]
  },
  {
   "cell_type": "code",
   "execution_count": null,
   "metadata": {},
   "outputs": [],
   "source": []
  },
  {
   "cell_type": "code",
   "execution_count": null,
   "metadata": {},
   "outputs": [],
   "source": []
  }
 ],
 "metadata": {
  "kernelspec": {
   "display_name": "Python 3",
   "language": "python",
   "name": "python3"
  },
  "language_info": {
   "codemirror_mode": {
    "name": "ipython",
    "version": 3
   },
   "file_extension": ".py",
   "mimetype": "text/x-python",
   "name": "python",
   "nbconvert_exporter": "python",
   "pygments_lexer": "ipython3",
   "version": "3.7.6"
  }
 },
 "nbformat": 4,
 "nbformat_minor": 4
}
