{
 "cells": [
  {
   "cell_type": "markdown",
   "metadata": {},
   "source": [
    "## SQL Queries with Differentially Private Set Union (DPSU)\n",
    "\n",
    "In the context of the WhiteNoise SQL scenario, consider a guiding example: there exists a dataset with Reddit users and their posts, keeping in mind that a single user could have multiple posts. An analyst would like to release a report containing the counts of the number of bigrams per user while preserving privacy. We'd like to increase the representation of bigrams contained in this report without violating privacy bounds.\n",
    "\n",
    "You can imagine that it might be easy to identify an author's bigrams if she has only posted a few times and therefore has very few bigrams. To resolve this threat, previously, we would have to drop bigrams whose noisy counts were below a certain threshold. However, this process was wasteful because we allocated privacy budget to all rows uniformly even if their counts already exceeded the threshold.\n",
    "\n",
    "With DPSU, we resolve this issue by adding noise in a dependent fashion. This increases the dimensionality of the final dataset, and we therefore have less data loss and get a richer representation of bigrams. \n",
    "\n",
    "The code below showcases DPSU support with pandas."
   ]
  },
  {
   "cell_type": "code",
   "execution_count": 3,
   "metadata": {},
   "outputs": [
    {
     "name": "stdout",
     "output_type": "stream",
     "text": [
      " ngram        |n      \n",
      " -------------|-------\n",
      "  (do, n)     | 47    \n",
      "  (i, m)      | 71    \n",
      "  (in, the)   | 40    \n",
      "  (it, s)     | 54    \n",
      "  (n, t)      | 111   \n",
      "  (of, the)   | 44    \n",
      "  (that, s)   | 46    \n",
      "  (this, is)  | 35    \n",
      "  (you, re)   | 36    \n"
     ]
    }
   ],
   "source": [
    "import pandas as pd\n",
    "from opendp.whitenoise.metadata import CollectionMetadata\n",
    "from opendp.whitenoise.sql import PrivateReader, PandasReader\n",
    "\n",
    "reddit = pd.read_csv(\"data/readers/reddit.csv\", index_col=0)\n",
    "metadata = CollectionMetadata.from_file(\"data/readers/reddit.yaml\")\n",
    "\n",
    "query = \"SELECT ngram, COUNT(*) as n FROM reddit.reddit GROUP BY ngram\"\n",
    "\n",
    "reader = PandasReader(metadata, reddit)\n",
    "private_reader = PrivateReader(metadata, reader)\n",
    "\n",
    "result = private_reader.execute_typed(query)\n",
    "print(result)"
   ]
  },
  {
   "cell_type": "markdown",
   "metadata": {},
   "source": [
    "### SQL Module with DPSU"
   ]
  },
  {
   "cell_type": "code",
   "execution_count": 4,
   "metadata": {},
   "outputs": [],
   "source": [
    "from opendp.whitenoise.client import get_execution_client\n",
    "\n",
    "execution_client = get_execution_client()\n",
    "\n",
    "project = {\"params\": {\"dataset_name\": \"reddit\", \n",
    "                      \"budget\": 0.5,\n",
    "                      \"query\": \"SELECT ngram, COUNT(*) as c FROM reddit.reddit GROUP BY ngram\"},\n",
    "           \"uri\": \"modules/sql-module\"}\n",
    "\n",
    "result = execution_client.submit(params=project[\"params\"],\n",
    "                            uri=project[\"uri\"])"
   ]
  },
  {
   "cell_type": "code",
   "execution_count": 7,
   "metadata": {},
   "outputs": [
    {
     "name": "stdout",
     "output_type": "stream",
     "text": [
      "{\"ngram\": {\"0\": \"(i, m)\", \"1\": \"(i, ve)\", \"2\": \"(it, s)\", \"3\": \"(n, t)\", \"4\": \"(that, s)\"}, \"c\": {\"0\": 91, \"1\": 81, \"2\": 76, \"3\": 144, \"4\": 89}}\n"
     ]
    }
   ],
   "source": [
    "print(result.result)"
   ]
  },
  {
   "cell_type": "code",
   "execution_count": null,
   "metadata": {},
   "outputs": [],
   "source": []
  }
 ],
 "metadata": {
  "kernelspec": {
   "display_name": "Python 3",
   "language": "python",
   "name": "python3"
  },
  "language_info": {
   "codemirror_mode": {
    "name": "ipython",
    "version": 3
   },
   "file_extension": ".py",
   "mimetype": "text/x-python",
   "name": "python",
   "nbconvert_exporter": "python",
   "pygments_lexer": "ipython3",
   "version": "3.7.3"
  }
 },
 "nbformat": 4,
 "nbformat_minor": 2
}
