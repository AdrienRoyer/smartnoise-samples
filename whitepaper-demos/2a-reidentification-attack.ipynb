{
 "cells": [
  {
   "cell_type": "markdown",
   "metadata": {},
   "source": [
    "Microsoft Differential Privacy Whitepaper Collateral Notebooks Part 2\n",
    "# Protecting against Reidentification Attacks with Differential Privacy\n",
    "<img src=\"images/red-attack.jpg\" width=800 />\n",
    "\n",
    "In this demo illustrates how differential privacy can be used to protect sensitive personal information against re-identification attacks. The identities of individuals might be revealed if an attacker is able to map anonymized records about individuals from a published dataset with information about these people from various sources. \n",
    "In this demo, the published anonymized dataset contains patient records. The attacker tries to identify individuals by leveraging basic demographic information like age and zip codes.\n",
    "We show that successful reidentification attacks are possible even when the sensitive data is published in an anonymized format. Then, we perform a second attack after protecting the sensitive data using a dataset synthesizer from the SmartNoise system.\n",
    "\n",
    "\n",
    "This demo is based on the following steps:\n",
    "1. Import of anonymized medical data set and the attacker's data collection\n",
    "2. Reidentification Attack I: Revealing identities from the anonymized data set \n",
    "3. Protecting the medical dataset with differential privacy using Multiple Weights Exponential Mechanism (MWEM)\n",
    "4. Validating the utility of the synthesized data set for statistical analyses\n",
    "5. Reidentification Attack II: Trying to reveal identities based on the differentially private version of the medical data set"
   ]
  },
  {
   "cell_type": "code",
   "execution_count": 1,
   "metadata": {
    "gather": {
     "logged": 1607612123889
    }
   },
   "outputs": [],
   "source": [
    "# Install required libraries, uncomment if needed\n",
    "# %pip install git+https://github.com/opendifferentialprivacy/smartnoise-sdk#subdirectory=sdk\n",
    "# %pip install faker zipcodes tqdm opendp-smartnoise"
   ]
  },
  {
   "cell_type": "code",
   "execution_count": 2,
   "metadata": {
    "gather": {
     "logged": 1607612125078
    }
   },
   "outputs": [],
   "source": [
    "import warnings\n",
    "warnings.filterwarnings(\"ignore\")\n",
    "\n",
    "import logging\n",
    "logger = logging.getLogger()\n",
    "logger.setLevel(logging.INFO)\n",
    "import pandas as pd\n",
    "import numpy as np\n",
    "import random\n",
    "import string\n",
    "import uuid\n",
    "import time\n",
    "import logging\n",
    "from datetime import datetime\n",
    "import matplotlib.pyplot as plt\n",
    "from tqdm import tqdm\n",
    "import reident_tools as reident\n",
    "from opendp.smartnoise.synthesizers.mwem import MWEMSynthesizer\n",
    "\n",
    "%config InlineBackend.figure_format = 'retina'\n",
    "%load_ext autoreload\n",
    "%autoreload 2"
   ]
  },
  {
   "cell_type": "markdown",
   "metadata": {},
   "source": [
    "## Import data sets\n",
    "Below, we are going to import three data sets:\n",
    "1. Public medical data set, containing k-anonymized demographic and sensitive medical information\n",
    "2. Attacker's data collection with basic demographic information\n",
    "3. Public medical data set preprocessed for the MWEM synthesizer"
   ]
  },
  {
   "cell_type": "code",
   "execution_count": 3,
   "metadata": {
    "gather": {
     "logged": 1607612125572
    }
   },
   "outputs": [
    {
     "name": "stdout",
     "output_type": "stream",
     "text": [
      "Anonymized dataset including sensitive medical information:\n"
     ]
    },
    {
     "data": {
      "text/html": [
       "<div>\n",
       "<style scoped>\n",
       "    .dataframe tbody tr th:only-of-type {\n",
       "        vertical-align: middle;\n",
       "    }\n",
       "\n",
       "    .dataframe tbody tr th {\n",
       "        vertical-align: top;\n",
       "    }\n",
       "\n",
       "    .dataframe thead th {\n",
       "        text-align: right;\n",
       "    }\n",
       "</style>\n",
       "<table border=\"1\" class=\"dataframe\">\n",
       "  <thead>\n",
       "    <tr style=\"text-align: right;\">\n",
       "      <th></th>\n",
       "      <th>Gender</th>\n",
       "      <th>Age</th>\n",
       "      <th>Zip</th>\n",
       "      <th>Diagnosis</th>\n",
       "      <th>Treatment</th>\n",
       "      <th>Outcome</th>\n",
       "    </tr>\n",
       "  </thead>\n",
       "  <tbody>\n",
       "    <tr>\n",
       "      <th>22109</th>\n",
       "      <td>F</td>\n",
       "      <td>70-79</td>\n",
       "      <td>305**</td>\n",
       "      <td>Osteoporosis</td>\n",
       "      <td>22</td>\n",
       "      <td>recovered</td>\n",
       "    </tr>\n",
       "    <tr>\n",
       "      <th>5394</th>\n",
       "      <td>M</td>\n",
       "      <td>80-89</td>\n",
       "      <td>277**</td>\n",
       "      <td>High Blood Pressure</td>\n",
       "      <td>47</td>\n",
       "      <td>unchanged</td>\n",
       "    </tr>\n",
       "    <tr>\n",
       "      <th>28344</th>\n",
       "      <td>M</td>\n",
       "      <td>60-69</td>\n",
       "      <td>620**</td>\n",
       "      <td>Alzheimer</td>\n",
       "      <td>28</td>\n",
       "      <td>recovered</td>\n",
       "    </tr>\n",
       "    <tr>\n",
       "      <th>3245</th>\n",
       "      <td>M</td>\n",
       "      <td>30-39</td>\n",
       "      <td>121**</td>\n",
       "      <td>COPD</td>\n",
       "      <td>22</td>\n",
       "      <td>intensive care</td>\n",
       "    </tr>\n",
       "    <tr>\n",
       "      <th>6918</th>\n",
       "      <td>F</td>\n",
       "      <td>20-29</td>\n",
       "      <td>829**</td>\n",
       "      <td>Depression</td>\n",
       "      <td>38</td>\n",
       "      <td>unchanged</td>\n",
       "    </tr>\n",
       "    <tr>\n",
       "      <th>10668</th>\n",
       "      <td>F</td>\n",
       "      <td>40-49</td>\n",
       "      <td>417**</td>\n",
       "      <td>Arthritis</td>\n",
       "      <td>31</td>\n",
       "      <td>unchanged</td>\n",
       "    </tr>\n",
       "    <tr>\n",
       "      <th>9436</th>\n",
       "      <td>M</td>\n",
       "      <td>70-79</td>\n",
       "      <td>061**</td>\n",
       "      <td>Heart Disease</td>\n",
       "      <td>24</td>\n",
       "      <td>intensive care</td>\n",
       "    </tr>\n",
       "    <tr>\n",
       "      <th>15581</th>\n",
       "      <td>F</td>\n",
       "      <td>80-89</td>\n",
       "      <td>158**</td>\n",
       "      <td>Arthritis</td>\n",
       "      <td>30</td>\n",
       "      <td>recovered</td>\n",
       "    </tr>\n",
       "  </tbody>\n",
       "</table>\n",
       "</div>"
      ],
      "text/plain": [
       "      Gender    Age    Zip            Diagnosis  Treatment         Outcome\n",
       "22109      F  70-79  305**         Osteoporosis         22       recovered\n",
       "5394       M  80-89  277**  High Blood Pressure         47       unchanged\n",
       "28344      M  60-69  620**            Alzheimer         28       recovered\n",
       "3245       M  30-39  121**                 COPD         22  intensive care\n",
       "6918       F  20-29  829**           Depression         38       unchanged\n",
       "10668      F  40-49  417**            Arthritis         31       unchanged\n",
       "9436       M  70-79  061**        Heart Disease         24  intensive care\n",
       "15581      F  80-89  158**            Arthritis         30       recovered"
      ]
     },
     "metadata": {},
     "output_type": "display_data"
    },
    {
     "name": "stdout",
     "output_type": "stream",
     "text": [
      "Attacker`s data collection with basic demographic information:\n"
     ]
    },
    {
     "data": {
      "text/html": [
       "<div>\n",
       "<style scoped>\n",
       "    .dataframe tbody tr th:only-of-type {\n",
       "        vertical-align: middle;\n",
       "    }\n",
       "\n",
       "    .dataframe tbody tr th {\n",
       "        vertical-align: top;\n",
       "    }\n",
       "\n",
       "    .dataframe thead th {\n",
       "        text-align: right;\n",
       "    }\n",
       "</style>\n",
       "<table border=\"1\" class=\"dataframe\">\n",
       "  <thead>\n",
       "    <tr style=\"text-align: right;\">\n",
       "      <th></th>\n",
       "      <th>Name</th>\n",
       "      <th>Gender</th>\n",
       "      <th>Age</th>\n",
       "      <th>Zip</th>\n",
       "    </tr>\n",
       "  </thead>\n",
       "  <tbody>\n",
       "    <tr>\n",
       "      <th>26715</th>\n",
       "      <td>Brandon Weaver</td>\n",
       "      <td>M</td>\n",
       "      <td>38</td>\n",
       "      <td>85031</td>\n",
       "    </tr>\n",
       "    <tr>\n",
       "      <th>6370</th>\n",
       "      <td>Craig Vincent</td>\n",
       "      <td>M</td>\n",
       "      <td>29</td>\n",
       "      <td>69522</td>\n",
       "    </tr>\n",
       "    <tr>\n",
       "      <th>27101</th>\n",
       "      <td>Ashley Hopkins MD</td>\n",
       "      <td>F</td>\n",
       "      <td>65</td>\n",
       "      <td>87519</td>\n",
       "    </tr>\n",
       "    <tr>\n",
       "      <th>26173</th>\n",
       "      <td>Sarah Perry</td>\n",
       "      <td>F</td>\n",
       "      <td>34</td>\n",
       "      <td>52346</td>\n",
       "    </tr>\n",
       "    <tr>\n",
       "      <th>21468</th>\n",
       "      <td>Christopher Leach</td>\n",
       "      <td>M</td>\n",
       "      <td>33</td>\n",
       "      <td>15454</td>\n",
       "    </tr>\n",
       "    <tr>\n",
       "      <th>20217</th>\n",
       "      <td>Kayla Roberts</td>\n",
       "      <td>F</td>\n",
       "      <td>47</td>\n",
       "      <td>566</td>\n",
       "    </tr>\n",
       "    <tr>\n",
       "      <th>2622</th>\n",
       "      <td>Michael Vaughn</td>\n",
       "      <td>M</td>\n",
       "      <td>28</td>\n",
       "      <td>88827</td>\n",
       "    </tr>\n",
       "    <tr>\n",
       "      <th>9288</th>\n",
       "      <td>Gerald Lopez IV</td>\n",
       "      <td>M</td>\n",
       "      <td>65</td>\n",
       "      <td>2484</td>\n",
       "    </tr>\n",
       "  </tbody>\n",
       "</table>\n",
       "</div>"
      ],
      "text/plain": [
       "                    Name Gender  Age    Zip\n",
       "26715     Brandon Weaver      M   38  85031\n",
       "6370       Craig Vincent      M   29  69522\n",
       "27101  Ashley Hopkins MD      F   65  87519\n",
       "26173        Sarah Perry      F   34  52346\n",
       "21468  Christopher Leach      M   33  15454\n",
       "20217      Kayla Roberts      F   47    566\n",
       "2622      Michael Vaughn      M   28  88827\n",
       "9288     Gerald Lopez IV      M   65   2484"
      ]
     },
     "metadata": {},
     "output_type": "display_data"
    }
   ],
   "source": [
    "# Read files\n",
    "df_medical = pd.read_csv('data/data_medical.csv', sep=\",\", encoding=\"utf-8\").infer_objects()\n",
    "df_medical['Zip'] = df_medical['Zip'].astype(str)\n",
    "print('Anonymized dataset including sensitive medical information:')\n",
    "display(df_medical.iloc[:,1:].sample(8))\n",
    "df_demographic = pd.read_csv('data/data_demographic.csv', sep=\",\", encoding=\"utf-8\").infer_objects()\n",
    "print('Attacker`s data collection with basic demographic information:')\n",
    "df_demographic['Zip'] = df_demographic['Zip'].astype(str)\n",
    "display(df_demographic.iloc[:,1:].sample(8))\n",
    "df_medical_synth = pd.read_csv('data/data_medical_synthesizer.csv', sep=\",\", encoding=\"utf-8\").infer_objects()\n",
    "df_medical_synth['Zip'] = df_medical_synth['Zip'].astype(str)"
   ]
  },
  {
   "cell_type": "markdown",
   "metadata": {},
   "source": [
    "Above data sets also include a unique id for each record which is used to be able to count the number of identified records after the attack. This information is not used for performing the attack. "
   ]
  },
  {
   "cell_type": "markdown",
   "metadata": {},
   "source": [
    "## Reidentification Attack I - Revealing identities from the anonymized data set\n",
    "Below, we perform the first reidentification attack usind the `try_reidentification` function. As input, we use the data sets generated above (published medical and demographic data)."
   ]
  },
  {
   "cell_type": "markdown",
   "metadata": {},
   "source": [
    "### Perform the attack\n",
    "Now, we perform the reidentification attack with the demographic and the medical data set, using a combinatorial approach."
   ]
  },
  {
   "cell_type": "code",
   "execution_count": 35,
   "metadata": {},
   "outputs": [
    {
     "name": "stderr",
     "output_type": "stream",
     "text": [
      "INFO:root:Performing reidentification with anonymized data: 30000. Attacker collection: 30000\n",
      "100%|██████████| 30000/30000 [10:29<00:00, 47.68it/s]\n",
      "INFO:root:Identified 28962 potential matches!\n",
      "INFO:root:Validating IDs ...\n",
      "100%|██████████| 28962/28962 [00:02<00:00, 9817.63it/s]\n",
      "INFO:root:Identified 9006 actual (validated) matches!\n"
     ]
    },
    {
     "name": "stdout",
     "output_type": "stream",
     "text": [
      "CPU times: user 10min 32s, sys: 3.09 s, total: 10min 35s\n",
      "Wall time: 10min 32s\n"
     ]
    }
   ],
   "source": [
    "%%time\n",
    "reident_attack = reident.try_reidentification(df_demographic, df_medical, logger)"
   ]
  },
  {
   "cell_type": "markdown",
   "metadata": {},
   "source": [
    "### Results of the attack\n",
    "Below, we show the amount of potential and actual matches and provide a glance at the data."
   ]
  },
  {
   "cell_type": "code",
   "execution_count": 38,
   "metadata": {
    "gather": {
     "logged": 1607612734993
    }
   },
   "outputs": [
    {
     "name": "stdout",
     "output_type": "stream",
     "text": [
      "Found: 9006 actual (validated) matches!\n"
     ]
    }
   ],
   "source": [
    "print(f'Found: {len(reident_attack[reident_attack[\"ID_Match\"]==True])} actual (validated) matches!')"
   ]
  },
  {
   "cell_type": "code",
   "execution_count": 63,
   "metadata": {},
   "outputs": [
    {
     "data": {
      "image/png": "[encoded data removed]",
      "text/plain": [
       "<Figure size 1080x648 with 1 Axes>"
      ]
     },
     "metadata": {
      "image/png": {
       "height": 525,
       "width": 633
      }
     },
     "output_type": "display_data"
    }
   ],
   "source": [
    "# Plot the distribution as pie chart\n",
    "reident.reident_plot(reident_attack, df_medical, 'ID_Match')"
   ]
  },
  {
   "cell_type": "code",
   "execution_count": 39,
   "metadata": {
    "gather": {
     "logged": 1607612735291
    }
   },
   "outputs": [],
   "source": [
    "# Write to file, if wanted\n",
    "# reident_attack.to_csv('data/results_reident-attack-raw.csv', sep=\",\", encoding=\"utf-8\", index=False)\n",
    "# Or read files, if needed\n",
    "# reident_attack = pd.read_csv('data/results_reident-attack-raw.csv', sep=\",\", encoding=\"utf-8\")"
   ]
  },
  {
   "cell_type": "code",
   "execution_count": 40,
   "metadata": {
    "gather": {
     "logged": 1607612735442
    }
   },
   "outputs": [
    {
     "name": "stdout",
     "output_type": "stream",
     "text": [
      "Sample of re-identified patients:\n"
     ]
    },
    {
     "data": {
      "text/html": [
       "<div>\n",
       "<style scoped>\n",
       "    .dataframe tbody tr th:only-of-type {\n",
       "        vertical-align: middle;\n",
       "    }\n",
       "\n",
       "    .dataframe tbody tr th {\n",
       "        vertical-align: top;\n",
       "    }\n",
       "\n",
       "    .dataframe thead th {\n",
       "        text-align: right;\n",
       "    }\n",
       "</style>\n",
       "<table border=\"1\" class=\"dataframe\">\n",
       "  <thead>\n",
       "    <tr style=\"text-align: right;\">\n",
       "      <th></th>\n",
       "      <th>Name</th>\n",
       "      <th>Gender</th>\n",
       "      <th>Age</th>\n",
       "      <th>Zip</th>\n",
       "      <th>Diagnosis</th>\n",
       "      <th>Treatment</th>\n",
       "      <th>Outcome</th>\n",
       "      <th>ID_Match</th>\n",
       "    </tr>\n",
       "  </thead>\n",
       "  <tbody>\n",
       "    <tr>\n",
       "      <th>4006</th>\n",
       "      <td>Tiffany Stanton</td>\n",
       "      <td>F</td>\n",
       "      <td>17</td>\n",
       "      <td>72078</td>\n",
       "      <td>Heart Disease</td>\n",
       "      <td>23</td>\n",
       "      <td>unchanged</td>\n",
       "      <td>True</td>\n",
       "    </tr>\n",
       "    <tr>\n",
       "      <th>26716</th>\n",
       "      <td>Sergio Luna</td>\n",
       "      <td>M</td>\n",
       "      <td>32</td>\n",
       "      <td>85093</td>\n",
       "      <td>High Blood Pressure</td>\n",
       "      <td>47</td>\n",
       "      <td>intensive care</td>\n",
       "      <td>True</td>\n",
       "    </tr>\n",
       "    <tr>\n",
       "      <th>17900</th>\n",
       "      <td>Julia Chandler</td>\n",
       "      <td>F</td>\n",
       "      <td>43</td>\n",
       "      <td>94189</td>\n",
       "      <td>Cancer</td>\n",
       "      <td>48</td>\n",
       "      <td>unchanged</td>\n",
       "      <td>True</td>\n",
       "    </tr>\n",
       "    <tr>\n",
       "      <th>29946</th>\n",
       "      <td>Cassidy Bishop</td>\n",
       "      <td>F</td>\n",
       "      <td>33</td>\n",
       "      <td>92272</td>\n",
       "      <td>High Blood Pressure</td>\n",
       "      <td>43</td>\n",
       "      <td>intensive care</td>\n",
       "      <td>True</td>\n",
       "    </tr>\n",
       "    <tr>\n",
       "      <th>17396</th>\n",
       "      <td>Donna Andrade</td>\n",
       "      <td>F</td>\n",
       "      <td>40</td>\n",
       "      <td>58767</td>\n",
       "      <td>Arthritis</td>\n",
       "      <td>32</td>\n",
       "      <td>intensive care</td>\n",
       "      <td>True</td>\n",
       "    </tr>\n",
       "    <tr>\n",
       "      <th>4121</th>\n",
       "      <td>Morgan Garcia</td>\n",
       "      <td>F</td>\n",
       "      <td>12</td>\n",
       "      <td>25151</td>\n",
       "      <td>Heart Disease</td>\n",
       "      <td>40</td>\n",
       "      <td>intensive care</td>\n",
       "      <td>True</td>\n",
       "    </tr>\n",
       "    <tr>\n",
       "      <th>25519</th>\n",
       "      <td>Penny Stuart</td>\n",
       "      <td>F</td>\n",
       "      <td>23</td>\n",
       "      <td>76965</td>\n",
       "      <td>Osteoporosis</td>\n",
       "      <td>22</td>\n",
       "      <td>unchanged</td>\n",
       "      <td>True</td>\n",
       "    </tr>\n",
       "    <tr>\n",
       "      <th>22</th>\n",
       "      <td>Robert Mitchell</td>\n",
       "      <td>M</td>\n",
       "      <td>82</td>\n",
       "      <td>51656</td>\n",
       "      <td>Diabetes</td>\n",
       "      <td>31</td>\n",
       "      <td>recovered</td>\n",
       "      <td>True</td>\n",
       "    </tr>\n",
       "    <tr>\n",
       "      <th>13294</th>\n",
       "      <td>Cody Ibarra</td>\n",
       "      <td>M</td>\n",
       "      <td>12</td>\n",
       "      <td>13892</td>\n",
       "      <td>High Blood Pressure</td>\n",
       "      <td>31</td>\n",
       "      <td>intensive care</td>\n",
       "      <td>True</td>\n",
       "    </tr>\n",
       "    <tr>\n",
       "      <th>7068</th>\n",
       "      <td>Andrea Newman</td>\n",
       "      <td>F</td>\n",
       "      <td>63</td>\n",
       "      <td>51853</td>\n",
       "      <td>Osteoporosis</td>\n",
       "      <td>41</td>\n",
       "      <td>recovered</td>\n",
       "      <td>True</td>\n",
       "    </tr>\n",
       "  </tbody>\n",
       "</table>\n",
       "</div>"
      ],
      "text/plain": [
       "                  Name Gender  Age    Zip            Diagnosis  Treatment  \\\n",
       "4006   Tiffany Stanton      F   17  72078        Heart Disease         23   \n",
       "26716      Sergio Luna      M   32  85093  High Blood Pressure         47   \n",
       "17900   Julia Chandler      F   43  94189               Cancer         48   \n",
       "29946   Cassidy Bishop      F   33  92272  High Blood Pressure         43   \n",
       "17396    Donna Andrade      F   40  58767            Arthritis         32   \n",
       "4121     Morgan Garcia      F   12  25151        Heart Disease         40   \n",
       "25519     Penny Stuart      F   23  76965         Osteoporosis         22   \n",
       "22     Robert Mitchell      M   82  51656             Diabetes         31   \n",
       "13294      Cody Ibarra      M   12  13892  High Blood Pressure         31   \n",
       "7068     Andrea Newman      F   63  51853         Osteoporosis         41   \n",
       "\n",
       "              Outcome  ID_Match  \n",
       "4006        unchanged      True  \n",
       "26716  intensive care      True  \n",
       "17900       unchanged      True  \n",
       "29946  intensive care      True  \n",
       "17396  intensive care      True  \n",
       "4121   intensive care      True  \n",
       "25519       unchanged      True  \n",
       "22          recovered      True  \n",
       "13294  intensive care      True  \n",
       "7068        recovered      True  "
      ]
     },
     "execution_count": 40,
     "metadata": {},
     "output_type": "execute_result"
    }
   ],
   "source": [
    "# Get sample from the data set\n",
    "print(f'Sample of re-identified patients:')\n",
    "reident_attack[reident_attack[\"ID_Match\"]==True][['Name', 'Gender', 'Age', 'Zip', 'Diagnosis', 'Treatment', 'Outcome', 'ID_Match']].sample(10)"
   ]
  },
  {
   "cell_type": "markdown",
   "metadata": {},
   "source": [
    "## Protecting the medical dataset with differential privacy\n",
    "In the next step, we are going to synthesize the data set to increase the level of protection. We will use the Multiple Weights Exponential Mechanism (MWEM) synthesizer for this purpose and encode the demographic data (gender, age, zip) and the diagnosis. The other variables (treatment, outcome) are not part of the analysis for now."
   ]
  },
  {
   "cell_type": "code",
   "execution_count": 41,
   "metadata": {
    "gather": {
     "logged": 1607612125918
    }
   },
   "outputs": [],
   "source": [
    "# Prepare data set for reidentification, using the medical data set and the full zip copied from the demographic set\n",
    "df_reident_synth = df_medical[['Gender', 'Age', 'Zip', 'Diagnosis', 'Treatment', 'Outcome']].copy()\n",
    "df_reident_synth['Zip'] = df_demographic['Zip'].copy()\n",
    "df_reident_synth['Age'] = df_demographic['Age'].copy()\n",
    "# Write to file, if wanted\n",
    "# df_reident_synth.to_csv('data/data_reidentification_synthesizer.csv', sep=\",\", encoding=\"utf-8\", index=False)"
   ]
  },
  {
   "cell_type": "markdown",
   "metadata": {},
   "source": [
    "### Encoding of data\n",
    "For this purpose, we encode the input data using the `do_encode`-function to make it compatible with the MWEM synthesizer."
   ]
  },
  {
   "cell_type": "code",
   "execution_count": 42,
   "metadata": {
    "gather": {
     "logged": 1607612943336
    }
   },
   "outputs": [
    {
     "data": {
      "text/html": [
       "<div>\n",
       "<style scoped>\n",
       "    .dataframe tbody tr th:only-of-type {\n",
       "        vertical-align: middle;\n",
       "    }\n",
       "\n",
       "    .dataframe tbody tr th {\n",
       "        vertical-align: top;\n",
       "    }\n",
       "\n",
       "    .dataframe thead th {\n",
       "        text-align: right;\n",
       "    }\n",
       "</style>\n",
       "<table border=\"1\" class=\"dataframe\">\n",
       "  <thead>\n",
       "    <tr style=\"text-align: right;\">\n",
       "      <th></th>\n",
       "      <th>Gender</th>\n",
       "      <th>Age</th>\n",
       "      <th>Zip</th>\n",
       "      <th>Diagnosis</th>\n",
       "      <th>Treatment</th>\n",
       "      <th>Outcome</th>\n",
       "    </tr>\n",
       "  </thead>\n",
       "  <tbody>\n",
       "    <tr>\n",
       "      <th>0</th>\n",
       "      <td>F</td>\n",
       "      <td>10</td>\n",
       "      <td>65418</td>\n",
       "      <td>High Blood Pressure</td>\n",
       "      <td>25</td>\n",
       "      <td>intensive care</td>\n",
       "    </tr>\n",
       "    <tr>\n",
       "      <th>1</th>\n",
       "      <td>F</td>\n",
       "      <td>14</td>\n",
       "      <td>65475</td>\n",
       "      <td>COPD</td>\n",
       "      <td>48</td>\n",
       "      <td>unchanged</td>\n",
       "    </tr>\n",
       "    <tr>\n",
       "      <th>2</th>\n",
       "      <td>F</td>\n",
       "      <td>10</td>\n",
       "      <td>65484</td>\n",
       "      <td>High Blood Pressure</td>\n",
       "      <td>38</td>\n",
       "      <td>intensive care</td>\n",
       "    </tr>\n",
       "    <tr>\n",
       "      <th>3</th>\n",
       "      <td>F</td>\n",
       "      <td>30</td>\n",
       "      <td>27727</td>\n",
       "      <td>Heart Disease</td>\n",
       "      <td>31</td>\n",
       "      <td>unchanged</td>\n",
       "    </tr>\n",
       "    <tr>\n",
       "      <th>4</th>\n",
       "      <td>F</td>\n",
       "      <td>36</td>\n",
       "      <td>27772</td>\n",
       "      <td>Diabetes</td>\n",
       "      <td>34</td>\n",
       "      <td>unchanged</td>\n",
       "    </tr>\n",
       "  </tbody>\n",
       "</table>\n",
       "</div>"
      ],
      "text/plain": [
       "  Gender  Age    Zip            Diagnosis  Treatment         Outcome\n",
       "0      F   10  65418  High Blood Pressure         25  intensive care\n",
       "1      F   14  65475                 COPD         48       unchanged\n",
       "2      F   10  65484  High Blood Pressure         38  intensive care\n",
       "3      F   30  27727        Heart Disease         31       unchanged\n",
       "4      F   36  27772             Diabetes         34       unchanged"
      ]
     },
     "execution_count": 42,
     "metadata": {},
     "output_type": "execute_result"
    }
   ],
   "source": [
    "# Have a quick glance at the data\n",
    "df_reident_synth.head()"
   ]
  },
  {
   "cell_type": "code",
   "execution_count": 43,
   "metadata": {
    "gather": {
     "logged": 1607612945589
    }
   },
   "outputs": [
    {
     "data": {
      "text/html": [
       "<div>\n",
       "<style scoped>\n",
       "    .dataframe tbody tr th:only-of-type {\n",
       "        vertical-align: middle;\n",
       "    }\n",
       "\n",
       "    .dataframe tbody tr th {\n",
       "        vertical-align: top;\n",
       "    }\n",
       "\n",
       "    .dataframe thead th {\n",
       "        text-align: right;\n",
       "    }\n",
       "</style>\n",
       "<table border=\"1\" class=\"dataframe\">\n",
       "  <thead>\n",
       "    <tr style=\"text-align: right;\">\n",
       "      <th></th>\n",
       "      <th>Gender_encoded</th>\n",
       "      <th>Age_encoded</th>\n",
       "      <th>Zip_encoded</th>\n",
       "      <th>Diagnosis_encoded</th>\n",
       "    </tr>\n",
       "  </thead>\n",
       "  <tbody>\n",
       "    <tr>\n",
       "      <th>0</th>\n",
       "      <td>0</td>\n",
       "      <td>10</td>\n",
       "      <td>65418</td>\n",
       "      <td>9</td>\n",
       "    </tr>\n",
       "    <tr>\n",
       "      <th>1</th>\n",
       "      <td>0</td>\n",
       "      <td>14</td>\n",
       "      <td>65475</td>\n",
       "      <td>2</td>\n",
       "    </tr>\n",
       "    <tr>\n",
       "      <th>2</th>\n",
       "      <td>0</td>\n",
       "      <td>10</td>\n",
       "      <td>65484</td>\n",
       "      <td>9</td>\n",
       "    </tr>\n",
       "    <tr>\n",
       "      <th>3</th>\n",
       "      <td>0</td>\n",
       "      <td>30</td>\n",
       "      <td>27727</td>\n",
       "      <td>7</td>\n",
       "    </tr>\n",
       "    <tr>\n",
       "      <th>4</th>\n",
       "      <td>0</td>\n",
       "      <td>36</td>\n",
       "      <td>27772</td>\n",
       "      <td>3</td>\n",
       "    </tr>\n",
       "  </tbody>\n",
       "</table>\n",
       "</div>"
      ],
      "text/plain": [
       "   Gender_encoded  Age_encoded  Zip_encoded  Diagnosis_encoded\n",
       "0               0           10        65418                  9\n",
       "1               0           14        65475                  2\n",
       "2               0           10        65484                  9\n",
       "3               0           30        27727                  7\n",
       "4               0           36        27772                  3"
      ]
     },
     "execution_count": 43,
     "metadata": {},
     "output_type": "execute_result"
    }
   ],
   "source": [
    "# Encode the data set and display it\n",
    "df_reident_encoded = reident.do_encode(df_reident_synth, ['Gender', 'Age', 'Zip', 'Diagnosis'], reident.diseases)\n",
    "df_reident_encoded.head()"
   ]
  },
  {
   "cell_type": "markdown",
   "metadata": {},
   "source": [
    "### Synthesizing the demographic data\n",
    "Finally, we synthesize the data with the MWEM synthesizer. Here are some considerations regarding the parameters:\n",
    "- `Q_count` Should be higher than the number of iterations (at least 5 and 10 times the number of iterations). Default is 400.\n",
    "- `epsilon`The privacy parameter. 3.0 is a good starting points. Lower values correspond to a higher levels of privacy.\n",
    "- `iterations` Comparable to epochs in deep learning. Between 30 and 60. Fewer iterations means that the budget is used more efficiently. Default is 30.\n",
    "- `mult_weights_iterations` Should be less than number of total iterations (usually between 5 and 50). Default is 20.\n",
    "- `splits` MWEM will automatically split the features with split factor if this field isn’t specified. This field overrides split_factor, and creates custom user specified splits of features i.e. for a set with 5 features, [[0,3],[1,2,4]] (implies that features 0 and 3 are correlated, and features 1,2 and 4 are correlated).\n",
    "- `split_factor` Choose highest split factor without affecting performance. Start with number of features, then subdivide by 2 (round up)."
   ]
  },
  {
   "cell_type": "code",
   "execution_count": 44,
   "metadata": {},
   "outputs": [
    {
     "name": "stdout",
     "output_type": "stream",
     "text": [
      "CPU times: user 10.7 s, sys: 7.98 ms, total: 10.7 s\n",
      "Wall time: 10.7 s\n"
     ]
    }
   ],
   "source": [
    "%%time\n",
    "# Apply the synthesizer to the data set\n",
    "synthetic_data = MWEMSynthesizer(Q_count = 400,\n",
    "                        epsilon = 3.00,\n",
    "                        iterations = 60,\n",
    "                        mult_weights_iterations = 40,\n",
    "                        splits = [],\n",
    "                        split_factor = 1)\n",
    "synthetic_data.fit(df_reident_encoded.to_numpy())"
   ]
  },
  {
   "cell_type": "code",
   "execution_count": 45,
   "metadata": {},
   "outputs": [
    {
     "name": "stdout",
     "output_type": "stream",
     "text": [
      "CPU times: user 3.64 s, sys: 44.2 ms, total: 3.68 s\n",
      "Wall time: 3.64 s\n"
     ]
    }
   ],
   "source": [
    "%%time\n",
    "# Convert to dataframe\n",
    "df_synthesized = pd.DataFrame(synthetic_data.sample(int(df_reident_encoded.shape[0])), columns=df_reident_encoded.columns)"
   ]
  },
  {
   "cell_type": "code",
   "execution_count": 46,
   "metadata": {
    "gather": {
     "logged": 1607616212916
    }
   },
   "outputs": [],
   "source": [
    "# Write it to file, if wanted\n",
    "# df_synthesized.to_csv('data/data_synthesized.csv', sep=\",\", encoding=\"utf-8\", index=False)"
   ]
  },
  {
   "cell_type": "markdown",
   "metadata": {},
   "source": [
    "### Compare original and synthetic data\n",
    "Below, we are going to use the `create_histogram` function to illustrate the __diagnoses__ distribution of both data sets. \n",
    "Ideally, the bars for each diagnosis do not differ too much from each other. The more similar the bars are for the respective disease, the less information is lost during the synthetization process."
   ]
  },
  {
   "cell_type": "code",
   "execution_count": 66,
   "metadata": {
    "gather": {
     "logged": 1607616213410
    }
   },
   "outputs": [
    {
     "data": {
      "image/png": "[encoded data removed]",
      "text/plain": [
       "<Figure size 1080x576 with 1 Axes>"
      ]
     },
     "metadata": {
      "image/png": {
       "height": 485,
       "width": 912
      },
      "needs_background": "light"
     },
     "output_type": "display_data"
    }
   ],
   "source": [
    "reident.create_histogram(df_reident_encoded, df_synthesized, 'Diagnosis_encoded', reident.diseases)"
   ]
  },
  {
   "cell_type": "markdown",
   "metadata": {},
   "source": [
    "## Reidentification Attack II - Synthesized Demographic Data + Public Medical Data (non-grouped)\n",
    "Finally, we try the re-identification attack on the synthesized data using the `try_reidentification_noise`-function.\n",
    "As stated above, the synthesized data set has new combinations of demographic data, so we do not deal with the _raw/real_ data any more. While it is possible that a potential match is detected, it is unlikely that we deal with an actual match here."
   ]
  },
  {
   "cell_type": "code",
   "execution_count": 48,
   "metadata": {
    "gather": {
     "logged": 1607616222576
    }
   },
   "outputs": [
    {
     "name": "stdout",
     "output_type": "stream",
     "text": [
      "Medical Dataset:\n"
     ]
    },
    {
     "data": {
      "text/html": [
       "<div>\n",
       "<style scoped>\n",
       "    .dataframe tbody tr th:only-of-type {\n",
       "        vertical-align: middle;\n",
       "    }\n",
       "\n",
       "    .dataframe tbody tr th {\n",
       "        vertical-align: top;\n",
       "    }\n",
       "\n",
       "    .dataframe thead th {\n",
       "        text-align: right;\n",
       "    }\n",
       "</style>\n",
       "<table border=\"1\" class=\"dataframe\">\n",
       "  <thead>\n",
       "    <tr style=\"text-align: right;\">\n",
       "      <th></th>\n",
       "      <th>ID</th>\n",
       "      <th>Gender</th>\n",
       "      <th>Age</th>\n",
       "      <th>Zip</th>\n",
       "      <th>Diagnosis</th>\n",
       "      <th>Treatment</th>\n",
       "      <th>Outcome</th>\n",
       "    </tr>\n",
       "  </thead>\n",
       "  <tbody>\n",
       "    <tr>\n",
       "      <th>24796</th>\n",
       "      <td>a67956cbefd44bba81f380c6482a9673</td>\n",
       "      <td>M</td>\n",
       "      <td>37</td>\n",
       "      <td>32398</td>\n",
       "      <td>Diabetes</td>\n",
       "      <td>42</td>\n",
       "      <td>recovered</td>\n",
       "    </tr>\n",
       "    <tr>\n",
       "      <th>7650</th>\n",
       "      <td>10e82fcd129d4fb1a00d151418bbffae</td>\n",
       "      <td>M</td>\n",
       "      <td>56</td>\n",
       "      <td>17843</td>\n",
       "      <td>High Blood Pressure</td>\n",
       "      <td>36</td>\n",
       "      <td>unchanged</td>\n",
       "    </tr>\n",
       "    <tr>\n",
       "      <th>4616</th>\n",
       "      <td>55f4ada4211b4ed5b9261684c9acd448</td>\n",
       "      <td>M</td>\n",
       "      <td>75</td>\n",
       "      <td>50045</td>\n",
       "      <td>Heart Disease</td>\n",
       "      <td>40</td>\n",
       "      <td>recovered</td>\n",
       "    </tr>\n",
       "    <tr>\n",
       "      <th>6052</th>\n",
       "      <td>e639a1823d854143b45cd43f216c75a2</td>\n",
       "      <td>F</td>\n",
       "      <td>23</td>\n",
       "      <td>11034</td>\n",
       "      <td>Arthritis</td>\n",
       "      <td>33</td>\n",
       "      <td>recovered</td>\n",
       "    </tr>\n",
       "    <tr>\n",
       "      <th>12329</th>\n",
       "      <td>4098ec580fde40cbbe73f6855fb4a849</td>\n",
       "      <td>F</td>\n",
       "      <td>70</td>\n",
       "      <td>13689</td>\n",
       "      <td>Heart Disease</td>\n",
       "      <td>43</td>\n",
       "      <td>intensive care</td>\n",
       "    </tr>\n",
       "  </tbody>\n",
       "</table>\n",
       "</div>"
      ],
      "text/plain": [
       "                                     ID Gender  Age    Zip  \\\n",
       "24796  a67956cbefd44bba81f380c6482a9673      M   37  32398   \n",
       "7650   10e82fcd129d4fb1a00d151418bbffae      M   56  17843   \n",
       "4616   55f4ada4211b4ed5b9261684c9acd448      M   75  50045   \n",
       "6052   e639a1823d854143b45cd43f216c75a2      F   23  11034   \n",
       "12329  4098ec580fde40cbbe73f6855fb4a849      F   70  13689   \n",
       "\n",
       "                 Diagnosis  Treatment         Outcome  \n",
       "24796             Diabetes         42       recovered  \n",
       "7650   High Blood Pressure         36       unchanged  \n",
       "4616         Heart Disease         40       recovered  \n",
       "6052             Arthritis         33       recovered  \n",
       "12329        Heart Disease         43  intensive care  "
      ]
     },
     "metadata": {},
     "output_type": "display_data"
    },
    {
     "name": "stdout",
     "output_type": "stream",
     "text": [
      "\n",
      "Synthesized Demographic Dataset:\n"
     ]
    },
    {
     "data": {
      "text/html": [
       "<div>\n",
       "<style scoped>\n",
       "    .dataframe tbody tr th:only-of-type {\n",
       "        vertical-align: middle;\n",
       "    }\n",
       "\n",
       "    .dataframe tbody tr th {\n",
       "        vertical-align: top;\n",
       "    }\n",
       "\n",
       "    .dataframe thead th {\n",
       "        text-align: right;\n",
       "    }\n",
       "</style>\n",
       "<table border=\"1\" class=\"dataframe\">\n",
       "  <thead>\n",
       "    <tr style=\"text-align: right;\">\n",
       "      <th></th>\n",
       "      <th>Gender_encoded</th>\n",
       "      <th>Age_encoded</th>\n",
       "      <th>Zip_encoded</th>\n",
       "      <th>Diagnosis_encoded</th>\n",
       "    </tr>\n",
       "  </thead>\n",
       "  <tbody>\n",
       "    <tr>\n",
       "      <th>27421</th>\n",
       "      <td>0</td>\n",
       "      <td>54</td>\n",
       "      <td>24387</td>\n",
       "      <td>5</td>\n",
       "    </tr>\n",
       "    <tr>\n",
       "      <th>7278</th>\n",
       "      <td>0</td>\n",
       "      <td>65</td>\n",
       "      <td>75523</td>\n",
       "      <td>9</td>\n",
       "    </tr>\n",
       "    <tr>\n",
       "      <th>24375</th>\n",
       "      <td>1</td>\n",
       "      <td>20</td>\n",
       "      <td>67365</td>\n",
       "      <td>4</td>\n",
       "    </tr>\n",
       "    <tr>\n",
       "      <th>29770</th>\n",
       "      <td>0</td>\n",
       "      <td>61</td>\n",
       "      <td>94625</td>\n",
       "      <td>9</td>\n",
       "    </tr>\n",
       "    <tr>\n",
       "      <th>10291</th>\n",
       "      <td>0</td>\n",
       "      <td>17</td>\n",
       "      <td>87064</td>\n",
       "      <td>3</td>\n",
       "    </tr>\n",
       "  </tbody>\n",
       "</table>\n",
       "</div>"
      ],
      "text/plain": [
       "       Gender_encoded  Age_encoded  Zip_encoded  Diagnosis_encoded\n",
       "27421               0           54        24387                  5\n",
       "7278                0           65        75523                  9\n",
       "24375               1           20        67365                  4\n",
       "29770               0           61        94625                  9\n",
       "10291               0           17        87064                  3"
      ]
     },
     "metadata": {},
     "output_type": "display_data"
    }
   ],
   "source": [
    "print('Medical Dataset:')\n",
    "display(df_medical_synth.sample(5))\n",
    "print('\\nSynthesized Demographic Dataset:')\n",
    "display(df_synthesized.sample(5))"
   ]
  },
  {
   "cell_type": "markdown",
   "metadata": {},
   "source": [
    "### Perform the attack\n",
    "Now, we perform the reidentification attack with the synthetic data, again using a combinatorial approach."
   ]
  },
  {
   "cell_type": "code",
   "execution_count": 58,
   "metadata": {
    "gather": {
     "logged": 1607616380533
    }
   },
   "outputs": [
    {
     "name": "stderr",
     "output_type": "stream",
     "text": [
      "INFO:root:Trying reidentification with DP protected data: 30000. Attacker collection: 30000\n",
      "INFO:root:In this setup, we can only count potential matches. We cannot validate for actual matches, as we do not have the unique patient ids after synthesizing.\n",
      "100%|██████████| 30000/30000 [02:18<00:00, 217.09it/s]\n",
      "INFO:root:Identified 0 potential matches!\n"
     ]
    }
   ],
   "source": [
    "reident_attack_2 = reident.try_reidentification_noise(df_synthesized, df_medical_synth, logger)"
   ]
  },
  {
   "cell_type": "markdown",
   "metadata": {},
   "source": [
    "### Results of the attack\n",
    "Below, we show the amount of potential and actual matches and provide a glance at the data."
   ]
  },
  {
   "cell_type": "code",
   "execution_count": 65,
   "metadata": {
    "gather": {
     "logged": 1607614839320
    }
   },
   "outputs": [
    {
     "name": "stdout",
     "output_type": "stream",
     "text": [
      "Found 0 potential matches!\n"
     ]
    },
    {
     "data": {
      "text/html": [
       "<div>\n",
       "<style scoped>\n",
       "    .dataframe tbody tr th:only-of-type {\n",
       "        vertical-align: middle;\n",
       "    }\n",
       "\n",
       "    .dataframe tbody tr th {\n",
       "        vertical-align: top;\n",
       "    }\n",
       "\n",
       "    .dataframe thead th {\n",
       "        text-align: right;\n",
       "    }\n",
       "</style>\n",
       "<table border=\"1\" class=\"dataframe\">\n",
       "  <thead>\n",
       "    <tr style=\"text-align: right;\">\n",
       "      <th></th>\n",
       "      <th>ID</th>\n",
       "      <th>Gender</th>\n",
       "      <th>Age</th>\n",
       "      <th>Zip</th>\n",
       "      <th>Diagnosis</th>\n",
       "      <th>Treatment</th>\n",
       "      <th>Outcome</th>\n",
       "    </tr>\n",
       "  </thead>\n",
       "  <tbody>\n",
       "  </tbody>\n",
       "</table>\n",
       "</div>"
      ],
      "text/plain": [
       "Empty DataFrame\n",
       "Columns: [ID, Gender, Age, Zip, Diagnosis, Treatment, Outcome]\n",
       "Index: []"
      ]
     },
     "execution_count": 65,
     "metadata": {},
     "output_type": "execute_result"
    }
   ],
   "source": [
    "print(f'Found {len(reident_attack_2)} potential matches!')\n",
    "reident_attack_2.head()"
   ]
  },
  {
   "cell_type": "code",
   "execution_count": 62,
   "metadata": {},
   "outputs": [
    {
     "data": {
      "image/png": "[encoded data removed]",
      "text/plain": [
       "<Figure size 1080x648 with 1 Axes>"
      ]
     },
     "metadata": {
      "image/png": {
       "height": 525,
       "width": 540
      }
     },
     "output_type": "display_data"
    }
   ],
   "source": [
    "# Plot the distribution as pie chart\n",
    "reident.reident_plot(reident_attack_2, df_medical_synth, 'ID')"
   ]
  }
 ],
 "metadata": {
  "kernel_info": {
   "name": "python3"
  },
  "kernelspec": {
   "display_name": "Python 3",
   "language": "python",
   "name": "python3"
  },
  "language_info": {
   "codemirror_mode": {
    "name": "ipython",
    "version": 3
   },
   "file_extension": ".py",
   "mimetype": "text/x-python",
   "name": "python",
   "nbconvert_exporter": "python",
   "pygments_lexer": "ipython3",
   "version": "3.6.9"
  },
  "nteract": {
   "version": "nteract-front-end@1.0.0"
  }
 },
 "nbformat": 4,
 "nbformat_minor": 4
}
