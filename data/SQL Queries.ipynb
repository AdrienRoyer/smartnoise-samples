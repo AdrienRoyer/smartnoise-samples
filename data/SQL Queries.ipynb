{
 "cells": [
  {
   "cell_type": "markdown",
   "metadata": {},
   "source": [
    "# SQL Queries with Differential Privacy"
   ]
  },
  {
   "cell_type": "code",
   "execution_count": 8,
   "metadata": {},
   "outputs": [
    {
     "name": "stdout",
     "output_type": "stream",
     "text": [
      " married  |n      \n",
      " ---------|-------\n",
      "  False   | 434   \n",
      "  True    | 552   \n"
     ]
    }
   ],
   "source": [
    "import pandas as pd\n",
    "from opendp.whitenoise.sql import PandasReader, PrivateReader\n",
    "from opendp.whitenoise.metadata import CollectionMetadata\n",
    "\n",
    "pums = pd.read_csv('readers/PUMS.csv')\n",
    "meta = CollectionMetadata.from_file('readers/PUMS.yaml')\n",
    "\n",
    "query = 'SELECT married, COUNT(*) AS n FROM PUMS.PUMS GROUP BY married'\n",
    "\n",
    "reader = PandasReader(meta, pums)\n",
    "private_reader = PrivateReader(meta, reader)\n",
    "\n",
    "result = private_reader.execute_typed(query)\n",
    "print(result)"
   ]
  },
  {
   "cell_type": "markdown",
   "metadata": {},
   "source": [
    "In the above example, we query the PUMS microdata to get the count of individuals by marriage status.  If you run the above cell repeatedly, you will see that the answer changes a bit bewteen queries.\n",
    "\n",
    "The `PrivateReader` class works by wrapping any SQL data source that returns typed tuples.  In this sample, we wrap a `PandasReader`, which returns SQL queries against Pandas dataframes:"
   ]
  },
  {
   "cell_type": "code",
   "execution_count": 9,
   "metadata": {},
   "outputs": [
    {
     "name": "stdout",
     "output_type": "stream",
     "text": [
      " married|n      \n",
      " -------|-------\n",
      "  0     | 451   \n",
      "  1     | 549   \n"
     ]
    }
   ],
   "source": [
    "reader = PandasReader(meta, pums)\n",
    "result = reader.execute_typed(query)\n",
    "print(result)"
   ]
  },
  {
   "cell_type": "markdown",
   "metadata": {},
   "source": [
    "Calling the underlying `Reader` directly will give the exact result.  The `Reader` implementations do not know anything about differential privacy, and simply return SQL query results.  In addition to the `PandasReader`, we provide built-in `SqlServerReader`, `PostgresReader`, `SparkReader`, and `PrestoReader`.  The `Reader` interface is extensible, so developers can wrap existing DB-API drivers to provide access to other popular database engines.\n",
    "\n",
    "The `PrivateReader` exposes the same interface as any other reader, allowing you to swap in differentially private results wherever exact results are currently used.  The `PrivateReader` accepts some additional paramaters to control privacy/accuracy tradeoff:"
   ]
  },
  {
   "cell_type": "code",
   "execution_count": 12,
   "metadata": {},
   "outputs": [
    {
     "name": "stdout",
     "output_type": "stream",
     "text": [
      " married  |n      \n",
      " ---------|-------\n",
      "  False   | 451   \n",
      "  True    | 548   \n",
      "\n",
      " married  |n      \n",
      " ---------|-------\n",
      "  False   | 409   \n",
      "  True    | 533   \n"
     ]
    }
   ],
   "source": [
    "private_reader = PrivateReader(meta, reader, 4.0)  # large epsilon, less privacy\n",
    "result = private_reader.execute_typed(query)\n",
    "print(result)\n",
    "print()\n",
    "\n",
    "private_reader = PrivateReader(meta, reader, 0.1)  # smaller epsilon, more privacy\n",
    "result = private_reader.execute_typed(query)\n",
    "print(result)\n"
   ]
  },
  {
   "cell_type": "markdown",
   "metadata": {},
   "source": [
    "## Metadata\n",
    "\n",
    "The `PrivateReader` needs some metadata that describes the data source.  Differentially private processing needs to know which columns can be used in numeric computations, as well as information about the sensitivity of data, and which column is the private identifier.  Metadata should be provided by the data owner, and should not be data-dependent.  For example, the acceptable range for the `age` column should be domain-specific, and should not use the actual minimum and maximum values from the data:"
   ]
  },
  {
   "cell_type": "code",
   "execution_count": 14,
   "metadata": {},
   "outputs": [
    {
     "name": "stdout",
     "output_type": "stream",
     "text": [
      "PUMS.PUMS [1000 rows]\n",
      "\tage [int] (0,100)\n",
      "\tsex (card: 0)\n",
      "\teduc [int] (unbounded)\n",
      "\trace (card: 0)\n",
      "\tincome [int] (0,500000)\n",
      "\tmarried (boolean)\n",
      "\t*pid [int] (unbounded)\n"
     ]
    }
   ],
   "source": [
    "meta = CollectionMetadata.from_file('readers/PUMS.yaml')\n",
    "print(meta)"
   ]
  },
  {
   "cell_type": "code",
   "execution_count": null,
   "metadata": {},
   "outputs": [],
   "source": []
  }
 ],
 "metadata": {
  "kernelspec": {
   "display_name": "Python 3.7.5 64-bit",
   "language": "python",
   "name": "python37564bitdbd9d0dc350f4605abcc2fbce4cbf5db"
  },
  "language_info": {
   "codemirror_mode": {
    "name": "ipython",
    "version": 3
   },
   "file_extension": ".py",
   "mimetype": "text/x-python",
   "name": "python",
   "nbconvert_exporter": "python",
   "pygments_lexer": "ipython3",
   "version": "3.7.5"
  }
 },
 "nbformat": 4,
 "nbformat_minor": 2
}
