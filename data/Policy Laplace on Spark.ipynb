{
 "cells": [
  {
   "cell_type": "markdown",
   "metadata": {},
   "source": [
    "# Policy Laplace on Spark"
   ]
  },
  {
   "cell_type": "code",
   "execution_count": 1,
   "metadata": {},
   "outputs": [],
   "source": [
    "import pyspark\n",
    "import numpy as np\n",
    "from pyspark.sql import SparkSession\n",
    "from pyspark.sql.functions import *\n",
    "spark = SparkSession.builder.getOrCreate()"
   ]
  },
  {
   "cell_type": "code",
   "execution_count": 2,
   "metadata": {},
   "outputs": [],
   "source": [
    "filepath = \"../../differentially-private-set-union/data/clean_askreddit.csv\"\n",
    "reddit = spark.read.load(filepath, format=\"csv\", sep=\",\",inferSchema=\"true\", header=\"true\").dropna()"
   ]
  },
  {
   "cell_type": "code",
   "execution_count": 3,
   "metadata": {},
   "outputs": [],
   "source": [
    "import token_utils as ut\n",
    "\n",
    "tokens_per_user = 100\n",
    "n_grams = 1\n",
    "\n",
    "def tokenize(posts):\n",
    "    posts = [p.split(\" \") for p in posts]\n",
    "    if n_grams > 1:\n",
    "        posts = [ut.tokens2ngram(p, n_grams) for p in posts]\n",
    "    words = [tokens for p in posts for tokens in p]\n",
    "    all_grams = list(set(words))\n",
    "    if tokens_per_user > 1 and len(all_grams) > tokens_per_user:\n",
    "        selected_ngrams = np.random.choice(all_grams, size=tokens_per_user, replace=False).tolist()\n",
    "    else:\n",
    "        selected_ngrams = all_grams\n",
    "    return selected_ngrams\n",
    "        \n",
    "tokenized = reddit.select(\"author\", \"clean_text\").rdd.groupByKey().map(lambda row: (row[0], tokenize(row[1]))).persist()"
   ]
  },
  {
   "cell_type": "code",
   "execution_count": 4,
   "metadata": {},
   "outputs": [
    {
     "name": "stdout",
     "output_type": "stream",
     "text": [
      "Params Delta_0=100, delta=4.54e-05, l_param=0.3333333333333333, l_rho=4.6473335106659235, Gamma=6.31400017733259\n"
     ]
    }
   ],
   "source": [
    "from policy_laplace import PolicyLaplace\n",
    "\n",
    "epsilon = 3.0\n",
    "delta = np.exp(-10)\n",
    "alpha = 5.0\n",
    "\n",
    "pl = PolicyLaplace(epsilon, delta, alpha, tokens_per_user)"
   ]
  },
  {
   "cell_type": "code",
   "execution_count": 5,
   "metadata": {},
   "outputs": [],
   "source": [
    "ngh = tokenized.repartition(1).mapPartitions(pl.process_rows).take(1)"
   ]
  },
  {
   "cell_type": "code",
   "execution_count": 6,
   "metadata": {},
   "outputs": [
    {
     "name": "stdout",
     "output_type": "stream",
     "text": [
      "Retrieved 14758 words from 137921\n"
     ]
    }
   ],
   "source": [
    "output_vocab = {}\n",
    "for ng in ngh:\n",
    "    for key, val in ng.items():\n",
    "        if pl.exceeds_threshold(val):\n",
    "            output_vocab[key] = val\n",
    "    print(\"Retrieved {0} words from {1}\".format(len(output_vocab),len(ngh[0].items())))\n"
   ]
  },
  {
   "cell_type": "code",
   "execution_count": null,
   "metadata": {},
   "outputs": [],
   "source": [
    "\n"
   ]
  }
 ],
 "metadata": {
  "kernelspec": {
   "display_name": "Python 3",
   "language": "python",
   "name": "python3"
  },
  "language_info": {
   "codemirror_mode": {
    "name": "ipython",
    "version": 3
   },
   "file_extension": ".py",
   "mimetype": "text/x-python",
   "name": "python",
   "nbconvert_exporter": "python",
   "pygments_lexer": "ipython3",
   "version": "3.7.6"
  }
 },
 "nbformat": 4,
 "nbformat_minor": 4
}
