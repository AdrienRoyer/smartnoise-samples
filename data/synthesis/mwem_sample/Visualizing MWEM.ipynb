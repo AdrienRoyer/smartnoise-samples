{
 "cells": [
  {
   "cell_type": "markdown",
   "metadata": {},
   "source": [
    "## Fake data to visualize MWEM's histograms\n",
    "MWEM works by first creating a uniformly distributed histogram out of real data. It then iteratively updates this histogram with noisy samples from the real data. In other words, using the multiplicative weights mechanism, MWEM updates the histograms \"weights\" via the DP exponential mechanism (for querying the original data).\n",
    "\n",
    "Here, we create a heatmap from the histograms. We visualize the histogram made from the real data, and the differentially private histogram. Brighter values correspond to more higher probability bins in each histogram."
   ]
  },
  {
   "cell_type": "code",
   "execution_count": null,
   "metadata": {},
   "outputs": [],
   "source": [
    "import os\n",
    "import pandas as pd\n",
    "import numpy as np\n",
    "\n",
    "import matplotlib as mpl\n",
    "import matplotlib.pyplot as plt\n",
    "from mpl_toolkits.mplot3d import Axes3D\n",
    "\n",
    "from opendp.whitenoise.synthesizers.mwem import MWEMSynthesizer"
   ]
  },
  {
   "cell_type": "code",
   "execution_count": null,
   "metadata": {},
   "outputs": [],
   "source": [
    "def plot_histo(title,histo):\n",
    "    fig = plt.figure(figsize=(6, 6))\n",
    "    ax = fig.add_subplot(111)\n",
    "    ax.set_title(title)\n",
    "    plt.imshow(histo)\n",
    "    ax.set_aspect('equal')\n",
    "    cax = fig.add_axes([0.1, 1.0, 1., 0.1])\n",
    "    cax.get_xaxis().set_visible(False)\n",
    "    cax.get_yaxis().set_visible(False)\n",
    "    cax.set_frame_on(False)\n",
    "    plt.colorbar(orientation='horizontal')\n",
    "    plt.show()\n"
   ]
  },
  {
   "cell_type": "code",
   "execution_count": null,
   "metadata": {},
   "outputs": [],
   "source": [
    "df = pd.read_csv('datasets/fake_data_2d.csv')\n",
    "nf = df.to_numpy()\n",
    "\n",
    "synth = MWEMSynthesizer(400, 10.0, 30, 20,[[0,1]])\n",
    "synth.fit(nf)\n",
    "\n",
    "plot_histo('\"Real\" Data', synth.synthetic_histograms[0][1])\n",
    "plot_histo('\"Fake\" Data', synth.synthetic_histograms[0][0])"
   ]
  },
  {
   "cell_type": "markdown",
   "metadata": {},
   "source": [
    "## Effect of Bin Count\n",
    "Here we can visualize the effect of specifying a max_bin_count. In the original data, we have 100 bins. If we halve that, we see that we still do a pretty good job at capturing the overall distribution."
   ]
  },
  {
   "cell_type": "code",
   "execution_count": null,
   "metadata": {},
   "outputs": [],
   "source": [
    "df = pd.read_csv('fake_data_2d.csv')\n",
    "nf = df.to_numpy()\n",
    "\n",
    "synth = MWEMSynthesizer(400, 10.0, 30, 20,[[0,1]], max_bin_count=50)\n",
    "synth.fit(nf)\n",
    "\n",
    "plot_histo('\"Real\" Data', synth.synthetic_histograms[0][1])\n",
    "plot_histo('\"Fake\" Data', synth.synthetic_histograms[0][0])"
   ]
  }
 ],
 "metadata": {
  "kernelspec": {
   "display_name": "Python 3",
   "language": "python",
   "name": "python3"
  },
  "language_info": {
   "codemirror_mode": {
    "name": "ipython",
    "version": 3
   },
   "file_extension": ".py",
   "mimetype": "text/x-python",
   "name": "python",
   "nbconvert_exporter": "python",
   "pygments_lexer": "ipython3",
   "version": "3.8.1"
  }
 },
 "nbformat": 4,
 "nbformat_minor": 4
}
